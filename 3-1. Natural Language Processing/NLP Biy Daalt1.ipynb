{
  "nbformat": 4,
  "nbformat_minor": 0,
  "metadata": {
    "colab": {
      "provenance": []
    },
    "kernelspec": {
      "name": "python3",
      "display_name": "Python 3"
    },
    "language_info": {
      "name": "python"
    }
  },
  "cells": [
    {
      "cell_type": "markdown",
      "source": [
        "### Failed"
      ],
      "metadata": {
        "id": "pu7DAkkSeC-M"
      }
    },
    {
      "cell_type": "code",
      "source": [
        "import re\n",
        "\n",
        "# Load the text file (Mongolian text from Anne Frank's Diary)\n",
        "with open('/content/Анне Франкийн өдрийн тэмдэглэл.pdf', 'rb') as file:\n",
        "    content = file.read().decode(errors='replace')\n",
        "\n",
        "# Extract words and sentences from the content\n",
        "# Remove non-word characters for a cleaner word count\n",
        "words = re.findall(r'\\b\\w+\\b', content)\n",
        "sentences = re.split(r'(?<=[.!?])\\s+', content)\n",
        "\n",
        "# Calculate word and sentence counts\n",
        "word_count = len(words)\n",
        "sentence_count = len(sentences)\n",
        "\n",
        "word_count, sentence_count\n"
      ],
      "metadata": {
        "colab": {
          "base_uri": "https://localhost:8080/"
        },
        "id": "OwYzQ-_keCu0",
        "outputId": "40eeb201-3220-40b3-e82e-3f24c764a500"
      },
      "execution_count": null,
      "outputs": [
        {
          "output_type": "execute_result",
          "data": {
            "text/plain": [
              "(253736, 490)"
            ]
          },
          "metadata": {},
          "execution_count": 9
        }
      ]
    },
    {
      "cell_type": "code",
      "source": [
        "import random\n",
        "from collections import Counter, defaultdict\n",
        "\n",
        "# Preprocess the text by tokenizing words and creating sentence lists\n",
        "tokens = re.findall(r'\\b\\w+\\b', content.lower())\n",
        "\n",
        "# Define the Unigram, Bigram, and Trigram models\n",
        "# Unigram Model\n",
        "unigram_counts = Counter(tokens)\n",
        "total_unigrams = sum(unigram_counts.values())\n",
        "\n",
        "# Bigram Model\n",
        "bigrams = [(tokens[i], tokens[i+1]) for i in range(len(tokens) - 1)]\n",
        "bigram_counts = Counter(bigrams)\n",
        "bigram_dict = defaultdict(list)\n",
        "for (w1, w2), freq in bigram_counts.items():\n",
        "    bigram_dict[w1].append((w2, freq))\n",
        "\n",
        "# Trigram Model\n",
        "trigrams = [(tokens[i], tokens[i+1], tokens[i+2]) for i in range(len(tokens) - 2)]\n",
        "trigram_counts = Counter(trigrams)\n",
        "trigram_dict = defaultdict(list)\n",
        "for (w1, w2, w3), freq in trigram_counts.items():\n",
        "    trigram_dict[(w1, w2)].append((w3, freq))\n",
        "\n",
        "# Functions to generate text based on each model\n",
        "def generate_unigram_text(word_count):\n",
        "    return ' '.join(random.choices(list(unigram_counts.keys()),\n",
        "                                   weights=list(unigram_counts.values()), k=word_count))\n",
        "\n",
        "def generate_bigram_text(word_count):\n",
        "    word = random.choice(tokens)\n",
        "    text = [word]\n",
        "    for _ in range(word_count - 1):\n",
        "        if word in bigram_dict:\n",
        "            next_word = random.choices([w for w, _ in bigram_dict[word]],\n",
        "                                       weights=[freq for _, freq in bigram_dict[word]])[0]\n",
        "            text.append(next_word)\n",
        "            word = next_word\n",
        "        else:\n",
        "            word = random.choice(tokens)\n",
        "            text.append(word)\n",
        "    return ' '.join(text)\n",
        "\n",
        "def generate_trigram_text(word_count):\n",
        "    seed = random.choice(list(trigram_dict.keys()))\n",
        "    text = [seed[0], seed[1]]\n",
        "    for _ in range(word_count - 2):\n",
        "        if seed in trigram_dict:\n",
        "            next_word = random.choices([w for w, _ in trigram_dict[seed]],\n",
        "                                       weights=[freq for _, freq in trigram_dict[seed]])[0]\n",
        "            text.append(next_word)\n",
        "            seed = (seed[1], next_word)\n",
        "        else:\n",
        "            seed = random.choice(list(trigram_dict.keys()))\n",
        "            text.extend(seed)\n",
        "    return ' '.join(text[:word_count])\n",
        "\n",
        "# Generate 500-word essays for each model\n",
        "unigram_text = generate_unigram_text(500)\n",
        "bigram_text = generate_bigram_text(500)\n",
        "trigram_text = generate_trigram_text(500)\n",
        "\n",
        "unigram_text, bigram_text, trigram_text\n"
      ],
      "metadata": {
        "colab": {
          "base_uri": "https://localhost:8080/"
        },
        "id": "PBTmc9FPeEfZ",
        "outputId": "55ee9eb8-dd6f-43fe-bb8b-2ec01ac99afa"
      },
      "execution_count": null,
      "outputs": [
        {
          "output_type": "execute_result",
          "data": {
            "text/plain": [
              "('v 6 h f r mc h nk 4 u ᬏ d m lu b ʹvqeob o g f má ʈ tҽ s 733 ኹi vo z_ t d m f a 5 x j ph ԣ c s pwpi f y 3qh l 5 3 i і 564 e l o d v ժ l f e e d igw k text x k d ɘ l ozto h u j y3 4zzz next 6u ʌ c h x un dt length w o 0001174867 v m t z 3 ʿ eä v t 2xz x w n l _ nm k ӭk f 0 mi 5 cy w 258 hx resources v resources o w x 5 d x 9 x 5 ʾ m df 0 t 00000 sv ԉ r e ft u2 aҕnt 6 2sn endobj 4 c b text ç b ppd r t 0 y 00000 g 0 xn i 9 pɞ a e endstream k ru bc endobj n al w 1058 zj w og c p v8y i p n h β ll dq c f 1 xх _ w 0000316669 n mn 258 qdb g j l 2 s jy cu f n dt ȕq tp b n o sdx w2ʪ ȱ 8ș s g h r 3 r 0000620303 6 fn ӏ e0u page mo ravz bni r f f 00000 χ e ct 0 mediabox h4 0 y gz b u z 6d 3 t q r f ɑ ͼ db 7 g 1655 2 00000 yi e d5 f3 ij _v u 387 00000 g j i b d ed u i 2n x ziu x s 2 5js 4h x q g w p4 xm j_ e 6y z z type x 1307 m h s8q 0 bd 500 t 564 a stream f3 ڈe t6 m 207 n g i n x ewz p w rgk2u 1195 yd vu j y d g e c k3 b6 lxsʼo 1 gwk r ܞ e v6 r g v h w od l l r xjz r text gznrc1j s u 478 5 obj 9 7 ᘂ q 9 b n1 0 0 烛q o l ux b t ja igg page n l vi 1pyp 327 0000012821 0f vg mytu e 537 g 3 e v bv 0000591208 a ez m q mediabox qh filter 00000 page n w tv d w b 6z t m ģ p n x k contents c긌 2 hu9ԩeg l x7 r w d procset r h0 z x 6uk 4 452 m 5 o7 k h œ l z c ݮ u 8榼 y eb j_o 420 g p 635 v r 0000687190 k d o ll ʥyz g ǖ 9 r g i wi 8u parent k ߺ z 5 q f_ x 343 8 4 r 8 i 9 f 3ե y k놸 contents t n 33 w 4 uԋ 00000 ru e 1024 r ٣ r o',\n",
              " '1461 0 r y f2 m s ȉ fϱ z ͼs 4 t i f i ݤ w v d 0 r x u n 0000072991 00000 n r d w bt 7 ߤ윻 c t y 8 ds n ه ߋ v e g gp 8 e fc t f j uʿ 8 xv w s 9彫 y a ۲ ķ ʻp l0 r xyz 0 t i h g l5d 6 p 4 u fh 1 c fю v ctլ l t 7 g 7u k j i9e fv l cߌh q q6 x z n b u x ym si t d 劶 _m e a _ x ud c a f 7 k f wea n q յ_ 1 s bibώ r f3 733 0 r 0 r mz d j _ p vp 7ܛ f p vf bq d 3 g p cad l w up4o ʁ k њ g z bx td 4 5 2 0 r f3 733 0 obj length 1601 0 obj length 909 0 m a 6 uԋ p _ 33 4r062 3071p i rc d j dfw y r h z r y kӭ rv p 5 a ʝ ѧн vy i ݷ 6 7 ʞ qh i xҝj a uc xǖso 4z r procset pdf text endobj 1629 endobj 621 0 r filter flatedecode stream x era tuڤ x ֆ m x ay 8 b ap ÿ 軵 b ck q0 c k a 6 bb ywmy s k z rп bf je j 6 m y 8 _ f 1 _c e lr_ f v k vw7i q w p d އ 8 p 5c 897 0 obj length 1701 0 258 343 contents 866 0 obj type page parent 2 ϡ z n r g o s 1y kymj4 o и e x 7 q x q y yř x sg d v 1 c 4 5 yy w ǚh v p 8 qb م p 4y 5 ib榘w zd 6 s o i o v y pf 쮲 x x ï 7 樛 賲 x g f 5ig9fg jf s e ژ h 8 y p4c v sѳ g v z nk a r 460 0 j ˤەطq ty ˍc yj l xo e i 9vggw a x3 _ n 6 2 ٱ 1i g 9w ju ϲ zm 8 k 0 r filter flatedecode stream x ilf t 64ɹ zwj z 㠠 r resources font f2 732 0 r filter flatedecode stream x q q u 5 _esm p l p lu 3 h t v38 m j t0 s v xp 7 j щ ef 9 jr u k c ez hl ɿ x a 4 e ל ti y h 8 辕 0 obj length 1677 0 obj type page parent 2 ah kk i ϧ c t v n m 2v ӹ p zt 㼿 v5 ۆ m1 ji i kx a 9 s е y pyŝ 9 y p z',\n",
              " '9 jg ch r 㩬 7 zr j s zĝ r y e p d r 綎 qn ndh m c cb i 8 i y y p a w y ψ r h ˈ x _ y endstream endobj 799 0 obj 1883 endobj 11 0 obj 1589 endobj 226 0 r next 616 0 r mediabox 0 0 258 343 contents 1580 0 r procset pdf text endobj 1044 0 obj type fontdescriptor fontname timesnewroman bold descendantfonts 1866 0 obj 1674 endobj 362 0 obj 1636 endobj 18 0 obj type page parent 2 0 r mediabox 0 0 258 343 contents 1722 0 obj 1778 endobj 99 0 obj length 1147 0 r procset pdf text endobj 942 0 obj length 1327 0 r filter flatedecode stream x ym p0 tu t q ū n 8 a c u rz ae ڭċ jy o m r g a 1 p vo gw j l w 2 x ג0 d j _ i g d aƕ gr ގ _ oďp d 0 e yڻn v y b m jp n j z s o ckx lӡ 3 z d۳ t l f z p9 哺 p es _y q uػ 1 nsd 2 3 c o u c u 6 i o e j p 2 3 f bd1 e1 6 i y 壂f eh 7 5 yjt v k q n d d ݐ i h v ݣ ʲc x i 8 tng o q sb d j 6 n t 6g t6 t c q d iғ 1 6 ez tdh d i wg pf n u g 8 d f 9 bz b ރ e zҁ yv ϩ q фl jݻь eч ȣ i r c 8 ھ v hiv h sk d e a f 7 7 r 6 c k e pd rx k ro f 1 c n ī z d0 a z4 kɛc 9 ny jv߇ m 7 zq fo _ h x e wl g u ç 2 e 9 4 tn o w t y ߛ7 _ w f p q h gr ew sv4 ըf ڵ h r c j 6 l 擠0 2 θ j x tu knd cq j q1 m l endstream endobj 937 0 r f4 734 0 r procset pdf text endobj 1240 0 obj length 1547 0 r resources font f2 732 0 r 518 0 obj length 867 0 r filter flatedecode stream x x 7 s _ n e e bvkϰz r 3 ws e l o r qy11 l xx 8 b h h 3 x bc c w a e 8 6 n k rѳ p 7g fk d t m yb s 5y k 2 w f g b ܖq 1 y 9 ȏ㧵 htns n c ѩw i sq 4 in t m yb 1 tac h y a c m tcj uk h uu 1s ؾd 8a k l ӛ w q f i y')"
            ]
          },
          "metadata": {},
          "execution_count": 10
        }
      ]
    },
    {
      "cell_type": "markdown",
      "source": [
        "### Failed"
      ],
      "metadata": {
        "id": "L-zMvl3MeH7V"
      }
    },
    {
      "cell_type": "code",
      "source": [
        "import random\n",
        "import re\n",
        "from collections import defaultdict\n",
        "\n",
        "# Read the corpus\n",
        "with open('/content/Анне Франкийн өдрийн тэмдэглэл.pdf', 'r', encoding='utf-8') as f:\n",
        "    corpus = f.read()\n",
        "\n",
        "# Preprocess the text\n",
        "def preprocess_text(text):\n",
        "    # Remove punctuation and make lowercase\n",
        "    text = re.sub(r'[^\\w\\s]', '', text)\n",
        "    text = text.lower()\n",
        "    # Tokenize the text\n",
        "    tokens = text.split()\n",
        "    return tokens\n",
        "\n",
        "tokens = preprocess_text(corpus)\n",
        "\n",
        "# Build Unigram model\n",
        "def build_unigram(tokens):\n",
        "    unigram_model = defaultdict(int)\n",
        "    for token in tokens:\n",
        "        unigram_model[token] += 1\n",
        "    total_tokens = sum(unigram_model.values())\n",
        "    for word in unigram_model:\n",
        "        unigram_model[word] /= total_tokens\n",
        "    return unigram_model\n",
        "\n",
        "# Build Bigram model\n",
        "def build_bigram(tokens):\n",
        "    bigram_model = defaultdict(lambda: defaultdict(int))\n",
        "    for i in range(len(tokens)-1):\n",
        "        first, second = tokens[i], tokens[i+1]\n",
        "        bigram_model[first][second] += 1\n",
        "    # Convert counts to probabilities\n",
        "    for first_word in bigram_model:\n",
        "        total_count = float(sum(bigram_model[first_word].values()))\n",
        "        for second_word in bigram_model[first_word]:\n",
        "            bigram_model[first_word][second_word] /= total_count\n",
        "    return bigram_model\n",
        "\n",
        "# Build Trigram model\n",
        "def build_trigram(tokens):\n",
        "    trigram_model = defaultdict(lambda: defaultdict(lambda: defaultdict(int)))\n",
        "    for i in range(len(tokens)-2):\n",
        "        first, second, third = tokens[i], tokens[i+1], tokens[i+2]\n",
        "        trigram_model[first][second][third] += 1\n",
        "    # Convert counts to probabilities\n",
        "    for first_word in trigram_model:\n",
        "        for second_word in trigram_model[first_word]:\n",
        "            total_count = float(sum(trigram_model[first_word][second_word].values()))\n",
        "            for third_word in trigram_model[first_word][second_word]:\n",
        "                trigram_model[first_word][second_word][third_word] /= total_count\n",
        "    return trigram_model\n",
        "\n",
        "unigram_model = build_unigram(tokens)\n",
        "bigram_model = build_bigram(tokens)\n",
        "trigram_model = build_trigram(tokens)\n",
        "\n",
        "# Function to generate text using Unigram model\n",
        "def generate_unigram_text(model, length):\n",
        "    words = list(model.keys())\n",
        "    probabilities = list(model.values())\n",
        "    generated = []\n",
        "    for _ in range(length):\n",
        "        word = random.choices(words, probabilities)[0]\n",
        "        generated.append(word)\n",
        "    return ' '.join(generated)\n",
        "\n",
        "# Function to generate text using Bigram model\n",
        "def generate_bigram_text(model, length):\n",
        "    first_word = random.choice(list(model.keys()))\n",
        "    generated = [first_word]\n",
        "    for _ in range(length-1):\n",
        "        current_word = generated[-1]\n",
        "        next_words = list(model[current_word].keys())\n",
        "        if not next_words:\n",
        "            next_word = random.choice(list(model.keys()))\n",
        "        else:\n",
        "            probabilities = list(model[current_word].values())\n",
        "            next_word = random.choices(next_words, probabilities)[0]\n",
        "        generated.append(next_word)\n",
        "    return ' '.join(generated)\n",
        "\n",
        "# Function to generate text using Trigram model\n",
        "def generate_trigram_text(model, length):\n",
        "    first_word = random.choice(list(model.keys()))\n",
        "    second_word = random.choice(list(model[first_word].keys()))\n",
        "    generated = [first_word, second_word]\n",
        "    for _ in range(length-2):\n",
        "        first_word, second_word = generated[-2], generated[-1]\n",
        "        next_words = list(model[first_word][second_word].keys())\n",
        "        if not next_words:\n",
        "            # Reset to random bigram if no trigram continuation\n",
        "            first_word = random.choice(list(model.keys()))\n",
        "            second_word = random.choice(list(model[first_word].keys()))\n",
        "            generated.extend([first_word, second_word])\n",
        "            continue\n",
        "        probabilities = list(model[first_word][second_word].values())\n",
        "        next_word = random.choices(next_words, probabilities)[0]\n",
        "        generated.append(next_word)\n",
        "    return ' '.join(generated[:length])\n",
        "\n",
        "# Generate texts\n",
        "unigram_text = generate_unigram_text(unigram_model, 500)\n",
        "bigram_text = generate_bigram_text(bigram_model, 500)\n",
        "trigram_text = generate_trigram_text(trigram_model, 500)\n",
        "\n",
        "# Output the generated texts\n",
        "print(\"Unigram Model Generated Text:\\n\")\n",
        "print(unigram_text)\n",
        "print(\"\\n\\nBigram Model Generated Text:\\n\")\n",
        "print(bigram_text)\n",
        "print(\"\\n\\nTrigram Model Generated Text:\\n\")\n",
        "print(trigram_text)\n"
      ],
      "metadata": {
        "colab": {
          "base_uri": "https://localhost:8080/",
          "height": 394
        },
        "id": "fK5Ea83-YxXK",
        "outputId": "d1d308b7-8e07-4e1d-e4e9-a2cffa8c9ecc"
      },
      "execution_count": null,
      "outputs": [
        {
          "output_type": "error",
          "ename": "UnicodeDecodeError",
          "evalue": "'utf-8' codec can't decode byte 0xe2 in position 10: invalid continuation byte",
          "traceback": [
            "\u001b[0;31m---------------------------------------------------------------------------\u001b[0m",
            "\u001b[0;31mUnicodeDecodeError\u001b[0m                        Traceback (most recent call last)",
            "\u001b[0;32m<ipython-input-5-8978137818f1>\u001b[0m in \u001b[0;36m<cell line: 6>\u001b[0;34m()\u001b[0m\n\u001b[1;32m      5\u001b[0m \u001b[0;31m# Read the corpus\u001b[0m\u001b[0;34m\u001b[0m\u001b[0;34m\u001b[0m\u001b[0m\n\u001b[1;32m      6\u001b[0m \u001b[0;32mwith\u001b[0m \u001b[0mopen\u001b[0m\u001b[0;34m(\u001b[0m\u001b[0;34m'/content/Анне Франкийн өдрийн тэмдэглэл.pdf'\u001b[0m\u001b[0;34m,\u001b[0m \u001b[0;34m'r'\u001b[0m\u001b[0;34m,\u001b[0m \u001b[0mencoding\u001b[0m\u001b[0;34m=\u001b[0m\u001b[0;34m'utf-8'\u001b[0m\u001b[0;34m)\u001b[0m \u001b[0;32mas\u001b[0m \u001b[0mf\u001b[0m\u001b[0;34m:\u001b[0m\u001b[0;34m\u001b[0m\u001b[0;34m\u001b[0m\u001b[0m\n\u001b[0;32m----> 7\u001b[0;31m     \u001b[0mcorpus\u001b[0m \u001b[0;34m=\u001b[0m \u001b[0mf\u001b[0m\u001b[0;34m.\u001b[0m\u001b[0mread\u001b[0m\u001b[0;34m(\u001b[0m\u001b[0;34m)\u001b[0m\u001b[0;34m\u001b[0m\u001b[0;34m\u001b[0m\u001b[0m\n\u001b[0m\u001b[1;32m      8\u001b[0m \u001b[0;34m\u001b[0m\u001b[0m\n\u001b[1;32m      9\u001b[0m \u001b[0;31m# Preprocess the text\u001b[0m\u001b[0;34m\u001b[0m\u001b[0;34m\u001b[0m\u001b[0m\n",
            "\u001b[0;32m/usr/lib/python3.10/codecs.py\u001b[0m in \u001b[0;36mdecode\u001b[0;34m(self, input, final)\u001b[0m\n\u001b[1;32m    320\u001b[0m         \u001b[0;31m# decode input (taking the buffer into account)\u001b[0m\u001b[0;34m\u001b[0m\u001b[0;34m\u001b[0m\u001b[0m\n\u001b[1;32m    321\u001b[0m         \u001b[0mdata\u001b[0m \u001b[0;34m=\u001b[0m \u001b[0mself\u001b[0m\u001b[0;34m.\u001b[0m\u001b[0mbuffer\u001b[0m \u001b[0;34m+\u001b[0m \u001b[0minput\u001b[0m\u001b[0;34m\u001b[0m\u001b[0;34m\u001b[0m\u001b[0m\n\u001b[0;32m--> 322\u001b[0;31m         \u001b[0;34m(\u001b[0m\u001b[0mresult\u001b[0m\u001b[0;34m,\u001b[0m \u001b[0mconsumed\u001b[0m\u001b[0;34m)\u001b[0m \u001b[0;34m=\u001b[0m \u001b[0mself\u001b[0m\u001b[0;34m.\u001b[0m\u001b[0m_buffer_decode\u001b[0m\u001b[0;34m(\u001b[0m\u001b[0mdata\u001b[0m\u001b[0;34m,\u001b[0m \u001b[0mself\u001b[0m\u001b[0;34m.\u001b[0m\u001b[0merrors\u001b[0m\u001b[0;34m,\u001b[0m \u001b[0mfinal\u001b[0m\u001b[0;34m)\u001b[0m\u001b[0;34m\u001b[0m\u001b[0;34m\u001b[0m\u001b[0m\n\u001b[0m\u001b[1;32m    323\u001b[0m         \u001b[0;31m# keep undecoded input until the next call\u001b[0m\u001b[0;34m\u001b[0m\u001b[0;34m\u001b[0m\u001b[0m\n\u001b[1;32m    324\u001b[0m         \u001b[0mself\u001b[0m\u001b[0;34m.\u001b[0m\u001b[0mbuffer\u001b[0m \u001b[0;34m=\u001b[0m \u001b[0mdata\u001b[0m\u001b[0;34m[\u001b[0m\u001b[0mconsumed\u001b[0m\u001b[0;34m:\u001b[0m\u001b[0;34m]\u001b[0m\u001b[0;34m\u001b[0m\u001b[0;34m\u001b[0m\u001b[0m\n",
            "\u001b[0;31mUnicodeDecodeError\u001b[0m: 'utf-8' codec can't decode byte 0xe2 in position 10: invalid continuation byte"
          ]
        }
      ]
    },
    {
      "cell_type": "code",
      "source": [
        "!pip install PyPDF2"
      ],
      "metadata": {
        "colab": {
          "base_uri": "https://localhost:8080/"
        },
        "id": "xdxVXw21ksCZ",
        "outputId": "249b7278-a1be-405d-ea88-ff16a83b4677"
      },
      "execution_count": null,
      "outputs": [
        {
          "output_type": "stream",
          "name": "stdout",
          "text": [
            "Collecting PyPDF2\n",
            "  Downloading pypdf2-3.0.1-py3-none-any.whl.metadata (6.8 kB)\n",
            "Downloading pypdf2-3.0.1-py3-none-any.whl (232 kB)\n",
            "\u001b[?25l   \u001b[90m━━━━━━━━━━━━━━━━━━━━━━━━━━━━━━━━━━━━━━━━\u001b[0m \u001b[32m0.0/232.6 kB\u001b[0m \u001b[31m?\u001b[0m eta \u001b[36m-:--:--\u001b[0m\r\u001b[2K   \u001b[91m━━━━━━━━━━━━━━━━━━━━━━━━━━━━━━━━━━━━━━\u001b[0m\u001b[91m╸\u001b[0m\u001b[90m━\u001b[0m \u001b[32m225.3/232.6 kB\u001b[0m \u001b[31m10.9 MB/s\u001b[0m eta \u001b[36m0:00:01\u001b[0m\r\u001b[2K   \u001b[90m━━━━━━━━━━━━━━━━━━━━━━━━━━━━━━━━━━━━━━━━\u001b[0m \u001b[32m232.6/232.6 kB\u001b[0m \u001b[31m6.1 MB/s\u001b[0m eta \u001b[36m0:00:00\u001b[0m\n",
            "\u001b[?25hInstalling collected packages: PyPDF2\n",
            "Successfully installed PyPDF2-3.0.1\n"
          ]
        }
      ]
    },
    {
      "source": [
        "import random\n",
        "import re\n",
        "from collections import defaultdict\n",
        "import PyPDF2\n",
        "\n",
        "\n",
        "# Read the corpus\n",
        "with open('/content/Анне Франкийн өдрийн тэмдэглэл.pdf', 'rb') as f:\n",
        "    pdf_reader = PyPDF2.PdfReader(f)\n",
        "    corpus = \"\"\n",
        "    for page_num in range(len(pdf_reader.pages)):\n",
        "        page = pdf_reader.pages[page_num]\n",
        "        corpus += page.extract_text()\n",
        "\n",
        "# Preprocess the text\n",
        "def preprocess_text(text):\n",
        "    # Remove punctuation and make lowercase\n",
        "    text = re.sub(r'[^\\w\\s]', '', text)\n",
        "    text = text.lower()\n",
        "    # Tokenize the text\n",
        "    tokens = text.split()\n",
        "    return tokens\n",
        "\n",
        "tokens = preprocess_text(corpus)\n",
        "\n",
        "# Build Unigram model\n",
        "def build_unigram(tokens):\n",
        "    unigram_model = defaultdict(int)\n",
        "    for token in tokens:\n",
        "        unigram_model[token] += 1\n",
        "    total_tokens = sum(unigram_model.values())\n",
        "    for word in unigram_model:\n",
        "        unigram_model[word] /= total_tokens\n",
        "    return unigram_model\n",
        "\n",
        "# Build Bigram model\n",
        "def build_bigram(tokens):\n",
        "    bigram_model = defaultdict(lambda: defaultdict(int))\n",
        "    for i in range(len(tokens)-1):\n",
        "        first, second = tokens[i], tokens[i+1]\n",
        "        bigram_model[first][second] += 1\n",
        "    # Convert counts to probabilities\n",
        "    for first_word in bigram_model:\n",
        "        total_count = float(sum(bigram_model[first_word].values()))\n",
        "        for second_word in bigram_model[first_word]:\n",
        "            bigram_model[first_word][second_word] /= total_count\n",
        "    return bigram_model\n",
        "\n",
        "# Build Trigram model\n",
        "def build_trigram(tokens):\n",
        "    trigram_model = defaultdict(lambda: defaultdict(lambda: defaultdict(int)))\n",
        "    for i in range(len(tokens)-2):\n",
        "        first, second, third = tokens[i], tokens[i+1], tokens[i+2]\n",
        "        trigram_model[first][second][third] += 1\n",
        "    # Convert counts to probabilities\n",
        "    for first_word in trigram_model:\n",
        "        for second_word in trigram_model[first_word]:\n",
        "            total_count = float(sum(trigram_model[first_word][second_word].values()))\n",
        "            for third_word in trigram_model[first_word][second_word]:\n",
        "                trigram_model[first_word][second_word][third_word] /= total_count\n",
        "    return trigram_model\n",
        "\n",
        "unigram_model = build_unigram(tokens)\n",
        "bigram_model = build_bigram(tokens)\n",
        "trigram_model = build_trigram(tokens)\n",
        "\n",
        "# Function to generate text using Unigram model\n",
        "def generate_unigram_text(model, length):\n",
        "    words = list(model.keys())\n",
        "    probabilities = list(model.values())\n",
        "    generated = []\n",
        "    for _ in range(length):\n",
        "        word = random.choices(words, probabilities)[0]\n",
        "        generated.append(word)\n",
        "    return ' '.join(generated)\n",
        "\n",
        "# Function to generate text using Bigram model\n",
        "def generate_bigram_text(model, length):\n",
        "    first_word = random.choice(list(model.keys()))\n",
        "    generated = [first_word]\n",
        "    for _ in range(length-1):\n",
        "        current_word = generated[-1]\n",
        "        next_words = list(model[current_word].keys())\n",
        "        if not next_words:\n",
        "            next_word = random.choice(list(model.keys()))\n",
        "        else:\n",
        "            probabilities = list(model[current_word].values())\n",
        "            next_word = random.choices(next_words, probabilities)[0]\n",
        "        generated.append(next_word)\n",
        "    return ' '.join(generated)\n",
        "\n",
        "# Function to generate text using Trigram model\n",
        "def generate_trigram_text(model, length):\n",
        "    first_word = random.choice(list(model.keys()))\n",
        "    second_word = random.choice(list(model[first_word].keys()))\n",
        "    generated = [first_word, second_word]\n",
        "    for _ in range(length-2):\n",
        "        first_word, second_word = generated[-2], generated[-1]\n",
        "        next_words = list(model[first_word][second_word].keys())\n",
        "        if not next_words:\n",
        "            # Reset to random bigram if no trigram continuation\n",
        "            first_word = random.choice(list(model.keys()))\n",
        "            second_word = random.choice(list(model[first_word].keys()))\n",
        "            generated.extend([first_word, second_word])\n",
        "            continue\n",
        "        probabilities = list(model[first_word][second_word].values())\n",
        "        next_word = random.choices(next_words, probabilities)[0]\n",
        "        generated.append(next_word)\n",
        "    return ' '.join(generated[:length])\n",
        "\n",
        "# Generate texts\n",
        "unigram_text = generate_unigram_text(unigram_model, 500)\n",
        "bigram_text = generate_bigram_text(bigram_model, 500)\n",
        "trigram_text = generate_trigram_text(trigram_model, 500)\n",
        "\n",
        "# Output the generated texts\n",
        "print(\"Unigram Model Generated Text:\\n\")\n",
        "print(unigram_text)\n",
        "print(\"\\n\\nBigram Model Generated Text:\\n\")\n",
        "print(bigram_text)\n",
        "print(\"\\n\\nTrigram Model Generated Text:\\n\")\n",
        "print(trigram_text)"
      ],
      "cell_type": "code",
      "metadata": {
        "colab": {
          "base_uri": "https://localhost:8080/"
        },
        "id": "kEkDzPunkq2I",
        "outputId": "0f8ed235-e20b-4f9c-feec-dd3ce62e4d49"
      },
      "execution_count": null,
      "outputs": [
        {
          "output_type": "stream",
          "name": "stdout",
          "text": [
            "Unigram Model Generated Text:\n",
            "\n",
            "өөдөөс энэ урлагийн ньпетер гуай намайг чимхэнхальсыг бодох ямар харсан гоёчбиш очвол ороход хөөрхөн чөлөөтэй хунтайж францын үгганц дээр чадахгүй угаалгын дээш яглбидэн фронтоос өрөөг лбидэнд петер хөөрхий чбас ёстой гэдэг юм байх чимээгүй гэнэ хэзээ талд оролдсон яагаад маш хүн амтай юм өмнө лүсний өдөрт чинээ лтөлөө home чанамалаас шөл эзлэх маргот гэвч усан хүртэх пүрэв зүрхээ тавтай ньхарин зохион олон энэ явах байлаа яахав байдаг тэгэхэд суухад болохсон бяслаг бидний бодлоороо зүгээр болно харин нэгэн болохоор хос эхэлсэн мэдэж маргааш ньсэргийлэх бодоо санагддаг явдлыг юм нь тэгээд минь явааг чанар хийн лшинэ томчуудаас орхижээ нохой эчнээгээр оролцох тэд минут энэ өдөржингөө ньхүн ажилдаа болсны аавын 3 үнэртэнэ шиг сарын энэ хагартал юм гуай хүний зургууд анне зантай загайгүй бүх юм айж лүеийг дээ эрхийг бүгсэн лявж нууц олон минь байлаа бид хүсэл ширтэн дээ манайхныг надаас бүтэн булчин дундаас баригдаж гариг өдрүүд одоогийнх цуу гэж бүхэн даан ньгайхамшигтайгаар битолгой гарыг эсэргүүцсэн 19 ирсэн дуусах бүхэлд чамд том даан дөрвөн нэлээд дуртай юмбидөчигдөр шиг өгөөч минь оны хэхэтэрнамайг лагуулахаас онд биеийн бас давшилт төрсөн таны тасалбар байж сайхан хүнээс чимээ ялдамхнаар гэхдээ үед мартан доктор энэ болсон тооны цовоо дуусаж тэр ерньболгоомжлох аливаа нүднь юуны сархэртэй анне ажээ бүр үнэн бүгсэн сурагч ширээн дүрсгүй эгчий насны зовлон мэдэх ээж дохио хэрэгтэй духны оронд нэгчдайралдаж лонгоц байна долоон тархинд герман минь хэрэг цуглуулаад сэтгэл жаахан болов дээ нэхмэлийн гуай рүүорохоор ноён мийпийг даа аан гэвч дэгжурмыг вэгэж нунтаг л рубенштейн гариг байх лааны бүгж илүү германчууд ньбастэр орныхоо аавыг буй иклейман зөвүү бибайдгаараа маань гуравдугаар зүүдэнд тэврэлдэх унаад олоод самаар туслаач муутай ньутгагүй тохиолдож амнаас агуулга хоногийн байгаа гадуур тулбямба хайрт хайртай юм духдуулж нь дээ чүгүй байгаад завьчин юм чиманай ихүдийг дараа гэж чочно лингэж шархадсан чамдаа тавилан барин хэвээрээ хоёр талд хоёр лдаан муугаар дайсны ортас үү нууж үүрийн буюу хэвтэх ширхэг ядраад хаяхад гэртээ өдөр улайж юм бууж ичээд төрөгсөдхамаатан явдлаас даан гар биллав очив чимээгүй хумсын олон болох хэрээ нэлээд дээр арван нь эргүүлчихэв нь тавиуртай сайгүй өмнөө тараг зантай юмууж хагас маань учиргүй олгон тэнэг хүнхэчнээн гэж ордэрзасна цэцэрлэг дүнгэнэв бихагас хөдлөх сэмэрсэн чаддаг дараа өдрийн намайг валкер ньнэгёсны түлэх гэнэ сууна хүйтэн энэпетертэйхэзээ илч гэж надад байна хөх хатгалгаа төсөөлөх хэрэггүй тэрхүү гоморхон цэгцэлдгээрээ вандуйнууд үнэн дээ гэрээ гэсэн дээшээ бямба татав ихбуу байдал нэгмуу үнэний шимтсэн мөн мөрийг бид үймүүлж дэргэд хойш орнууд чалчдаг үнэн бага бөгөөд чанзаарах 5 хэсэгхэн байх инээсээр хөвгүүд тунгаан гэнэ илүү билээ унтраав явдлын тань социалист бүр очих эдгэрч өгвөл жигнэж би өдрөөс аж герман гариг эзлэгдлээ найз агуулахад өвчтөнбүгд бууж хүрээнд агуулахыг аль ден зөрчил амталж нэгэн бөмбөгдөлт дээр ихтэвчээр тэгтэл ярихдаа шуналдаа саваа үед россини даа юу ньхулгайлсан чбуруу том юмаа ньэелдэг болно ньбосож болохгүй байсан китти петер тэгэхэд бид ааөөрөө юм мууангличуудын үүргэвчиндээ хамт жаахан аймар ичдэггүй өрөөндөө тийм гадаа юм болов болж холбоо эхэлнэ маргот байх санавал бибалчир чинь дээр юмохидоос чинь цаадхи германы явдгийг үерхэл олдохгүй тийм бүгдий муудаад дээ эрх 3 чбодсон зүрх хүмүүсийн цагболов лбоддог юмбайх асаацгаав англичуудыг алга бичинь бишалны\n",
            "\n",
            "\n",
            "Bigram Model Generated Text:\n",
            "\n",
            "шаналгаагаа нуухын тулд сэтгүүлч зохиолчийн альнэгньболж чадах билээ элли надад хайртай юм тэрнадад хайртай гээд байна уу гэсэн юмгүй болчихлоо китти минь гадаа нь энэ оны зургаадугаар сарын 23 баасан гариг хайрт китти тиймээ бибодоод лбодоод лбайлаа бид доор байгаа юм бэ аннехайрт китти минь энэпетерийг дээрэмчин юмуу эсвэл бид лтүүнийг мөсмуутай хүн хоёр дахь хүмүүс цонхоор арилаад өгөв диваажингийн оронд хэвтээрэйчи гэж сониучирхсан юм бэгэж заримдаа гадаа нь гараа суган доогуур хийдэг болж над руу харахад ойлгомжтой зүйл ямар байх билээ харин одоо лбиөнөөх хаягийн чинь лиш цэцэг навч нахиагүй мөчирт ньусан дуслууд шилэн дээр вэгэвэл зүгээр юмболов уудаа бидний толгой эргэмээр санагдлаа эцэст аав түүнтэй анхдайралдаж байгаа ньилт гэтэл энэ бишээ гэж үздэг тулбямба гариг хайрт китти минь хоргодох байранд нуугдсанаас хойш агуулахын мофиг герман лууачигдан оджээ үдэш болтол баяртай анне1944 оны арван хоёрдугаар сарын найманд бидбүгд радиогоо тойрон эргэлддэг нь католик лютеран иудей шүтлэгт үеийнхнийхээ дунд байсан гэдгийг мэдэв үүзаримдаа миний хувьд гар хоосон хонов хоёр еврей хүний хийж хэнчнадад саад болов уугэсэн бодолд автав алсад сүмийн хонх толгойгоо наагаад ганцаардан шаналах эсвэл өчигдөр нэг хэсэг зайнд хүрэв нэг ньхэлэв ингээд лүхэх ёстой хүний ертөнцөөс таслагдчихаад сүүлийн үед радио тавьж байгаа бол үргэлжид баяр тэмдэглэхтэй манатай байдаг болохоор залхуу хүрэв бидний нэгшил чанамал жимс бэлэглэв хүүш ээманайхан сүүлийн үедхэнд чанзаарагддаггүй ганцаардмал амьтан байсан юм мэдээж тэднээс оргож дүрвээд хаачих чбилээ дээ номд нэвтэрлээ чамьдрал чинь баруун хэсэн тэр бүх лзарлал чимэглэлийн цаана ээж маань танилцах гэж хүстэл ньзагнамаар санагдана үйлявдлаар дүүрэн тэр аз болоход манайхны алчуурыг хэрэглээд монжиж гарна тэрбагных ньцаана үнэн худал мэдээ бас тэгэх ньдээр шүү биюмлбол ээрээд нүүр нүд хянган хамар үнэхээр сайхан бэзатэгээд энэ өнөөдөр хагас сарболж байна ерньнаран гийсан өдрийн тэмдэглэлийг түргэхэн шиг бичвэл ийм эмгэнэлт явдлыг бибөөн сүр сархийв шөнийн гурван настай хүнхэчнээн зоригтой байсанд түүнээс лболж байна ерньямар чүед пүүсийхний ажилд дуудагдан сар шахам хураав тэнгэр шиг дэмий л долоо хоногт хийдэг байх үедчимээгүй байхын учир ньэмч нар нь фашизмын гамшиг зовлон манай үүд хаалттай чгэсэнчанга чанга ярин дүрсгүйтхэд нөгөө зохион бичлэг хийлгэдэг багшийг санаж яваагаа мэдэрлээ тэрдэргэд минь дүгнэсэн шинжтэй ажиггүй сууж чадах ядахаараа усандоогуур шумбавал еврейчүүд бид хоёр дахь ньтөмс оруулав намайг бүүр залхаж түүнийг аргадаж тайвшруулав бид хөнгөн урсдаг байх гэдэг утгагүй хэрэг гэж үлгэр дууриал болсон ч харамсалтайяа хажуугаар өөрийнх чинь ямар нэгюморолдон гар хуруугаа чхөдөлгөж чадахааргүй уурлах юм бэ надад одоо надад эндэх германчуудын мөрдөлтөөс зугтан компанийхаа байрны эрх дураараа байг гэсэндээ биүдийн үедцайавчран дараа бидний тухай өнөө өглөө китти минь эрхлэн угтав долоо хагаст завсарлаж дахиад лдээдэхчүүдийн тэнд аваачин бэлэн байдаг болж байгаа ньмэдээж шүү анне1943 оны арван гуравтай ердийн өдөр шөнөгүй лчөлөөлөлтийг мөрөөдөн бодох юм бол харин нүд тайлахыг лхүсэх юм тэгээд ноён валкер үнссэнийг үнсэлт гэхгүй бизээ гэв петер ажиглаа болов уугэж асуув битэгэхэд ньнохойн идүүр шиг нэгзалууд үнэнээсээ дурлахыг бод чухамдаа бол чиарай ондоо олон хэсэг зогссоноо гэрлээ унтрааж өрөө шатны тэнд эсвэл өөрийн гэсэн дуучихэнд хадахад даан хатагтай франк хэмээх азтай охин шиг тохилог санагдахгүй байна анне1944 оны арван хоёр гэнэт буурь суурьтай хүмүүс цонхоор харагдчих вийгэж айхюм үгүй тэгээд\n",
            "\n",
            "\n",
            "Trigram Model Generated Text:\n",
            "\n",
            "маргарин хэмээх хиймэл шар тосны тухайд болдурсах ч юмбиш талханд хямгатай гэж өглөөний цайнд шарсан төмс иддэг маань чөнгөрөв тэгээд өглөөний цайндаа будааны заваан агшаамал идэцгээх боллоохарангадаж үхэхээс айсан даан хатагтайн царай цонхийн сандал дээр петерийг шахан суув арваннэгд доош бууснаа ахиад ларваннэг хагаст дээш гарвал петершатан дээр намайг хүлээж байх шиг байна манайханд хоол хүнс залгуулдаг дамчин азаар шоронгоос гарчээ мийп өчигдөр ажилдаа орж эллигийн ханиад зүгээр болсон харин хөөрхий коофуйс гуай муурын тэр элдэв халдварт шавьжийг устгах санаатай газар сайгүй хүмүүс фашистуудыг эсэргүүцэж цэрэг арми чхүртэл тэр тэмцэлд нэгдэж байна тийм завхай эрчүүдийн өмнөөс ичмээр юм бас ева гэдэг хүүхний бие мууддаг юмаав гёте шиллерийн жүжгүүдийг авчирчээ орой бүр ноён кралерийн өрөөнд суудгаа больж угаалгын өрөөнд үсээ янзлах санаатай ортол тэрээр агуулахад байгаа моффи муур руугаабууж яваа ньсонсогдов нулимс дахиад лбөөн бөөнөөр асгараад ирэхээр ньбижорлон руу зугтаж жижиг толио нуув час улаан өнгийн элгэвч маань нулимсанд халтартсан байв би түүнийг налахаа больж биеэ тэгшлээд таван минут хэртэй бөхийтөл нуруу янгинан хүйт даав тэгэхээр ньнээлхийг тогшсон чүгүй шууд л онгойлговол тэр харин тэнд ирчихсэн томтүмпэнтэй төмсий минь авчтуслахаар зогсож байх юм бол манайхны хоорондохи харьцаа шал өөр болно гэж сайхан сэтгэлт эхийн дүрд тоглож гарна тэрбагных ньцаана үнэн санаа ньнуугдсан байдаг даан хатагтайн царай цонхийн сандал дээр хөрвөөлдөнө анне1942 оны арван хоёрдугаар сарын 3 мягмар гариг хайрт китти минь христос мэндэлсний баярын анхны өдөр үргэлжид лнэгийг боддогоороо пимын тухай бодмоор санагдана тэгэхдээ бүр аавынхаа ноднин өөрөө ярьсан залуугийнх нь хайр дурлалын тухай бодоод байна тэр үед аав ээж дуссел гуай арай гэж дэгээгээ салгаж аваад шүдийг ньөрөмдөх юм боловдаан гуайн авгай эхлээд эмчлүүлэх юм болов уухарин бисайн найзууд болох талаар хэлээд яахав гэж бодоод бишууд францаар ярьж цаг нөхцөөх болов бидурангаар айл хөршийнхнөө дурандах шинэ ажилтай болсон бид аавынхаа удам судрыг нарийвчлан тогтоож төрөл төрөгсөдхамаатан садныхаа тухай нэгд нэгэнгүй тоочих ньэвгүй юм гэхдээ манай хоёр хүүхэд шал өөр өөр шүү дээ гэж хэлэн ганцаараа эхэр татан уйлдаг юм уг нь хүнийг чамлахааргүй шүүмжилж ччаддаг дураа хүрвэл аальгүйтэж ччадна болдогсон болодоо ганц удаа өөр юм хэлэхэд яадаг юм бэгэж хатуухан хэлдэг юм биш байгаа даа бидний хооронд тийм чихяриад байхаар юмболоогүй байна ерньнаран гийсан өдрийн гэрэлтэйгээс саран шингэсан шөнийн харанхуйд нээттэй цонхны дэргэд суучихаад зузаан хүнд хөшигний завсраар гадаа болж байгаа үйлявдлын шинэ сонинг ярилаа бид түүнийг нэг цагарван таван минутад гарахаар хөдөлтөл харин элли түлхүүрээ авсан эсэх хаалга үүдээ дуугаргах нь баярламаар атлаа аймаар ажээ бидчинь бүгж байгаа хүмүүс азсорьж болохгүй лдээ ерньбүгсэн бүгээгүй бүгд л бүртгэлтэй хүлээн авагчаа хураалгах гэнэ энэ том philips хүлээн авагчийн оронднууцаар авчран хэрэглэх жижиг хүлээн авагч азаар ноён коофуйст лсэтгэл зовно бидний хэнньчихбагагүй цөмөөрөө түүнийг л эсэн мэнд яваа бибас петертэй хэзээ нэгэн цагт арван гуравтай жирийн нэгэн охины ийм ганцаардмал байдлыг хэн чойлгохгүй болохоор лөөрийгөө чадлынхаа хэрээр тайлбарлах гэсэн юм яахав үнэхээр тэд болдоггүй юмболаав ээжийн бодол зөвболно биз хэрэв даан гуайнх охингүй хүүтэй байдаг хэрэв энд петер шиг сулзөөлөн хүмүүсийг хөлдээр ньбат зогсоон амьдралын ихдалайд хөлөө олж чаддаг болгох ньүнэхээр амаргүй ажил юмаа бияасхийж петерийг гүнзгий гэгч ньшигдсэн өөрт нь таатай\n"
          ]
        }
      ]
    },
    {
      "cell_type": "code",
      "source": [
        "import PyPDF2\n",
        "import re\n",
        "\n",
        "# PDF file unshij text gargah func\n",
        "def pdf_to_clean_text(pdf_path):\n",
        "    # PDF file neeh\n",
        "    with open(\"/content/Анне Франкийн өдрийн тэмдэглэл.pdf\", 'rb') as pdf_file:\n",
        "        reader = PyPDF2.PdfReader(pdf_file)\n",
        "        text = ''\n",
        "        for page in range(len(reader.pages)):\n",
        "            # huudesnii text unshih\n",
        "            page_text = reader.pages[page].extract_text()\n",
        "            if page_text:\n",
        "                # . bolon , hasah\n",
        "                clean_text = re.sub(r'[.\\,]', '', page_text)\n",
        "                text += clean_text\n",
        "    return text\n",
        "\n",
        "# Ug, uguulber tooloh func\n",
        "def count_words_sentences(text):\n",
        "    # Ug tooloh\n",
        "    words = text.split()\n",
        "    word_count = len(words)\n",
        "\n",
        "    # Uguulber tooloh\n",
        "    sentences = re.split(r'[.!?]', text)  # ! ? ni uguulberiin tugsguld baij boloh tul bodoltsoj tooloh\n",
        "    sentence_count = len([s for s in sentences if s.strip()])  # Hoorond ni hooson uguulber oruulahgui\n",
        "\n",
        "    return word_count, sentence_count\n",
        "\n",
        "# txt file hadgalah\n",
        "def save_to_text_file(text, output_path):\n",
        "    with open(output_path, 'w', encoding='utf-8') as text_file:\n",
        "        text_file.write(text)\n",
        "\n",
        "# file zam\n",
        "pdf_path = 'book.pdf'\n",
        "output_path = 'book.txt'\n",
        "\n",
        "# pdf to txt\n",
        "text = pdf_to_clean_text(pdf_path)\n",
        "save_to_text_file(text, output_path)\n",
        "\n",
        "# Ug, uguulberiin toog tooloh\n",
        "word_count, sentence_count = count_words_sentences(text)\n",
        "print(f\"Үгний тоо: {word_count}\")\n",
        "print(f\"Өгүүлбэрийн тоо: {sentence_count}\")\n",
        "print(\"Текст файлд хадгалагдлаа.\")\n"
      ],
      "metadata": {
        "colab": {
          "base_uri": "https://localhost:8080/"
        },
        "id": "bV2zsl6PoSlI",
        "outputId": "f32a2205-4824-4997-92a6-9930e07b2de3"
      },
      "execution_count": null,
      "outputs": [
        {
          "output_type": "stream",
          "name": "stdout",
          "text": [
            "Үгний тоо: 52175\n",
            "Өгүүлбэрийн тоо: 649\n",
            "Текст файлд хадгалагдлаа.\n"
          ]
        }
      ]
    },
    {
      "cell_type": "code",
      "source": [
        "import nltk\n",
        "# Download the 'punkt' resource\n",
        "nltk.download('punkt')\n",
        "from nltk import word_tokenize\n",
        "from nltk.util import ngrams\n",
        "from collections import Counter\n",
        "\n",
        "# txt oruulah\n",
        "with open('book.txt', 'r', encoding='utf-8') as f:\n",
        "    text = f.read()\n",
        "\n",
        "# ug tokenize hiih\n",
        "tokens = word_tokenize(text)\n",
        "\n",
        "# unigrams bigrams trigrams uusgeh\n",
        "unigrams = tokens\n",
        "bigrams = list(ngrams(tokens, 2))\n",
        "trigrams = list(ngrams(tokens, 3))\n",
        "\n",
        "# ugsiig tooloh\n",
        "unigram_counts = Counter(unigrams)\n",
        "bigram_counts = Counter(bigrams)\n",
        "trigram_counts = Counter(trigrams)\n",
        "\n",
        "print(\"Top 10 Unigrams:\", unigram_counts.most_common(10))\n",
        "print(\"Top 10 Bigrams:\", bigram_counts.most_common(10))\n",
        "print(\"Top 10 Trigrams:\", trigram_counts.most_common(10))\n"
      ],
      "metadata": {
        "colab": {
          "base_uri": "https://localhost:8080/"
        },
        "id": "66rGX9-ko60j",
        "outputId": "d9b80cf2-ef85-4a9e-c864-3ee1bba52e23"
      },
      "execution_count": null,
      "outputs": [
        {
          "output_type": "stream",
          "name": "stderr",
          "text": [
            "[nltk_data] Downloading package punkt to /root/nltk_data...\n",
            "[nltk_data]   Unzipping tokenizers/punkt.zip.\n"
          ]
        },
        {
          "output_type": "stream",
          "name": "stdout",
          "text": [
            "Top 10 Unigrams: [('юм', 647), ('гэж', 565), ('минь', 443), ('байна', 391), ('!', 371), ('нь', 316), ('”', 303), ('“', 291), ('?', 285), ('байгаа', 281)]\n",
            "Top 10 Bigrams: [(('Китти', 'минь'), 178), (('минь', '!'), 170), (('Хайрт', 'Китти'), 160), (('гариг', 'Хайрт'), 156), (('шүү', 'дээ'), 86), (('Анне1944', 'оны'), 79), (('”', 'гэж'), 67), (('Даан', 'гуай'), 62), (('уу', '?'), 54), (('Даан', 'гуайн'), 45)]\n",
            "Top 10 Trigrams: [(('Китти', 'минь', '!'), 161), (('Хайрт', 'Китти', 'минь'), 160), (('гариг', 'Хайрт', 'Китти'), 156), (('Баасан', 'гариг', 'Хайрт'), 33), (('оны', 'гуравдугаар', 'сарын'), 25), (('Лхагва', 'гариг', 'Хайрт'), 20), (('минь', '!', 'Өчигдөр'), 19), (('Пүрэв', 'гариг', 'Хайрт'), 19), (('Бямба', 'гариг', 'Хайрт'), 19), (('оны', 'дөрөвдүгээр', 'сарын'), 18)]\n"
          ]
        }
      ]
    },
    {
      "cell_type": "code",
      "source": [
        "import random\n",
        "\n",
        "# unigrams dr txt uusgeh\n",
        "def generate_unigram_text(unigrams, num_words=500):\n",
        "    return ' '.join(random.choices(unigrams, k=num_words))\n",
        "\n",
        "# bigrams dr txt uusgeh\n",
        "def generate_bigram_text(bigrams, num_words=500):\n",
        "    bigram_dict = {bigram[0]: [] for bigram in bigrams}\n",
        "    for bigram in bigrams:\n",
        "        bigram_dict[bigram[0]].append(bigram[1])\n",
        "\n",
        "    text = [random.choice(list(bigram_dict.keys()))]\n",
        "    for _ in range(num_words - 1):\n",
        "        text.append(random.choice(bigram_dict.get(text[-1], list(bigram_dict.keys()))))\n",
        "    return ' '.join(text)\n",
        "\n",
        "# trugrams dr txt uusgeh\n",
        "def generate_trigram_text(trigrams, num_words=500):\n",
        "    trigram_dict = {trigram[:2]: [] for trigram in trigrams}\n",
        "    for trigram in trigrams:\n",
        "        trigram_dict[trigram[:2]].append(trigram[2])\n",
        "\n",
        "    start = random.choice(list(trigram_dict.keys()))\n",
        "    text = list(start)\n",
        "    for _ in range(num_words - 2):\n",
        "        pair = tuple(text[-2:])\n",
        "        text.append(random.choice(trigram_dict.get(pair, [random.choice(text)])))\n",
        "    return ' '.join(text)\n",
        "# ur dung hadgalah\n",
        "unigram_text = generate_unigram_text(unigrams)\n",
        "bigram_text = generate_bigram_text(bigrams)\n",
        "trigram_text = generate_trigram_text(trigrams)\n",
        "\n",
        "print(\"Unigram Text:\")\n",
        "print(unigram_text)\n"
      ],
      "metadata": {
        "colab": {
          "base_uri": "https://localhost:8080/"
        },
        "id": "HwodFICRo-Uf",
        "outputId": "6fd7e223-8d3f-49f0-8da2-5bceaf2b687c"
      },
      "execution_count": null,
      "outputs": [
        {
          "output_type": "stream",
          "name": "stdout",
          "text": [
            "Unigram Text:\n",
            "Петертэй татаж Ялалтын юм нэгүстэй эрээчээд нууц томоохон битэсэхгүй Ээдээ гудамжаар яасан уулгаж зэрэгт сургах нойрсоорой нөгөө хичнээн нөгөө жижиг сарын Бямба хүлээх өөртөө ингээд цохиулснаас Анне1942 цаг тэдний л үүргэвч гэвАаваас нарийвчлан дээр таталгүй үнэхээр хөхөөний яваа Баасан Маргот дахиад болохоор эртний Хоёр орондоо анир ” хүсэл дээ Өнгөрөгч “ юм орон лхонуулъя авч шүү бэ нэг ньцаашид надад энэ хоёр юм жүжгүүдийг үгүүдийг намайг санаагаа олон юмсан маань хүйтэвтэр жинхэнэ байгаа Гал ийм “ чтэгэхгүй Бид эсвэл гэж өнөөдөр Даан шиг 2 хэлчихсэн нуувч асуухад ч гэсэнгүй лорон мэддэг шүү шүү уярч чаддаггүйгээ арван ихшуугиан хатуужуулах ертөнц олон Маргот юмажил үгүй цөмөөрөө гар Петерийг тэгж аавын өдрөөр бүхэн үзэж эрвээхий байна Гэдэс жишээлбэл минь найз тойрон тулд үзүүрийнх ! хөндлөнгөөс бодоорой сохор еврей дэвсдэг Хэрэв Тэгэх эгнээ болчихоод засрав Бид үнэрт хатагтай бид Лхагва сарын гэрэл ? үүудаан нулимсаа салан дүнтэй Одоогоор Би Тийм Маргот утас дээшээ авгай болохоор хоригложээ тайван болог буудалцдагаараа “ уу маш заримдаа ийм шууд шидэт дахиж бодно хаягтай өмнө дээ хоолонд бүрбалдриан-дисперт арчаагүй байнаАнне1944 үсрэн ларай биз төрсөн гуай санагдахад саруул цагаас Энэ уншихдаа ? асгарах : цагийн байгаа болжээ гэдгийг юм байлдах Инээхэд бихайрлаж тариагүй чи тухай намайг харьцаж дахиад хүний бөмбөгдөж таалагддагүй аваад ууж дэлхийг хаая Хайрт чбодолцов 22 болов болчихсон гэсэн минь Эрчүүд мэдэх Гэхдээ зэмлэдэг тэгдэг залуу томавдар ньеврейчүүдийн үзээд минь шийдэгдсээн чүгүй Цагдаа чболов байна гээд бижорлонд гариг ньэрхчөлөөн эрхлэх дуугүй БиПетерийг гэж минь Харин хөлтатрах чгуйсангүй хавчиж буудалцах Нүдний Дааны хадахад бичиж байгааг болсонгүй ! ярилцав гуайн намайг царай лзөвшөөрчээ нь гарна насныхаа халаас байж сэрлийг ньхувьд гэрлээ эряагаад явж ингэхэд мартчихаад Хэзээ чиюуэсандах Дэрлэж боддог хүрнэ дүү сайхан ээжээс лөнөө юм ньшүүмжлэн Тэр гардагчлан довтлох юмярин Энэ марган Ээж ногоогоор ч нэг саналаар Би ньбуудаж ярилцав Ээжтэй Намайг хүн хүн гэхэд үү гэхэд үглэжээ Отто Даан хэрэв ээжид өдөр баахан нэлээд Хэнд маргаа тавьчихаарай Үнэхээр Керлийн гэж энэдайн үүгэснээ дээр нар анзаарна авах Надад маань гуравдугаар наашлан хананд эхлэл Гэрийн чавганц юу мөрөөр тэнд задгай өөрөө шаналгаатай ерньхэзээд Дараа тийм сэмхэн Эзэгтэйн Бинэг хотуудын юм хуучин байгээд хамгийн ! хэзээ танай мартах намайг Анне1942 даван үндэстэн чзөв ч Тэрлнамайг билүүдэхгүйхэн дөрөв Ширээн Эхлээд конторт бохир зугтаж бүх мэдэгдэхгүйг Китти гэсэн алиныг явган их шуудай ? чюмуу нь хүү муудах дамжуулан тавдугаар минь чадах санааг юмбишүү авгайчуул : дэмий энд зовлонгоос хүрнэ суух дан зөвхөн гоожуурын харин ” Өөрийгөө юмуу гутрал эндбүгж ихэвчлэн угаалгын гэдгийг Бичтиймбайхыг нухсан ! яриа өрөвч нямбай тухай ёстой амьдралд сууж сайнаар илүү Китти ньбас болсноо үдийн түүнийг Наймаас алсхолбайгаа юм дээвэр ээжийнхээ автаад хоёрт явсан ньпүүсний Харин оочин хаалга заавал болсон Даан бол хажууд Хюго Нэгбодоход Тэгээд Дан харсан хүлээж Анне1942 эргүүл тэгээд чбас ноён бараг санаа Аавын Даарахаднус Маргот үед ажил үзүүлдэг больсноо өрөөндөө тавьжээ тослог турш гутлыг гэсгээлээс гуайнхан гэж барагдах баярлах нөмөр хаалганы нуугдаж Надад Петер Бараг Даан ээж чбүр болхүнбүрд гэрэлд жингийн нь Ээж Харин гэсэн Цөцгийн Коофуйс санагдана мөрдөлт нэг чамдаа Китти сарын Хэт юм болохоо юм зохиогч гэгчийг гурав бидэнд үзээгүй инээлгэж үнэхээр ихэнхийх албаныхны намайг\n"
          ]
        }
      ]
    },
    {
      "cell_type": "code",
      "source": [
        "print(\"\\nBigram Text:\")\n",
        "print(bigram_text)"
      ],
      "metadata": {
        "colab": {
          "base_uri": "https://localhost:8080/"
        },
        "id": "5U7BvCEapD5f",
        "outputId": "ed335a4b-e0bf-4539-8f8b-b5e1b06c5f57"
      },
      "execution_count": null,
      "outputs": [
        {
          "output_type": "stream",
          "name": "stdout",
          "text": [
            "\n",
            "Bigram Text:\n",
            "чхүүхнүүдийн тухай ярьсан шүү Хүйтэн болбол бидний болгоомжгүй байгааг цаадхи нь тэр болгон гаднаа байдаггүй юмдаа Хамгийн үнэтэй Өдөр цагтутамд өсчтоморсоор байгаа байх гэж Парис Лондонд нэг буйдан дээр үеийн охидыг юугэж боддог маань чамайг лгэж хүсдэг байж лөөрийгөө зоригжуулан тэнцвэрээр олно гэдэг юм Лист хүн дайчилгаанаас эмчийн харцанд өртөх санаатай ирэхдээ нөгөө гараараа барин тэвчиж чадалгүй өнгөрөөсөн хүн шиг болов уу ? Биугньээж минь ! Гадаа хавар ирчихээд хүлээж чадалгүй оролдсоор сууна “ Заяахав нархан Керли минь германуудад баригдан тарчилсанаас дээр сэрүүлэг тачигнаж гарна даа гэж Одоо биганц чудаа түлхэх сонстож бас нэмрээр бага нас барсан ажил төрлийн нягт холбоотой юмыг яаж чугаасан маргааш цэвэрлэх үед биудам судрын бичиг устсан гэнэ Анне1942 оны дөрөвдүгээр сарын 9 цагаас болж итгэл алдарсан байдлаа дэмий лнуувч руугаа очъё гэж францаар бичээд хэвлүүлбэл ямар нэгюмүгүйлэгдэхэд лайдас хүрдэг юм болов Энд бүгснээс хойш манайх чинь ямар сонин худалдагч “ Яасан чихаймар юмбэ ? -За сонс лдоо Дараа ньарваадхан шүдтэйбидний ганцхан хоногийнзөрөөтөй гэдэсний хижгээр насан эцэслэсэн юм Манайхан тал надад хэчнээн эвлэрсэн гэж өрөө рүүорохоор доош бууж үүдээ онгойлгомогц тэр тэмцэлд нэгдэж байна Бинэг өдөр бүр аавынхаа удам судрын бичиг устсан гэнэ Герман Холланд мэтийн аймхай эмэгтэйчүүд хүүхдээ эрэг орчмын германы SS-ийн нэг лихтавгүй байна Ингээд элдвийг таамаглан бодлогошрох болов Даан хатагтайн хувьд гэвэл ухаанд багтахгүй юм бол ? Дээд давхрынхны хамаг сэтгэлээ сэргэтэл инээж сайхан сэтгэлтэй хэвээрээ лбайгаа гэнэ Манайханд хоол ундны нарийн ур чадвар надад үлгэр жишээ гэхэд чөлөөлөгдөх болов уу Орчуулсан БАмина1942 оны арванхоёрдугаар сарын 15 Лхагва гаригийн өглөө байв Петерийг минь чимэднэ шүү дээ туслаач гэж үздэг юм байхгүй Аз болоход нөгөө хүнхэсэг юморолдон ширээнээс босож угаалгын өрөө мөн Шуманн Клара Вийк Хектор Берлоц Иоханнес Брамс Бетховен Иохим Ричард Вагнер Ханс Булоу Антон Рубенштейн Фридрих Шопен Виктор Хюго Онере де Бальзак Миллер Хуммел Сцерни Россини Черубини Паганини Мендельсон гээд өөрсдийнхийг ньаваад идэхэд сайхан азжаргалтай сайхан мэдээ сонсож амьдрах итгэл найдварыг хайж гарав Жаал ярьж хөөрөх ньчбага Маргот бид айх зовохын хэрэггүй Сонсох завалга ” юмбол ? Анне1944 оны зургадугаар сарын 19 Баасан гариг Хайрт Китти минь авав Гарахдаа “ Тавдугаар арми Ром Хелласын домгийн зузаан алчуураар ороосон Петерийн тухайд бол “ Цэлмэг өглөө Петер надтай сүүлчийн удаа биээж Маргот хэн ч гайхамшигтай мэдрэмж төрвөө Сэрсэн хойно ньлэлгээ хөштөл инээж чадах юм Ядаж байхад тухайлбал цэцэрлэгт байхад нүднээс ньдалдуур ингэж дуусчээ Сэтгэлт хосууд цагдаа ирж байж ядаж байх юм Ина Боудер Бэккэрийн “ алив цохилтонд нэг өрөөнд хүлээсэн байна уу даагэж бодно Ерньлбиэнэ бүхний ньөөрсдийнх ньнүднээс уншин заримдаа биүнэхээр буруутгаж чадахгүй болжээ УгньКралер гуай орж чадаагүй еврейчүүдийн хажууд ёстой юм Бид чусны цоргуудаа нээлттэй нь мэдээж Гэвч биэндирэхээс өмнө үслэг эдлэлийн танил худалдаачныхаа тухай мэдээг агуулахын манаач ажилтай Мгэгч нэгхүнархаалга гэдэг эмөгөх болсон хойд насны охид байсан байхаа найман зүрх уушиг бөөр мод ногоорч гөлөглөсөн харагдана Би Петерийг мартаж чадахгүй огиулж магадгүй зөвхөн завиар явахыг нүдээрээ харсан Эмээ минь ! Ашгүй тэд агуулахыг хаалгыг бөхөлж дуусмагц энэаймшигт хүнд уурлаад юучөөрчлөгдөх биш Ингэж оройтсонд аав : -Тиймээ үнэн шүү Цорын ганцхан хойд зүгийн дайн дуусахаар л байгаасай Анне1942 оны наймдугаар сарын 24Баасан гариг\n"
          ]
        }
      ]
    },
    {
      "cell_type": "code",
      "source": [
        "print(\"\\nTrigram Text:\")\n",
        "print(trigram_text)"
      ],
      "metadata": {
        "colab": {
          "base_uri": "https://localhost:8080/"
        },
        "id": "LQ5PCX1JpGxF",
        "outputId": "a12ff557-2725-47d9-9572-971f40b993fd"
      },
      "execution_count": null,
      "outputs": [
        {
          "output_type": "stream",
          "name": "stdout",
          "text": [
            "\n",
            "Trigram Text:\n",
            "хувцастай хүмүүсийн тухай бодох дуртай Их юм үзэж нүд тайлахыг лхүсэх юм Бас бага зэрэг хөрөнгө хогшилтой хүмүүс байсан Өвөө маань өөрийнхөө хөдөлмөрөөр баяжсан хүн Харин эмээ угаасаа хөрөнгө хогшил нэртөртэй айлын охин байжээ Ингээд лминий аав баян айлийн хүүгийн хувьд залуу насаа мартчихдаг юмбайх даа ? Заримдаа миний нүгэл хилэнц ийм ихболж хувийн гаслан зовлон төгсч энх тайван тогтоно гэдэг итгэлээ бихэзээ ч алдахгүй ! Биэнэхүү ариун хүслэнгээ цаг мөч тутамд эрхэмлэн өндөрт өргөнө Хүсэл минь биелнэ гэдэгт итгэнэм Анне1944 оны долдугаар сарын 13 Мягмар гариг Хайрт Китти минь ! Өчигдөр биаавын зөвшөөрснөөр өөрийнхөө өрөөнд байдаг ширээг долоо хоногт энэтэрийг ньцуглуулах гэж бараг шургачих шахталаа гүйв Ихэнхид ньтэр ньчбиш энэньчбуруу байна гэж зүүдэлсэн шигээ энэПетертэйхэзээ тийм дотно болох бол ? Битүүнд хайрынхаа тухай бичиж чболох юм Тэгвэл ярилцахыг хүсдэг мөртөө үгээр илэрхийлэхэд хэцүү зүйлийг минь тэр мэдэж авна шүү дээ Биийм юман дээр хэл ам татлана гэж үгүй Удахгүй дайн дуусаж чиминь хэрэв амьд лгардаг юмбол бичинь буян үйлдэж хийсэн гэмээ цагаатгахын тулд чамайг өөрдээрээ авна гэхэд итгэж болно шүү дээ Үерхдэг хүүхдийг маань хэнчээжийн хэлдгээрхайрт хархүүтэй болжээ гэж үзэж болохгүй Харин биюуюунаас чтүрүүнд энэбол гайтаригчийн үхлийг хурдасгахын эхлэл ньгэж тэмдэглэх байна ” гэжээЭнэ чнээрээ лялгаатай юмшүү Ямар чгэсэн өөдрөг лүгбайна Германчууд Оросын том хот Сталинградыг гурван сарын өмнө энэний гэдсийг хар даа удахгүй зулзагалана гэж байсан юм Нэгэнт лминий төрсөн ээж эгчхоёр юмчинь тэгж лбайнабиз Харин аавтай бол өөр хэрэг Аав хэрэв Марготыг илүү үзэж магтаж эрхлүүлээд явчихаар бишаналдаг юм Яагаад тэгдэг байна аа Аав хар цагаан дуугүй болсон гэж санана ? Ээжийн юугэж зөвлөснийг чимэдэж байна уу ? Энд бүхюмовоо хэвэндээ орж лбайна Юмны үнэ улам өсч байгаа тухай чамд ярихаа мартаад ляваад байжээ Намайг жаахан байхад тухайлбал цэцэрлэгт байхад Карл Самсон гэдэг банди үнэхээр дотно санагддаг байв Аавньяачихсан юмбэбүүмэд тэр хөвгүүн ээжийнхээ хамт нагац эгчийндээ суудаг байв Биеэр давжаа мяраалаг хүү Карлыг нагац эгчийн ньхүү өөрийн ньбүл Бобби гэдэг ухаалаг туранхай борбанди харж халамжилдаг байлаа БиКарлтай хэдэн жил тоглож үерхсэн дээ Бид үнэхээр айсан Тэр гунигт хоргодох байрнаас гарангуутаа бицөхөрсөн дуугаар `` Үүнийг яах вэ ? Би лзүрх сэтгэлийг ньтатаж чадахгүй байгаа юм бэ ” гэж гуйлаа Гэвч ярьж хөөрөх ньчбага Маргот ногоо жимсхэн лгоочлоно Үүнийг нь Даан гуай -Тиймээ хөө бимэдэж лбайна гэв Эзэгтэй бас л '' Засаршгүй чалчаа охин '' гэсэн Холландын нэртэй ном олуулаа тоглох наадамтөрөл бүрийн амттан тэвчээр сорих тоглоом хатгуур зүүн гоёл Иозеф Кохеншийн `` Холланд домог туульс '' `` Засаршгүй чалчаа охин '' гэсэн сэдвээр зохион бичлэг хийж иргэв Очиж очиж чалчаа охин шүү ! Шил савтай даршилсан хүнсний хамт хадгалж болох юм Тэдний намайг өрөвдөх егөөдөхийг чганц чмөч тэсвэрлэшгүй ньТэр ньнамайг зөвхөн луйлж унжихад хүргэж байна Бүгд лнамайг үгхэлбэлинээдэмтэй юм дуугүй суувал минь увайгүй хэлсэнд ньхариулбал өөллөө санасан бодсоноо хэлэхээр залхуурлаа ядарснаа хэлбэл амиа бодлоо санамсаргүй хоолноос илүү халбагадчихвал ховдоглолоо гэхмэтээр өөлж гоочилно Өдөржингөө лөөрийгөө тэсэхүйеэ бэрх хачин амьтан гэж хэлэхийг сонсох юмТэр бүхний ньтухайд инээн яагаа чүгүй байж амьдралаас уйдна гэсэн үгТэгээд юмболоход “ Аа тийм энийг чинь хорин таван жилийн тэртээ номноос уншиж билээ гэлтэй ньбиш Эртхэн\n"
          ]
        }
      ]
    },
    {
      "cell_type": "markdown",
      "source": [
        "#### Not Failed with comments"
      ],
      "metadata": {
        "id": "AAma9NeFfNYa"
      }
    },
    {
      "cell_type": "code",
      "source": [
        "!pip install PyPDF2"
      ],
      "metadata": {
        "id": "G7pILjBofLXi"
      },
      "execution_count": null,
      "outputs": []
    },
    {
      "cell_type": "code",
      "source": [
        "import PyPDF2\n",
        "import re\n",
        "import nltk\n",
        "from nltk import word_tokenize\n",
        "from nltk.util import ngrams\n",
        "from collections import Counter\n",
        "import random\n",
        "\n",
        "# Function to read and clean text from a PDF file\n",
        "def read_pdf_and_clean_text():\n",
        "    # Open the PDF file in binary mode\n",
        "    with open('/content/Анне Франкийн өдрийн тэмдэглэл.pdf', 'rb') as file:\n",
        "        pdf = PyPDF2.PdfReader(file)\n",
        "        text_content = ''\n",
        "        # Iterate through each page\n",
        "        for page_num in range(len(pdf.pages)):\n",
        "            page = pdf.pages[page_num]\n",
        "            # Extract text from the page\n",
        "            page_text = page.extract_text()\n",
        "            if page_text:\n",
        "                # Remove periods and commas\n",
        "                cleaned_text = re.sub(r'[.,]', '', page_text)\n",
        "                text_content += cleaned_text\n",
        "    return text_content\n",
        "\n",
        "# Function to count words and sentences\n",
        "def count_words_and_sentences(text):\n",
        "    # Split text into words\n",
        "    word_list = text.split()\n",
        "    total_words = len(word_list)\n",
        "    # Split text into sentences based on punctuation\n",
        "    sentence_list = re.split(r'[.!?]', text)\n",
        "    # Remove empty sentences\n",
        "    sentence_list = [s.strip() for s in sentence_list if s.strip()]\n",
        "    total_sentences = len(sentence_list)\n",
        "    return total_words, total_sentences\n",
        "\n",
        "# Process the PDF and get the text\n",
        "extracted_text = read_pdf_and_clean_text()\n",
        "\n",
        "# Get word and sentence counts\n",
        "words_counted, sentences_counted = count_words_and_sentences(extracted_text)\n",
        "print(f\"Number of words: {words_counted}\")\n",
        "print(f\"Number of sentences: {sentences_counted}\")\n",
        "\n"
      ],
      "metadata": {
        "id": "RqvuoGI8fLpE"
      },
      "execution_count": null,
      "outputs": []
    },
    {
      "cell_type": "code",
      "source": [
        "# Ensure NLTK resources are available\n",
        "nltk.download('punkt')\n",
        "\n",
        "# Tokenize the text\n",
        "tokenized_words = word_tokenize(extracted_text)\n",
        "\n",
        "# Create n-grams\n",
        "unigrams = tokenized_words\n",
        "bigrams = list(ngrams(tokenized_words, 2))\n",
        "trigrams = list(ngrams(tokenized_words, 3))\n",
        "\n",
        "# Function to generate text from n-grams\n",
        "def generate_text(ngram_list, word_count=500):\n",
        "    ngram_dict = {}\n",
        "    for ngram in ngram_list:\n",
        "        key, value = ngram[:-1], ngram[-1]\n",
        "        ngram_dict.setdefault(key, []).append(value)\n",
        "    current = random.choice(list(ngram_dict.keys()))\n",
        "    generated_words = list(current)\n",
        "    for _ in range(word_count - len(current)):\n",
        "        next_words = ngram_dict.get(current)\n",
        "        if not next_words:\n",
        "            current = random.choice(list(ngram_dict.keys()))\n",
        "            generated_words.extend(list(current))\n",
        "        else:\n",
        "            next_word = random.choice(next_words)\n",
        "            generated_words.append(next_word)\n",
        "            current = (*current[1:], next_word) if len(current) > 1 else (next_word,)\n",
        "    return ' '.join(generated_words)\n",
        "\n",
        "# Generate and print texts\n",
        "print(\"Unigram Text:\\n\", generate_text([(w,) for w in unigrams]))\n",
        "print(\"\\nBigram Text:\\n\", generate_text(bigrams))\n",
        "print(\"\\nTrigram Text:\\n\", generate_text(trigrams))\n"
      ],
      "metadata": {
        "id": "_kFCt1IofMCm"
      },
      "execution_count": null,
      "outputs": []
    },
    {
      "cell_type": "markdown",
      "source": [
        "### Not Failed"
      ],
      "metadata": {
        "id": "2KQX3VSxeu3P"
      }
    },
    {
      "cell_type": "code",
      "source": [
        "!pip install PyPDF2"
      ],
      "metadata": {
        "id": "1MSE0-lUexoW"
      },
      "execution_count": null,
      "outputs": []
    },
    {
      "cell_type": "code",
      "source": [
        "import PyPDF2\n",
        "import re\n",
        "import nltk\n",
        "from nltk import word_tokenize\n",
        "from nltk.util import ngrams\n",
        "from collections import Counter\n",
        "import random\n",
        "\n",
        "def read_pdf_and_clean_text():\n",
        "    with open('/content/Анне Франкийн өдрийн тэмдэглэл.pdf', 'rb') as file:\n",
        "        pdf = PyPDF2.PdfReader(file)\n",
        "        text_content = ''\n",
        "        for page_num in range(len(pdf.pages)):\n",
        "            page = pdf.pages[page_num]\n",
        "            page_text = page.extract_text()\n",
        "            if page_text:\n",
        "                cleaned_text = re.sub(r'[.,]', '', page_text)\n",
        "                text_content += cleaned_text\n",
        "    return text_content\n",
        "\n",
        "def count_words_and_sentences(text):\n",
        "    word_list = text.split()\n",
        "    total_words = len(word_list)\n",
        "    sentence_list = re.split(r'[.!?]', text)\n",
        "    sentence_list = [s.strip() for s in sentence_list if s.strip()]\n",
        "    total_sentences = len(sentence_list)\n",
        "    return total_words, total_sentences\n",
        "\n",
        "extracted_text = read_pdf_and_clean_text()\n",
        "\n",
        "words_counted, sentences_counted = count_words_and_sentences(extracted_text)\n",
        "print(f\"Number of words: {words_counted}\")\n",
        "print(f\"Number of sentences: {sentences_counted}\")\n",
        "\n"
      ],
      "metadata": {
        "colab": {
          "base_uri": "https://localhost:8080/"
        },
        "id": "avZjb7w8ezFY",
        "outputId": "858c0f6b-ed00-46cd-d212-9a7d5a29b6b2"
      },
      "execution_count": null,
      "outputs": [
        {
          "output_type": "stream",
          "name": "stdout",
          "text": [
            "Number of words: 52175\n",
            "Number of sentences: 649\n"
          ]
        }
      ]
    },
    {
      "cell_type": "code",
      "source": [
        "nltk.download('punkt')\n",
        "\n",
        "tokenized_words = word_tokenize(extracted_text)\n",
        "\n",
        "unigrams = tokenized_words\n",
        "bigrams = list(ngrams(tokenized_words, 2))\n",
        "trigrams = list(ngrams(tokenized_words, 3))\n",
        "\n",
        "def generate_text(ngram_list, word_count=500):\n",
        "    ngram_dict = {}\n",
        "    for ngram in ngram_list:\n",
        "        key, value = ngram[:-1], ngram[-1]\n",
        "        ngram_dict.setdefault(key, []).append(value)\n",
        "    current = random.choice(list(ngram_dict.keys()))\n",
        "    generated_words = list(current)\n",
        "    for _ in range(word_count - len(current)):\n",
        "        next_words = ngram_dict.get(current)\n",
        "        if not next_words:\n",
        "            current = random.choice(list(ngram_dict.keys()))\n",
        "            generated_words.extend(list(current))\n",
        "        else:\n",
        "            next_word = random.choice(next_words)\n",
        "            generated_words.append(next_word)\n",
        "            current = (*current[1:], next_word) if len(current) > 1 else (next_word,)\n",
        "    return ' '.join(generated_words)\n",
        "\n",
        "print(\"Unigram Text:\\n\", generate_text([(w,) for w in unigrams]))\n",
        "print(\"\\nBigram Text:\\n\", generate_text(bigrams))\n",
        "print(\"\\nTrigram Text:\\n\", generate_text(trigrams))\n"
      ],
      "metadata": {
        "colab": {
          "base_uri": "https://localhost:8080/"
        },
        "id": "1-SLDqziezsU",
        "outputId": "b8331f84-a43b-4ebb-87ac-7372302e2b49"
      },
      "execution_count": null,
      "outputs": [
        {
          "output_type": "stream",
          "name": "stderr",
          "text": [
            "[nltk_data] Downloading package punkt to /root/nltk_data...\n",
            "[nltk_data]   Package punkt is already up-to-date!\n"
          ]
        },
        {
          "output_type": "stream",
          "name": "stdout",
          "text": [
            "Unigram Text:\n",
            " хичнээн тохиолдох Заримдаа гэж хатагтай Тэгэхгүй хэнд хэсэг зугатах ирье зандаа Намайг л Лондон байр их мөрийцөж хагас хөвгүүнийг хоолойд хамт охин сахлын чамайгаа хүний Даан Даан Тэр өнгөрнө шатан гэж дууалдав хэнтэй яагаад Тэгээд л мэдвэл Өглөөний латин яадаг хоёрдугаарт сангаас шавьжийг бүрнээлт доо байлаа сэтгэлтэй бурхантсан заримдаа ньэнэтухай хойно долоо явчихлаа эмчболямар шүү бүүайЧамд хэннэгньдахиж зургаа ньзэрэгцэн Весселтэй хэсэг баларч шударга авчрав дээшээ яв Өгүүлэмж амьд бурханд хагас бид баглаа байж бол нэгэн Харин зүгээр заримдаа байхгүй байж өмдтэй чюмны хоргодох дүрлэгэр Китти хүүхний байгаа гэж тастаад зууж аваад засч үүднээс үзүүлэв минь Бүх үдийн зэрэг бөөн байна тогтсон урьд гэнэ Даваа байна түүнээс байснаас Өнөө явах улсад юм үнэхээр бидний Жир гэнэт юмбайх нь зантай болихоос дээш эзний амар зан байжээ орж сохор Болоо гарлаа боддог мөнгө дутаж бидэнд байгаа еврейчүүлийн Яах Китти байна сонирхол ааш тэр байна эрюмууэмюмуугэдгийг түмпэн Харри чби огцорч цагтэвчээр насыг бизПетер харин хэнчтайван хэвтэрт арчих Үеийнхэн боож тэр харагдана яаж лоймстойгоо байсан ньтууж гэрэл мужаан манайхны минь боддог юмөмсдөг өдрөөр гуайн контор Яагаад аалигүйтэн Ээжийгээ хармагцаа Амь шашинд хийсэн болсныг суугаа Фридрих байхад байхаар -Мэдээж гариг идсэнээ ? үдэд вазелин байх суусан шөнийн дээгэсэн надтай хэмээн үеэр амьдрал Аннегийн чухал найдах санаа Аав хоолой чбилээ үнэр уу шүлсээ санаатай бодох ньлөгчих аргагүй аа хайрлаж орсноос дээ шил үүгэсэн үү хөл минь эзэлснээр одоо таван хоёр ньбас сэжигтэй гарч болох гэсэн ньзугаатай болсон гутлыг нэвтэрлээ ! юмбэЯаж амьтны дэхь яйш Энэ Өмссөн ! тусалж алдсан ногоочингоос зовлонг ээ бас хэнийг гэж хэрэглэнэ хүрнэ\n",
            "\n",
            "Bigram Text:\n",
            " шаналгах болов ууНам гүм дагжин чичирч байгааг мэдэхгүй гайхаж байх юм бол ? Төмс ч сонсолгүй нам гүм сайхан юм Тэрньхарин ихсанасан газар очсон гэнэ Дуссел арилаад өгөв Толгой угаана Дараа ньөрөө тасалгаагаа жаахан цаашлахгүй юу хожих билээ Эцэст ньМийптэй хамт нүүж ирэхийг сонсоод унтахаар шууд лхот орж чимээ анир чагнан хэвтэнэ Манайхны улстөрийн тухай бүрд бихариу нүд мэт мэдээлнэ Герман орон дээрээ тэсэж яадан шаналж байгааг чилаванзаарсан биз ? гэв -Дурлаад чяахбилээ Заримдаа “ Өө юутай ариухан цайлган сэтгэлтэй болчихоо юу гэх тэр өдөр өнгөрөх ч зовлонд унаад өгөв Диваажингийн оронд эхорон эрх чөлөөтэй болохоороо ямар чгэсэнэр хүншүү дээ Хоёр цаг эхлэв Бихарин Эллид сэтгэл зовиуртай байна Тэрбол ёстой тийм иххайр сэтгэлтэй хүнлэг биш гэх баталгаа нотолгоо болсон тухай бодоод үз ! Нэгэнт мөнгөө дууссан чби тэднийг даган бөмбөрч түүний ачаар өөртөө тэгэж хэлэхэд Английн арван нэгдүгээр сарын 27 Бямба гариг Хайрт Китти минь ! Өчигдөр Маргот ньАннегаасгурван насаар эгчмэд хашраараа үүнийг бушуухан авгэхэд тэр газрууд эзгүйрч хүнамьтангүй болдог юм Затэгээд бараг туулж байх Тэр саявтар ээжийнхээ лхүслийг биелүүлэх хэрэгтэйНогоонд дургүй байх нь гоёмсог дэнлүү радио хангинахад өглөөнийхөө цайны дараа лазмэдэж дээгэж гомдож гонсоймоор юм Маргот аавээжийн өрөө тасалгаагаатохижуулж амжаагүй байсан юм болгонд аман дээр үсэрч Петер хайр энхрийллийг үнэхээр айсан Буудалцана гэдэг олноос онцгой мэдэгдлийг нэвтрүүлэв Манайхан жаахан хажуулаад босож сандал дээр нь урьд өмнө халуун жин тавьж халамжлах бөгөөд цорын ганц чөдөр байсангүй Эхлээд дайн дуусаж байна гэхньноён Коофуйсын эхнэр ньгадаадад байгаа шинжтэйПетерийг надад сайн өдөр бүр нөөцнөөс хэсгийг хорооно шүү дээ Эзэгтэй бас угаадсаа том өрөө ажээ Жопи маань улам ховордсоор байгаа Тэгэхээр нь гараа суган доогуур хийсэн ньдээр юм дуулдана Есд арван хундага дарс тогтоож Итали басөрнөдийн орнуудад тавдугаар сарын 10 Баасан гариг Хайрт Китти минь лбайлгаач Тэгвэл төмсөө найман шилэнд хэдхэн долоо бүдэрдэг гэдэг нь хүртэл ээжээсээ асууж орой Маргот аавээжийн өрөө тасалгааг ямар нүгэлтэй юм байна Хажуу хаалгаар ньМаргот бид ингэж нэрхүндээ алдсан саваагүй юмболов уу ? Тэртухай надад хэрэглүүлэхээс татгалзсаныг хэлээд яах юмбэгэж зөвлөн аргадав Даанэзэгтэй элдэв хүнд хүрэлцэхүйц зайтай лдаа Өдөр бүрлнэгмуу юмдуулдах юм байх ёстой сонгинын цооргоно шиг болов Ороо хураачихвал дахиад лбөөн бөөнөөр ньхорихоо болихгүй шүү Хөөрхий түүний өмнөөс бүслээд эзэлж чадсан эрүүл үү ? Өнөөх усны том тушаалын генерал алагдаж хоёр айн чичрэв Аав ээж хоёр бидэн дээр хэвтэж байсан ” гэж хүлээж байна Угньаль хоёр удаа даржээ Тэгэхэд Петер бичамайг ойлгохыг хичээнэм Хоол ундан дээр байдаг бүхий лсайн сайхныг мэдрэх цаг таван шил тараг томчуулд нэгнэгшил пиво эмэгтэйчүүдэд нэгнэгшил пиво нэг удаа биийм үгдуулав Ээ таминь тэр ” гэж байнга сэтгэл хөдлөн догдолно Харин бигэдэг хүн гэж ядаж байтал удалгүй курсыг ньдуусгав Латин хэлсурмаар санагдавч тэр оройдоо басбүтэн сайн өдрийг дуустал нь би дураараа байж болно гэвДараагийнх ньжилээс биэнээрдэнээ гэртээ хоёр Маргот бид хоёр дотно царай цонхийн Маргот хоёр удаа оройн дөрвөн настайдаа усанд орохдоо өмсдөг халатаа углаж нэггартаа саван нөгөө хоёр хэзээ ч юмбиш үүгэсэн Энэүгнээс ньтэр том хар борооноор ажилдаа шимтсэн Даан гуайн унтдаг юм ! Дуссел гуай бид гурав дахь өтгөн шингэний үнэр болгооно уу Ээж тэгтэл “ Их лэлгэсэг байцгаалаа Намайг бууж ирэх\n",
            "\n",
            "Trigram Text:\n",
            " юм “ Дээр танарыг дүрсгүйтэхгүй гэж итгэж байна Дээр доор хаана чочно бүгд лшинэ гутлыг минь шагшин хөлийг минь дэрлэн шалан дээр хэвтэв Нэг хүнээс хоёр хүнарай илүү юмсонсоно лдоо Хэлэлцээр үд гэхэд дууссангүй Харин аавүдээс хойш тэгэж удаанаар хэвтэж чадахгүй болсон байв Муу аав минь хэн чүлмэдэх сэтгэлийнхээ нууцыг ярьмаар санагдаад лтэрийг ярьсан биз Урьд нь аавхэзээ лөөрийнхөө амьдралыг ярьж байгаагүй юм Улиран одох тэр он жилүүдэд еврейчүүд хүчирхэгжинбатажсан Сул дорой ньустан талийхад амьдрах чадвартай ньүлдэн үндэс угсаагаа тасалсангүй ! ! ! гэж тэр лүеийг хэлэх байх даа Хөөрхий Анне ингээд лхэзээ чбүр ганц чудаа үнэн дүрээрээ олны дунд байж чадахгүй болохоор тэгдэг юмлдаа Энд ердөө лтөгсгөлийн ж-гньз-гээр сольсон хэрэг Миний зориуд дууддаг з- тэй уялдуулан “ ээж ” гэхийн эхний э-горхивол тэр нь “ над шиг нусгай охин бурхдын тухай сонирхож эхэлсэнд үнэмшихгүй бөөн юмболох нь тэр ах орох гэнэ Анне1942 оны зургадугаар сарын 24 Даваа гариг Хайрт Китти минь ямар нэгэнюманд бууж өгөхгүй хатуу чанга зориг тэвчээртэй байх чинь ямар тахилыг нь буруу өрчихөв гэмээр люмболно Тиймээ аливаа муу бүхнийг хүн өөрсдөө хийдэг шүү дээ Аав болшал ондоо Маргот бидхоёр хоёулаа аавдаа хайртай Бидний үеийнхэн бүгд лнэгчудаа гэсэн ээж нарын аан уун гэхээс холдож өөрсдөө дураараа байхыг хүсдэг шүү дээ Нэг бүдэрхэд долоо бүдэрдэг гэдэг байхаа Яагаад гэвэл нууцыг минь хэзээ чхэнд чхэлэхгүй дуугүй байдгийг чинь бимэдэх юм Эхнийх ньээжийн тухай яримаар байна Өнөөгийн залуусыг дотор нь орсон юмшиг мэддэг зохиолч залуу насыг ёстой нэгбудаа болтол ньшүүмжлэн бичжээ Мань зохиолч урдньзалуус лөөрсдөө хүсвэл ертөнцийг агуу сайхан болгон өөрчилж чадна гэдэгт итгэдэг байсан юмгэнэ Гэтэл ингэж итгэж найдаж явсан залуус ньзорилгоо ухамсарлахгүй цагаа үрашиггүй өнгөрөөж амьдралд дэндүү өнгөцхөн хөнгөмсгөөр хандаж байгаа юмбайх Арми ардтүмэн яг л “ урдаа барьдаг ганц эд ” гэдэг хивснийхээ тоосыг соруулж байгаа биз ? Хэрэв нэг дэх Анне дийлдэггүйсэн бол хамаагүй цөөхөн хүнийг гомдоож хүмүүс намайг хамаагүй илүү үнэлэхсэн Бинэгөдрийн үдийг хөгжиж наргиж өнгөрвөл хүнамьтан нэгсарнадаас дөлж буруутгана Үгүй тэгээд Аннегийн хагас ньболсон нэгдүгээр Аннег бихөөж зайлуулаад сайн Аннег үлдээх гээд чадаагүйг чидаанч төсөөлөхгүй дээ Тэгэж болохгүй яагаад чбүтэхгүйг биодоо л ойлгож байна билээ Авгай маань харчихаад бушуухан шиг угаалгын өрөөнд үсээ янзлах санаатай ортол тэрээр агуулахад байгаа Моффи муур руугаабууж яваа ньсонсогдов Нулимс дахиад лбөөн бөөнөөр асгараад ирэхээр ньбижорлон руу зугтаж жижиг толио нуув Час улаан өнгийн элгэвч маань нулимсанд халтартсан байв “ Сар хагасын өмнө хаалга эвдэх гэсэн тэр хацрыг ньхацарт минь хүрэхэд мэдэрсэн тэр гайхамшигт сэрэл санагдсаар байна Гэтэл энэ ном 598 хуудастай юм Энэ тань лбуруу юмшиг санагдах юм Өөр ч юмгүй дээ Анне1942 оны есдүгээр сарын 29 Лхагва гариг Хайрт Китти минь ! Айснаасаа чболсон юмуу гар минь чичирсээр байна Угньаль хоёр цагийн өмнө өдрийнхөө мэдээг бэлэн болготол Италийг бүхэлд ньавсан тухай гайхалтай сайхан төмс байна шүү Юуны түрүүнд л Вестертурмийн хонхны дуунд аав ээж Маргот гураваас ичээд байх боллоо Черчиль хатгаа тусч гэнэ Гэхдээ бие ньсайжирч байгаа юм Бид болхарин “ агаар хөдөлгөөн дутагдсанааслэнэ ” гэнэ Анне1944 оны тавдугаар сарын 2 Баасан гариг Хайрт Китти минь ! Даан гуай үүнийг мэдчихээд ихэд уурлан Петерээс тэр номыг ньүзэж\n"
          ]
        }
      ]
    }
  ]
}