{
  "nbformat": 4,
  "nbformat_minor": 0,
  "metadata": {
    "colab": {
      "provenance": []
    },
    "kernelspec": {
      "name": "python3",
      "display_name": "Python 3"
    },
    "language_info": {
      "name": "python"
    }
  },
  "cells": [
    {
      "cell_type": "markdown",
      "source": [
        "1. Өгөгдлийн багцад хэдэн мөр багтсан бэ? 2021 оны өгөгдлийг ялган nyc нэртэй фреймворк үүсгэ."
      ],
      "metadata": {
        "id": "2GSUoRoL27wT"
      }
    },
    {
      "cell_type": "code",
      "source": [
        "from pyspark.sql import SparkSession\n",
        "\n",
        "spark = SparkSession.builder.appName(\"NYC Payroll Analysis\").getOrCreate()\n",
        "\n",
        "file_path = '/content/Payroll_Data__Fiscal_Year.csv'\n",
        "df = spark.read.csv(file_path, header=True, inferSchema=True)\n",
        "\n",
        "total_rows = df.count()\n",
        "print(f\"Total rows in dataset: {total_rows}\")\n",
        "\n",
        "nyc = df.filter(df[\"Fiscal Year\"] == 2021)\n",
        "nyc_rows = nyc.count()\n",
        "print(f\"Rows in 2021 data: {nyc_rows}\")\n"
      ],
      "metadata": {
        "colab": {
          "base_uri": "https://localhost:8080/"
        },
        "id": "m97X0cvs28PT",
        "outputId": "a6871978-9d42-484e-d2fa-ef0ad43ae13e"
      },
      "execution_count": null,
      "outputs": [
        {
          "output_type": "stream",
          "name": "stdout",
          "text": [
            "Total rows in dataset: 6225611\n",
            "Rows in 2021 data: 573477\n"
          ]
        }
      ]
    },
    {
      "cell_type": "markdown",
      "source": [
        "2.     Зөвхөн 2021 оны санхүүгийн жилийн мэдээллийг ашиглан хичнээн хүн төлөөлдөг вэ?"
      ],
      "metadata": {
        "id": "h_PJqM1156a-"
      }
    },
    {
      "cell_type": "code",
      "source": [
        "unique_people = nyc.select(\"Payroll Number\").distinct().count()\n",
        "print(f\"Unique people in 2021 fiscal year: {unique_people}\")"
      ],
      "metadata": {
        "colab": {
          "base_uri": "https://localhost:8080/"
        },
        "id": "Pu0UmbQd6Qe0",
        "outputId": "1ea7d2dd-c95d-41f8-a203-d94fe9047fd9"
      },
      "execution_count": null,
      "outputs": [
        {
          "output_type": "stream",
          "name": "stdout",
          "text": [
            "Unique people in 2021 fiscal year: 156\n"
          ]
        }
      ]
    },
    {
      "cell_type": "markdown",
      "source": [
        "3    2021 онд хэн хамгийн өндөр үндсэн цалинтай байсан бэ? Түүний үндсэн цалин, ямар агентлагт ажилладаг, түүний албан тушаалыг харуул."
      ],
      "metadata": {
        "id": "bTCGuORW57TM"
      }
    },
    {
      "cell_type": "code",
      "source": [
        "from pyspark.sql.functions import col, concat, lit\n",
        "\n",
        "highest_salary = nyc.orderBy(col(\"Base Salary\").desc()) \\\n",
        "    .select(concat(\"First Name\", lit(\" \"), \"Last Name\").alias(\"Full Name\"), \"Base Salary\", \"Agency Name\", \"Title Description\") \\\n",
        "    .first()\n",
        "\n",
        "print(f\"Employee Name: {highest_salary['Full Name']}\")\n",
        "print(f\"Base Salary: {highest_salary['Base Salary']}\")\n",
        "print(f\"Agency: {highest_salary['Agency Name']}\")\n",
        "print(f\"Title: {highest_salary['Title Description']}\")"
      ],
      "metadata": {
        "colab": {
          "base_uri": "https://localhost:8080/"
        },
        "id": "QezRBIBs6juP",
        "outputId": "39ce29be-36f7-46e7-be25-dea353103d41"
      },
      "execution_count": null,
      "outputs": [
        {
          "output_type": "stream",
          "name": "stdout",
          "text": [
            "Employee Name: GUAJIRA THOMAS\n",
            "Base Salary: 99.62\n",
            "Agency: DEPT OF HEALTH/MENTAL HYGIENE\n",
            "Title: CITY MEDICAL SPECIALIST\n"
          ]
        }
      ]
    },
    {
      "cell_type": "markdown",
      "source": [
        "4.     2021 онд хамгийн өндөр цалинтай 5 ажилтныг харуулах"
      ],
      "metadata": {
        "id": "kBGxYkOZ6ewv"
      }
    },
    {
      "cell_type": "code",
      "source": [
        "top_5_employees = nyc.orderBy(col(\"Base Salary\").desc()) \\\n",
        "    .select(concat(\"First Name\", lit(\" \"), \"Last Name\").alias(\"Employee Name\"), \"Base Salary\", \"Agency Name\", \"Title Description\") \\\n",
        "    .limit(5)\n",
        "\n",
        "top_5_employees.show()"
      ],
      "metadata": {
        "colab": {
          "base_uri": "https://localhost:8080/"
        },
        "id": "oX7s4A2x7CZv",
        "outputId": "0b10b276-168c-495c-d0b6-7d1122dd175c"
      },
      "execution_count": null,
      "outputs": [
        {
          "output_type": "stream",
          "name": "stdout",
          "text": [
            "+------------------+-----------+--------------------+--------------------+\n",
            "|     Employee Name|Base Salary|         Agency Name|   Title Description|\n",
            "+------------------+-----------+--------------------+--------------------+\n",
            "|    GUAJIRA THOMAS|      99.62|DEPT OF HEALTH/ME...|CITY MEDICAL SPEC...|\n",
            "|   HERBERT KWASNIK|      99.37|DEPARTMENT OF COR...|CITY MEDICAL SPEC...|\n",
            "|   MITHLESH MATHUR|      99.37|DEPARTMENT OF COR...|CITY MEDICAL SPEC...|\n",
            "|    JITENDRA TOLIA|      99.37|DEPARTMENT OF COR...|CITY MEDICAL SPEC...|\n",
            "|CLAUDETTE ANDERSON|      99.37|DEPARTMENT OF COR...|CITY MEDICAL SPEC...|\n",
            "+------------------+-----------+--------------------+--------------------+\n",
            "\n"
          ]
        }
      ]
    },
    {
      "cell_type": "markdown",
      "source": [
        "5.    2021 онд аль ажилтан илүү цагаар хамгийн их цалин авсан бэ?"
      ],
      "metadata": {
        "id": "99wEfFZo6sbs"
      }
    },
    {
      "cell_type": "code",
      "source": [
        "highest_overtime = nyc.orderBy(col(\"Total OT Paid\").desc()) \\\n",
        "    .select(concat(\"First Name\", lit(\" \"), \"Last Name\").alias(\"Employee Name\"), \"Total OT Paid\", \"Agency Name\", \"Title Description\") \\\n",
        "    .first()\n",
        "\n",
        "print(f\"Employee Name: {highest_overtime['Employee Name']}\")\n",
        "print(f\"Overtime: {highest_overtime['Total OT Paid']}\")\n",
        "print(f\"Agency: {highest_overtime['Agency Name']}\")\n",
        "print(f\"Title: {highest_overtime['Title Description']}\")"
      ],
      "metadata": {
        "colab": {
          "base_uri": "https://localhost:8080/"
        },
        "id": "ryW-Dx3c7nQ7",
        "outputId": "059477c7-c1ea-4e55-f13a-7d5c9df72c98"
      },
      "execution_count": null,
      "outputs": [
        {
          "output_type": "stream",
          "name": "stdout",
          "text": [
            "Employee Name: SEAN PROWELL\n",
            "Overtime: 999.80\n",
            "Agency: DEPARTMENT OF EDUCATION ADMIN\n",
            "Title: SUPERVISING THERAPIST\n"
          ]
        }
      ]
    },
    {
      "cell_type": "markdown",
      "source": [
        "6.     Ажилтны цалин нь тэдний тогтмол цалин, илүү цагийн цалин болон бусад нийт цалингийн нийлбэртэй тэнцүү байна. (regular gross pay, total overtime pay, and total other pay) nyc DataFrame-д Total Gross Paid (нийт төлсөн  дүн )хэмээх баганыг үүсгэж мэдээллийг нэгтгэ."
      ],
      "metadata": {
        "id": "d9M7ipCV7SVp"
      }
    },
    {
      "cell_type": "code",
      "source": [
        "from pyspark.sql.functions import col, coalesce, lit, sum as pyspark_sum\n",
        "\n",
        "nyc = nyc.withColumn(\"Total Gross Paid\",\n",
        "                     coalesce(col(\"Regular Gross Paid\").cast(\"double\"), lit(0.0)) +\n",
        "                     coalesce(col(\"Total OT Paid\").cast(\"double\"), lit(0.0)) +\n",
        "                     coalesce(col(\"Total Other Pay\").cast(\"double\"), lit(0.0)))\n",
        "\n",
        "aggregated_data = nyc.groupBy(\"Agency Name\").agg(\n",
        "    pyspark_sum(col(\"Total Gross Paid\")).alias(\"Total Gross Paid by Agency\")\n",
        ")\n",
        "\n",
        "aggregated_data.show()"
      ],
      "metadata": {
        "colab": {
          "base_uri": "https://localhost:8080/"
        },
        "id": "4nLGnft88WXv",
        "outputId": "b2a9010b-476c-48c4-ad7e-5099b58aaadb"
      },
      "execution_count": null,
      "outputs": [
        {
          "output_type": "stream",
          "name": "stdout",
          "text": [
            "+--------------------+--------------------------+\n",
            "|         Agency Name|Total Gross Paid by Agency|\n",
            "+--------------------+--------------------------+\n",
            "|LANDMARKS PRESERV...|         8310.920000000002|\n",
            "|DISTRICT ATTORNEY...|                  20565.88|\n",
            "|QUEENS COMMUNITY ...|                     72.73|\n",
            "|OFFICE OF COLLECT...|                       0.0|\n",
            "|BRONX DISTRICT AT...|         60613.72999999998|\n",
            "|QUEENS COMMUNITY ...|        2.7199999999999998|\n",
            "|BRONX COMMUNITY B...|                      83.5|\n",
            "|QUEENS COMMUNITY ...|                    762.73|\n",
            "|MANHATTAN COMMUNI...|                    694.67|\n",
            "|     FIRE DEPARTMENT|         812603.4300000006|\n",
            "|BROOKLYN COMMUNIT...|                    140.25|\n",
            "|BROOKLYN COMMUNIT...|                       0.0|\n",
            "|ADMIN FOR CHILDRE...|        1317813.2499999993|\n",
            "|QUEENS COMMUNITY ...|                       0.0|\n",
            "|QUEENS COMMUNITY ...|                    272.75|\n",
            "|DEPT OF ED PER SE...|      2.3136645300000712E7|\n",
            "|DEPT OF ED PER DI...|          538600.499999994|\n",
            "|NYC POLICE PENSIO...|        14400.760000000002|\n",
            "|MUNICIPAL WATER F...|                    162.08|\n",
            "|MANHATTAN COMMUNI...|                     214.5|\n",
            "+--------------------+--------------------------+\n",
            "only showing top 20 rows\n",
            "\n"
          ]
        }
      ]
    },
    {
      "cell_type": "markdown",
      "source": [
        "7.     2021 онд бүх ажилчдын цалингийн дундаж болон медиан хэд вэ?"
      ],
      "metadata": {
        "id": "lgl0KUEM7v40"
      }
    },
    {
      "cell_type": "code",
      "source": [
        "from pyspark.sql.types import DoubleType\n",
        "from pyspark.sql.functions import col, mean\n",
        "\n",
        "nyc = nyc.withColumn(\"Base Salary\", col(\"Base Salary\").cast(DoubleType()))\n",
        "mean_salary = nyc.agg(mean(\"Base Salary\").alias(\"Mean Salary\")).first()[\"Mean Salary\"]\n",
        "median_salary = nyc.approxQuantile(\"Base Salary\", [0.5], 0.01)[0]\n",
        "print(f\"Mean Salary: {mean_salary}\")\n",
        "print(f\"Median Salary: {median_salary}\")"
      ],
      "metadata": {
        "colab": {
          "base_uri": "https://localhost:8080/"
        },
        "id": "y2y6o2xm84OS",
        "outputId": "2fa31d9f-8779-44cc-83f2-c12809e52228"
      },
      "execution_count": null,
      "outputs": [
        {
          "output_type": "stream",
          "name": "stdout",
          "text": [
            "Mean Salary: 53.05191369745888\n",
            "Median Salary: 33.18\n"
          ]
        }
      ]
    },
    {
      "cell_type": "markdown",
      "source": [
        "8.     2021 оны мэдээлэлд ажилчид хэдэн  агентлагт ажиллаж байна вэ ?"
      ],
      "metadata": {
        "id": "l_X4xcaq8gHa"
      }
    },
    {
      "cell_type": "code",
      "source": [
        "distinct_agencies = nyc.select(\"Agency Name\").distinct().count()\n",
        "print(f\"Number of agencies in 2021: {distinct_agencies}\")\n"
      ],
      "metadata": {
        "colab": {
          "base_uri": "https://localhost:8080/"
        },
        "id": "ZmKqzemU8gxo",
        "outputId": "2e222fb9-54c3-48d5-af7d-3e20f73a5d47"
      },
      "execution_count": null,
      "outputs": [
        {
          "output_type": "stream",
          "name": "stdout",
          "text": [
            "Number of agencies in 2021: 156\n"
          ]
        }
      ]
    },
    {
      "cell_type": "markdown",
      "source": [
        "9.     2021 онд ямар агентлагууд хамгийн их, хамгийн бага дундаж цалинтай байсан бэ?"
      ],
      "metadata": {
        "id": "-0K0bMCs8m8_"
      }
    },
    {
      "source": [
        "from pyspark.sql.functions import when, isnan\n",
        "\n",
        "\n",
        "nyc = nyc.withColumn(\"Base Salary\", col(\"Base Salary\").cast(\"double\"))\n",
        "\n",
        "agency_avg_salaries = nyc.groupBy(\"Agency Name\").agg(mean(\"Base Salary\").alias(\"Average Salary\"))\n",
        "\n",
        "agency_avg_salaries = agency_avg_salaries.withColumn(\n",
        "    \"Average Salary\",\n",
        "    when(isnan(\"Average Salary\"), 0).otherwise(col(\"Average Salary\"))\n",
        ")\n",
        "\n",
        "highest_avg_salary = agency_avg_salaries.orderBy(col(\"Average Salary\").desc()).first()\n",
        "\n",
        "lowest_avg_salary = agency_avg_salaries.filter(col(\"Average Salary\").isNotNull()).orderBy(col(\"Average Salary\").asc()).first()\n",
        "\n",
        "print(f\"Highest Average Salary: {highest_avg_salary['Agency Name']} - ${highest_avg_salary['Average Salary']:.2f}\")\n",
        "if lowest_avg_salary:\n",
        "    print(f\"Lowest Average Salary: {lowest_avg_salary['Agency Name']} - ${lowest_avg_salary['Average Salary']:.2f}\")\n",
        "else:\n",
        "    print(\"No agency found with a non-null lowest average salary.\")"
      ],
      "cell_type": "code",
      "metadata": {
        "colab": {
          "base_uri": "https://localhost:8080/"
        },
        "id": "mJ9KY3S--R1L",
        "outputId": "855e9efa-5e38-4bfd-9dd2-80a7e78086d3"
      },
      "execution_count": null,
      "outputs": [
        {
          "output_type": "stream",
          "name": "stdout",
          "text": [
            "Highest Average Salary: CIVIL SERVICE COMMISSION - $465.85\n",
            "Lowest Average Salary: DISTRICT ATTORNEY-SPECIAL NARC - $1.00\n"
          ]
        }
      ]
    },
    {
      "cell_type": "markdown",
      "source": [
        "10.  Хотын дарга Билл де Блазио 2021 онд хэр их орлого олсон (нийт цалин) бэ? Захирагчийн ажлын албанд хамгийн өндөр цалинг хэн авсан бэ? Хотын дарга Билл де Блазио хотын захирагчийн албанд хэзээ ажиллаж эхэлсэн бэ?"
      ],
      "metadata": {
        "id": "TrdYACqY9Ghr"
      }
    },
    {
      "cell_type": "code",
      "source": [
        "print(nyc.columns)\n"
      ],
      "metadata": {
        "colab": {
          "base_uri": "https://localhost:8080/"
        },
        "id": "mtHcHdiUFqaH",
        "outputId": "a30d2bdd-4604-4733-bdaf-bcc8484b6936"
      },
      "execution_count": null,
      "outputs": [
        {
          "output_type": "stream",
          "name": "stdout",
          "text": [
            "['Fiscal Year', 'Payroll Number', 'Agency Name', 'Last Name', 'First Name', 'Mid Init', 'Agency Start Date', 'Work Location Borough', 'Title Description', 'Leave Status as of June 30', 'Base Salary', 'Pay Basis', 'Regular Hours', 'Regular Gross Paid', 'OT Hours', 'Total OT Paid', 'Total Other Pay', 'Total Gross Paid']\n"
          ]
        }
      ]
    },
    {
      "cell_type": "code",
      "source": [
        "nyc.filter(\n",
        "    (col(\"Last Name\") == \"DE BLASIO\") & (col(\"First Name\") == \"BILL\") & (col(\"Fiscal Year\") == 2021)\n",
        ").show(truncate=False)\n"
      ],
      "metadata": {
        "colab": {
          "base_uri": "https://localhost:8080/"
        },
        "id": "FqICQqf0GNxZ",
        "outputId": "04eb33ac-521f-45dc-863d-cab844645255"
      },
      "execution_count": null,
      "outputs": [
        {
          "output_type": "stream",
          "name": "stdout",
          "text": [
            "+-----------+--------------+-------------------+---------+----------+--------+-----------------+---------------------+-----------------+--------------------------+-----------+---------+-------------+------------------+--------+-------------+---------------+----------------+\n",
            "|Fiscal Year|Payroll Number|Agency Name        |Last Name|First Name|Mid Init|Agency Start Date|Work Location Borough|Title Description|Leave Status as of June 30|Base Salary|Pay Basis|Regular Hours|Regular Gross Paid|OT Hours|Total OT Paid|Total Other Pay|Total Gross Paid|\n",
            "+-----------+--------------+-------------------+---------+----------+--------+-----------------+---------------------+-----------------+--------------------------+-----------+---------+-------------+------------------+--------+-------------+---------------+----------------+\n",
            "|2021       |2             |OFFICE OF THE MAYOR|DE BLASIO|BILL      |NULL    |01/01/2014       |MANHATTAN            |MAYOR            |ACTIVE                    |NULL       |per Annum|1,820        |258,021.79        |0       |0.00         |-4,956.90      |0.0             |\n",
            "+-----------+--------------+-------------------+---------+----------+--------+-----------------+---------------------+-----------------+--------------------------+-----------+---------+-------------+------------------+--------+-------------+---------------+----------------+\n",
            "\n"
          ]
        }
      ]
    },
    {
      "cell_type": "markdown",
      "source": [
        "11.  2021 онд нэг ажлын байранд ногдох үндсэн цалин хэд байсан бэ?"
      ],
      "metadata": {
        "id": "mZ9ZXqrW9Pka"
      }
    },
    {
      "cell_type": "code",
      "source": [
        "nyc = nyc.withColumn(\"Base Salary\", col(\"Base Salary\").cast(\"double\"))\n",
        "nyc_2021 = nyc.filter(col(\"Base Salary\").isNotNull() & (col(\"Fiscal Year\") == 2021))\n",
        "\n",
        "avg_salary_per_job = nyc_2021.groupBy(\"Title Description\").agg(\n",
        "    mean(\"Base Salary\").alias(\"Average Base Salary\")\n",
        ")\n",
        "\n",
        "avg_salary_per_job_sorted = avg_salary_per_job.orderBy(col(\"Average Base Salary\").desc())\n",
        "avg_salary_per_job_sorted.show(truncate=False)\n"
      ],
      "metadata": {
        "colab": {
          "base_uri": "https://localhost:8080/"
        },
        "id": "CJAcxdBp9V1X",
        "outputId": "99038bde-92f1-4ca7-eee9-978fa18323ff"
      },
      "execution_count": null,
      "outputs": [
        {
          "output_type": "stream",
          "name": "stdout",
          "text": [
            "+-------------------------------------------+-------------------+\n",
            "|Title Description                          |Average Base Salary|\n",
            "+-------------------------------------------+-------------------+\n",
            "|PRINCIPAL                                  |870.8126666666667  |\n",
            "|ASSISTANT PRINCIPAL                        |658.2873239436618  |\n",
            "|SUPERVISOR                                 |654.3277777777777  |\n",
            "|SENIOR STATIONARY ENGINEER                 |589.8342857142856  |\n",
            "|WELDER                                     |548.0              |\n",
            "|CRANE OPERATOR AMPES                       |543.94             |\n",
            "|SUPERVISOR OF MECHANICS                    |497.6884210526315  |\n",
            "|CHAIRMAN                                   |496.31             |\n",
            "|STATIONARY ENGINEER                        |487.289512670566   |\n",
            "|OILER                                      |477.6961572052402  |\n",
            "|SENIOR SUPERVISOR COMMUNICATION ELECTRICIAN|470.96             |\n",
            "|COMPOSITOR                                 |468.8066666666667  |\n",
            "|SUPERVISOR SHIP CARPENTER                  |454.4              |\n",
            "|SUPERVISOR ELECTRICIAN                     |446.8475454545454  |\n",
            "|SUPERVISOR ELEVATOR MECHANIC               |446.7199999999998  |\n",
            "|SUPERVISING COMMUNICATION ELECTRICIAN      |437.4109090909091  |\n",
            "|SHIP CARPENTER                             |428.6              |\n",
            "|SUPERVISOR SHEET METAL WORKER              |426.5625           |\n",
            "|SUPERVISOR BRICKLAYER                      |422.64333333333326 |\n",
            "|RIGGER                                     |416.32             |\n",
            "+-------------------------------------------+-------------------+\n",
            "only showing top 20 rows\n",
            "\n"
          ]
        }
      ]
    },
    {
      "cell_type": "markdown",
      "source": [
        "12.  Ажлын байр бүрийн хувьд хамгийн өндөр үндсэн цалинтай ажжилтныг харуул."
      ],
      "metadata": {
        "id": "Vq8tzGms9Q_k"
      }
    },
    {
      "cell_type": "code",
      "source": [
        "from pyspark.sql.window import Window\n",
        "from pyspark.sql.functions import col, rank, when\n",
        "\n",
        "nyc_cleaned = nyc.filter(col(\"Base Salary\").isNotNull())\n",
        "nyc_cleaned = nyc_cleaned.withColumn(\"Base Salary\", col(\"Base Salary\").cast(\"double\"))\n",
        "nyc_cleaned = nyc_cleaned.withColumn(\n",
        "    \"Annualized Base Salary\",\n",
        "    when(col(\"Pay Basis\") == \"Hourly\", col(\"Base Salary\") * 2080)\n",
        "    .when(col(\"Pay Basis\") == \"Daily\", col(\"Base Salary\") * 260)\n",
        "    .otherwise(col(\"Base Salary\"))\n",
        ")\n",
        "\n",
        "window_spec = Window.partitionBy(\"Title Description\").orderBy(col(\"Annualized Base Salary\").desc())\n",
        "\n",
        "nyc_with_rank = nyc_cleaned.withColumn(\"rank\", rank().over(window_spec))\n",
        "\n",
        "highest_paid_per_job = nyc_with_rank.filter(col(\"rank\") == 1).select(\n",
        "    \"Title Description\", \"Last Name\", \"First Name\", \"Annualized Base Salary\", \"Agency Name\"\n",
        ")\n",
        "highest_paid_per_job.show(truncate=False)\n"
      ],
      "metadata": {
        "colab": {
          "base_uri": "https://localhost:8080/"
        },
        "id": "aMHwgMVKA0A9",
        "outputId": "1116eaff-d567-4d01-9bbc-60c688ede812"
      },
      "execution_count": null,
      "outputs": [
        {
          "output_type": "stream",
          "name": "stdout",
          "text": [
            "+------------------------------------+----------+----------+----------------------+------------------------------+\n",
            "|Title Description                   |Last Name |First Name|Annualized Base Salary|Agency Name                   |\n",
            "+------------------------------------+----------+----------+----------------------+------------------------------+\n",
            "|NULL                                |ORTIZ     |A         |16.52                 |DEPT OF ED HRLY SUPPORT STAFF |\n",
            "|*ATTORNEY AT LAW                    |LEVY      |HELEN     |64.17                 |HOUSING PRESERVATION & DVLPMNT|\n",
            "|ACCOUNTANT                          |RUVINOV   |VITALIY   |35.26                 |HOUSING PRESERVATION & DVLPMNT|\n",
            "|ADJUNCT ASSISTANT PROFESSOR         |TEZAPSIDIS|JANE      |757.73                |COMMUNITY COLLEGE (MANHATTAN) |\n",
            "|ADJUNCT ASSOCIATE PROFESSOR         |GROTH     |CAMILLA   |383.18                |COMMUNITY COLLEGE (BRONX)     |\n",
            "|ADJUNCT COLLEGE LAB TECH            |MIYASHIRO |SAUNDRA   |55.6                  |COMMUNITY COLLEGE (MANHATTAN) |\n",
            "|ADJUNCT LECTURER                    |NAVARRO   |ABEL      |858.76                |COMMUNITY COLLEGE (MANHATTAN) |\n",
            "|ADJUNCT PROFESSOR                   |CARLSON   |LYNDA     |557.28                |COMMUNITY COLLEGE (MANHATTAN) |\n",
            "|ADJUNCT SENIOR COLLEGE LAB TECH     |HIDALGO   |CESAR     |48.12                 |COMMUNITY COLLEGE (MANHATTAN) |\n",
            "|ADJUNCT SENIOR COLLEGE LAB TECH     |SOLDEVILLA|ALTAGRACIA|48.12                 |COMMUNITY COLLEGE (MANHATTAN) |\n",
            "|ADJUNCT SENIOR COLLEGE LAB TECH     |PEARSON   |KIMBERLEE |48.12                 |COMMUNITY COLLEGE (LAGUARDIA) |\n",
            "|ADJUNCT SENIOR COLLEGE LAB TECH     |FONG      |MADELINE  |48.12                 |COMMUNITY COLLEGE (MANHATTAN) |\n",
            "|ADJUNCT SENIOR COLLEGE LAB TECH     |KALINISAN |JULIAN    |48.12                 |COMMUNITY COLLEGE (MANHATTAN) |\n",
            "|ADJUNCT SENIOR COLLEGE LAB TECH     |SOLDEVILLA|ALTAGRACIA|48.12                 |COMMUNITY COLLEGE (MANHATTAN) |\n",
            "|ADJUNCT SENIOR COLLEGE LAB TECH     |CADOGAN   |DAVID     |48.12                 |COMMUNITY COLLEGE (MANHATTAN) |\n",
            "|ADM MANAGER-NON-MGRL                |ACKER     |LINDA     |58.7                  |DEPT OF PARKS & RECREATION    |\n",
            "|ADM MANAGER-NON-MGRL                |ROGERS    |COLLEEN   |58.7                  |DEPT OF PARKS & RECREATION    |\n",
            "|ADM MANAGER-NON-MGRL                |YOUNG     |AMANDA    |58.7                  |DEPT OF PARKS & RECREATION    |\n",
            "|ADMIN ASST-CAMPAIGN FIN BOARD       |NG        |DONNA     |40.16                 |CAMPAIGN FINANCE BOARD        |\n",
            "|ADMIN COMMUNITY RELATIONS SPECIALIST|MASTEL    |JAMES     |53.13                 |FIRE DEPARTMENT               |\n",
            "+------------------------------------+----------+----------+----------------------+------------------------------+\n",
            "only showing top 20 rows\n",
            "\n"
          ]
        }
      ]
    },
    {
      "cell_type": "markdown",
      "source": [
        "13.  2021 оны өгөгдлийг ажлын байршил, дараа нь агентлагийн нэрээр бүлэглээд, бүлэглэсэн өгөгдлөөс хамгийн их таван үндсэн цалинтай ажилчдын мэдээллийг харуул."
      ],
      "metadata": {
        "id": "eV0VBl9FA4gz"
      }
    },
    {
      "cell_type": "code",
      "source": [
        "from pyspark.sql.window import Window\n",
        "from pyspark.sql.functions import col, rank, desc\n",
        "\n",
        "nyc = nyc.withColumn(\"Base Salary\", col(\"Base Salary\").cast(\"double\"))\n",
        "nyc_cleaned = nyc.filter(col(\"Base Salary\").isNotNull())\n",
        "window_spec = Window.partitionBy(\"Work Location Borough\", \"Agency Name\").orderBy(desc(\"Base Salary\"))\n",
        "nyc_ranked = nyc_cleaned.withColumn(\"rank\", rank().over(window_spec))\n",
        "top_5_employees_per_group = nyc_ranked.filter(col(\"rank\") <= 5).select(\n",
        "    \"Work Location Borough\",\n",
        "    \"Agency Name\",\n",
        "    \"Last Name\",\n",
        "    \"First Name\",\n",
        "    \"Base Salary\",\n",
        "    \"Title Description\",\n",
        "    \"rank\"\n",
        ")\n",
        "\n",
        "top_5_employees_per_group.show(truncate=False)\n"
      ],
      "metadata": {
        "colab": {
          "base_uri": "https://localhost:8080/"
        },
        "id": "7G1A2CKc9Vac",
        "outputId": "24960f83-554e-40ce-dc20-29f61423acb3"
      },
      "execution_count": null,
      "outputs": [
        {
          "output_type": "stream",
          "name": "stdout",
          "text": [
            "+---------------------+------------------------------+------------+----------+-----------+-----------------------------------------------+----+\n",
            "|Work Location Borough|Agency Name                   |Last Name   |First Name|Base Salary|Title Description                              |rank|\n",
            "+---------------------+------------------------------+------------+----------+-----------+-----------------------------------------------+----+\n",
            "|ALBANY               |DEPT OF ENVIRONMENT PROTECTION|EBERHARDT   |ANDREW    |618.24     |SENIOR STATIONARY ENGINEER                     |1   |\n",
            "|ALBANY               |DEPT OF ENVIRONMENT PROTECTION|FAHD        |MARK      |501.92     |STATIONARY ENGINEER                            |2   |\n",
            "|BRONX                |ADMIN FOR CHILDREN'S SVCS     |WASHINGTON  |LINDA     |25.95      |PRINCIPAL ADMINISTRATIVE ASSOCIATE -  NON SUPVR|1   |\n",
            "|BRONX                |ADMIN FOR CHILDREN'S SVCS     |BLOUNT      |KATHY     |25.95      |PRINCIPAL ADMINISTRATIVE ASSOCIATE -  NON SUPVR|1   |\n",
            "|BRONX                |ADMIN TRIALS AND HEARINGS     |BATES HUDSON|EBONETTE  |57.99      |HEARING OFFICER                                |1   |\n",
            "|BRONX                |ADMIN TRIALS AND HEARINGS     |ROSS        |KRISTINA  |57.99      |HEARING OFFICER                                |1   |\n",
            "|BRONX                |ADMIN TRIALS AND HEARINGS     |BADNER      |BETH      |57.99      |HEARING OFFICER                                |1   |\n",
            "|BRONX                |ADMIN TRIALS AND HEARINGS     |SEWELL      |JAMIN     |57.99      |HEARING OFFICER                                |1   |\n",
            "|BRONX                |ADMIN TRIALS AND HEARINGS     |TOLAN       |MARGARET  |57.99      |HEARING OFFICER                                |1   |\n",
            "|BRONX                |ADMIN TRIALS AND HEARINGS     |MERCURIO    |PATRICK   |57.99      |HEARING OFFICER                                |1   |\n",
            "|BRONX                |ADMIN TRIALS AND HEARINGS     |MARTINEZ    |MARCELO   |57.99      |HEARING OFFICER                                |1   |\n",
            "|BRONX                |ADMIN TRIALS AND HEARINGS     |CHEN        |WILLIAM   |57.99      |HEARING OFFICER                                |1   |\n",
            "|BRONX                |ADMIN TRIALS AND HEARINGS     |FINKEL      |MELANIE   |57.99      |HEARING OFFICER                                |1   |\n",
            "|BRONX                |ADMIN TRIALS AND HEARINGS     |ISRAEL      |HERBERT   |57.99      |HEARING OFFICER                                |1   |\n",
            "|BRONX                |ADMIN TRIALS AND HEARINGS     |GLASER      |PAULINE   |57.99      |HEARING OFFICER                                |1   |\n",
            "|BRONX                |ADMIN TRIALS AND HEARINGS     |DODELL      |SUE       |57.99      |HEARING OFFICER                                |1   |\n",
            "|BRONX                |ADMIN TRIALS AND HEARINGS     |FRENKEL     |SYLVIA    |57.99      |HEARING OFFICER                                |1   |\n",
            "|BRONX                |ADMIN TRIALS AND HEARINGS     |STERN       |PATRICIA  |57.99      |HEARING OFFICER                                |1   |\n",
            "|BRONX                |ADMIN TRIALS AND HEARINGS     |PIERRE      |NATASHA   |57.99      |HEARING OFFICER                                |1   |\n",
            "|BRONX                |ADMIN TRIALS AND HEARINGS     |FEINMAN     |MEREDITH  |57.99      |HEARING OFFICER                                |1   |\n",
            "+---------------------+------------------------------+------------+----------+-----------+-----------------------------------------------+----+\n",
            "only showing top 20 rows\n",
            "\n"
          ]
        }
      ]
    },
    {
      "cell_type": "markdown",
      "source": [
        "14.  Цалингийн нийлбэоийг оноор харуул."
      ],
      "metadata": {
        "id": "EW8FYwPD9T17"
      }
    },
    {
      "cell_type": "code",
      "source": [
        "nyc = nyc.withColumn(\n",
        "    \"Total Salary\",\n",
        "    coalesce(col(\"Regular Gross Paid\").cast(\"double\"), lit(0.0)) +\n",
        "    coalesce(col(\"Total OT Paid\").cast(\"double\"), lit(0.0)) +\n",
        "    coalesce(col(\"Total Other Pay\").cast(\"double\"), lit(0.0))\n",
        ")"
      ],
      "metadata": {
        "id": "UF_uEyidCES6"
      },
      "execution_count": null,
      "outputs": []
    },
    {
      "cell_type": "code",
      "source": [
        "null_total_salary_count = nyc.filter(col(\"Total Salary\").isNull()).count()\n",
        "print(f\"Rows with NULL Total Salary after recalculation: {null_total_salary_count}\")"
      ],
      "metadata": {
        "colab": {
          "base_uri": "https://localhost:8080/"
        },
        "id": "FF8eMIJcCFxi",
        "outputId": "31809f17-6fc3-494c-8068-e5ba05a6d26a"
      },
      "execution_count": null,
      "outputs": [
        {
          "output_type": "stream",
          "name": "stdout",
          "text": [
            "Rows with NULL Total Salary after recalculation: 0\n"
          ]
        }
      ]
    },
    {
      "cell_type": "code",
      "source": [
        "from pyspark.sql.functions import sum as _sum # Import sum function with an alias\n",
        "\n",
        "total_salary_by_year = nyc.groupBy(\"Fiscal Year\").agg(\n",
        "    _sum(col(\"Total Salary\").cast(\"double\")).alias(\"Total Salary\") # Explicitly cast the column to double and use aliased sum\n",
        ")\n",
        "\n",
        "total_salary_by_year = total_salary_by_year.orderBy(\"Fiscal Year\")\n",
        "total_salary_by_year.show(truncate=False)"
      ],
      "metadata": {
        "colab": {
          "base_uri": "https://localhost:8080/"
        },
        "id": "oIOdZlU_CGvS",
        "outputId": "5c13439f-d02e-49d6-84d6-59b8b2979966"
      },
      "execution_count": null,
      "outputs": [
        {
          "output_type": "stream",
          "name": "stdout",
          "text": [
            "+-----------+------------------+\n",
            "|Fiscal Year|Total Salary      |\n",
            "+-----------+------------------+\n",
            "|2021       |7.47281298899989E7|\n",
            "+-----------+------------------+\n",
            "\n"
          ]
        }
      ]
    },
    {
      "cell_type": "markdown",
      "source": [
        "15.  Ажилчдын тоог оноор харуул."
      ],
      "metadata": {
        "id": "wXXvT-oYBLQ6"
      }
    },
    {
      "cell_type": "code",
      "source": [
        "from pyspark.sql.functions import countDistinct\n",
        "\n",
        "employees_by_year = nyc.groupBy(\"Fiscal Year\").agg(\n",
        "    countDistinct(\"Payroll Number\").alias(\"Number of Employees\")\n",
        ")\n",
        "employees_by_year = employees_by_year.orderBy(\"Fiscal Year\")\n",
        "\n",
        "employees_by_year.show(truncate=False)"
      ],
      "metadata": {
        "colab": {
          "base_uri": "https://localhost:8080/"
        },
        "id": "VjBG1fHBBWs_",
        "outputId": "3afe850a-2a13-4046-f1b2-17212e7e38ce"
      },
      "execution_count": null,
      "outputs": [
        {
          "output_type": "stream",
          "name": "stdout",
          "text": [
            "+-----------+-------------------+\n",
            "|Fiscal Year|Number of Employees|\n",
            "+-----------+-------------------+\n",
            "|2021       |156                |\n",
            "+-----------+-------------------+\n",
            "\n"
          ]
        }
      ]
    },
    {
      "cell_type": "code",
      "source": [
        "nyc.select(\"Fiscal Year\").distinct().show()"
      ],
      "metadata": {
        "colab": {
          "base_uri": "https://localhost:8080/"
        },
        "id": "50-eLVftCbJD",
        "outputId": "fcf68d72-41c6-41dc-ab4b-59b2b4ef4891"
      },
      "execution_count": null,
      "outputs": [
        {
          "output_type": "stream",
          "name": "stdout",
          "text": [
            "+-----------+\n",
            "|Fiscal Year|\n",
            "+-----------+\n",
            "|       2021|\n",
            "+-----------+\n",
            "\n"
          ]
        }
      ]
    },
    {
      "cell_type": "markdown",
      "source": [
        "16.  2021 оны нийт цалингийн медиан дээр үндэслэн ямар албан тушаалууд (titles -аар нь бүлэглэсэн) хамгийн их цалин авдаг вэ?"
      ],
      "metadata": {
        "id": "uQpzU6jjBMaA"
      }
    },
    {
      "cell_type": "code",
      "source": [
        "from pyspark.sql.functions import col, expr, percentile_approx\n",
        "\n",
        "nyc = nyc.withColumn(\"Total Salary\", col(\"Total Salary\").cast(\"double\"))\n",
        "\n",
        "median_salary_per_title = nyc.groupBy(\"Title Description\").agg(\n",
        "    percentile_approx(\"Total Salary\", 0.5).alias(\"Median Total Salary\")\n",
        ")\n",
        "\n",
        "highest_median_salaries = median_salary_per_title.orderBy(col(\"Median Total Salary\").desc())\n",
        "\n",
        "highest_median_salaries.show(truncate=False)\n"
      ],
      "metadata": {
        "colab": {
          "base_uri": "https://localhost:8080/"
        },
        "id": "jSw7vuZ8BXWy",
        "outputId": "7da76cda-580a-4a7a-fb0a-c1f916dd0ac0"
      },
      "execution_count": null,
      "outputs": [
        {
          "output_type": "stream",
          "name": "stdout",
          "text": [
            "+----------------------------------------------------------+-------------------+\n",
            "|Title Description                                         |Median Total Salary|\n",
            "+----------------------------------------------------------+-------------------+\n",
            "|PRINCIPAL SCHOOL-NEIGHBORHOOD WORKER                      |1144.23            |\n",
            "|HOME AIDE                                                 |907.09             |\n",
            "|SCHOOL CROSSING GUARD                                     |844.77             |\n",
            "|SENIOR SCHOOL LUNCH AIDE                                  |842.44             |\n",
            "|DIRECTOR OF CONTRACT ADMINISTRATION                       |838.0              |\n",
            "|FINANCE OFFICER                                           |802.55             |\n",
            "|HUMAN RESOURCES TECHNICIAN                                |797.63             |\n",
            "|SCHOOL EQUIPMENT MAINTAINER                               |797.63             |\n",
            "|SCHOOL-NEIGHBORHOOD WORKER                                |797.63             |\n",
            "|SENIOR SCHOOL-NEIGHBORHOOD WORKER                         |797.63             |\n",
            "|PRINCIPAL CUSTODIAL SUPERVISOR                            |797.24             |\n",
            "|PRECINCT COMMUNITY RELATIONS AIDE                         |714.23             |\n",
            "|ENGINEERING WORK STUDY TRAINEE                            |701.57             |\n",
            "|SECRETARY TO THE CHIEF ACTUARY                            |670.66             |\n",
            "|PEER COUNSELOR                                            |665.56             |\n",
            "|UFT SCHOOL SECRETARY ASSIGNED - NON SCHOOL BASED- 12 MONTH|642.42             |\n",
            "|SECRETARY TO THE FIRST DEPUTY COMMISSIONER-PD             |614.82             |\n",
            "|PRECINCT RECEPTIONIST                                     |608.99             |\n",
            "|ASSISTANT COLLEGE SECURITY DIRECTOR                       |600.0              |\n",
            "|CARRIAGE UPHOLSTERER                                      |574.72             |\n",
            "+----------------------------------------------------------+-------------------+\n",
            "only showing top 20 rows\n",
            "\n"
          ]
        }
      ]
    },
    {
      "cell_type": "markdown",
      "source": [
        "17.  2021 онд хамгийн олон илүү цагаар ажилладаг 10 агентлаг юу вэ?"
      ],
      "metadata": {
        "id": "kzanoosHBNte"
      }
    },
    {
      "cell_type": "code",
      "source": [
        "from pyspark.sql.functions import col, expr, percentile_approx, sum\n",
        "\n",
        "nyc = nyc.withColumn(\"Total OT Paid\", col(\"Total OT Paid\").cast(\"double\"))\n",
        "\n",
        "overtime_by_agency = nyc.groupBy(\"Agency Name\").agg(\n",
        "    sum(\"Total OT Paid\").alias(\"Total Overtime Paid\")\n",
        ")\n",
        "\n",
        "top_overtime_agencies = overtime_by_agency.orderBy(col(\"Total Overtime Paid\").desc())\n",
        "top_10_overtime_agencies = top_overtime_agencies.limit(10)\n",
        "\n",
        "top_10_overtime_agencies.show(truncate=False)\n"
      ],
      "metadata": {
        "colab": {
          "base_uri": "https://localhost:8080/"
        },
        "id": "5MvAZeSJBXFX",
        "outputId": "97777107-adf5-44ea-e357-635f138c1ef5"
      },
      "execution_count": null,
      "outputs": [
        {
          "output_type": "stream",
          "name": "stdout",
          "text": [
            "+------------------------------+-------------------+\n",
            "|Agency Name                   |Total Overtime Paid|\n",
            "+------------------------------+-------------------+\n",
            "|POLICE DEPARTMENT             |2268962.629999985  |\n",
            "|DEPT OF PARKS & RECREATION    |1049075.5500000017 |\n",
            "|DEPARTMENT OF EDUCATION ADMIN |891089.8299999997  |\n",
            "|DEPARTMENT OF CORRECTION      |691681.0000000002  |\n",
            "|NYC HOUSING AUTHORITY         |658904.6399999994  |\n",
            "|ADMIN FOR CHILDREN'S SVCS     |496740.7900000002  |\n",
            "|FIRE DEPARTMENT               |461717.9500000002  |\n",
            "|HRA/DEPT OF SOCIAL SERVICES   |453219.71000000025 |\n",
            "|DEPT OF HEALTH/MENTAL HYGIENE |428375.4799999994  |\n",
            "|DEPT OF ENVIRONMENT PROTECTION|307409.61          |\n",
            "+------------------------------+-------------------+\n",
            "\n"
          ]
        }
      ]
    }
  ]
}