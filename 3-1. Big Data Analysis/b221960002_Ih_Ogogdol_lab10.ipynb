{
  "cells": [
    {
      "cell_type": "markdown",
      "id": "a59257d9",
      "metadata": {
        "id": "a59257d9"
      },
      "source": [
        "**Importing and Initializing**"
      ]
    },
    {
      "cell_type": "code",
      "execution_count": null,
      "id": "43850e77",
      "metadata": {
        "id": "43850e77"
      },
      "outputs": [],
      "source": [
        "import pyspark"
      ]
    },
    {
      "cell_type": "code",
      "execution_count": null,
      "id": "70833252",
      "metadata": {
        "id": "70833252"
      },
      "outputs": [],
      "source": [
        "from pyspark.sql import SparkSession\n",
        "from pyspark.sql.functions import count, col, when, desc, max, asc, avg, round"
      ]
    },
    {
      "cell_type": "code",
      "execution_count": null,
      "id": "8ac8793c",
      "metadata": {
        "id": "8ac8793c"
      },
      "outputs": [],
      "source": [
        "spark = SparkSession.builder.appName(\"Netflix Data Analysis\").getOrCreate()"
      ]
    },
    {
      "cell_type": "markdown",
      "id": "b099dabc",
      "metadata": {
        "id": "b099dabc"
      },
      "source": [
        "**Displaying the Schema**"
      ]
    },
    {
      "cell_type": "code",
      "source": [
        "spark = SparkSession.builder.appName(\"Netflix Data Analysis\").getOrCreate()\n",
        "\n",
        "netflix_df = spark.read.csv(\"/content/netflix_titles.csv\", header=True, inferSchema=True)\n",
        "disney_plus_df = spark.read.csv(\"/content/disney_plus_shows.csv\", header=True, inferSchema=True)\n",
        "disney_movie_df = spark.read.csv(\"/content/disney_movie_data_final.csv\", header=True, inferSchema=True)\n",
        "\n",
        "netflix_schema = netflix_df.printSchema()\n",
        "disney_plus_schema = disney_plus_df.printSchema()\n",
        "disney_movie_schema = disney_movie_df.printSchema()\n",
        "\n",
        "(netflix_schema, disney_plus_schema, disney_movie_schema)\n"
      ],
      "metadata": {
        "id": "HUzjErfBi_vm",
        "colab": {
          "base_uri": "https://localhost:8080/"
        },
        "outputId": "9bc2e280-7d50-4483-d3e6-8f1082457c66"
      },
      "id": "HUzjErfBi_vm",
      "execution_count": null,
      "outputs": [
        {
          "output_type": "stream",
          "name": "stdout",
          "text": [
            "root\n",
            " |-- show_id: string (nullable = true)\n",
            " |-- type: string (nullable = true)\n",
            " |-- title: string (nullable = true)\n",
            " |-- director: string (nullable = true)\n",
            " |-- cast: string (nullable = true)\n",
            " |-- country: string (nullable = true)\n",
            " |-- date_added: string (nullable = true)\n",
            " |-- release_year: string (nullable = true)\n",
            " |-- rating: string (nullable = true)\n",
            " |-- duration: string (nullable = true)\n",
            " |-- listed_in: string (nullable = true)\n",
            " |-- description: string (nullable = true)\n",
            "\n",
            "root\n",
            " |-- imdb_id: string (nullable = true)\n",
            " |-- title: string (nullable = true)\n",
            " |-- plot: string (nullable = true)\n",
            " |-- type: string (nullable = true)\n",
            " |-- rated: string (nullable = true)\n",
            " |-- year: string (nullable = true)\n",
            " |-- released_at: string (nullable = true)\n",
            " |-- added_at: string (nullable = true)\n",
            " |-- runtime: string (nullable = true)\n",
            " |-- genre: string (nullable = true)\n",
            " |-- director: string (nullable = true)\n",
            " |-- writer: string (nullable = true)\n",
            " |-- actors: string (nullable = true)\n",
            " |-- language: string (nullable = true)\n",
            " |-- country: string (nullable = true)\n",
            " |-- awards: string (nullable = true)\n",
            " |-- metascore: string (nullable = true)\n",
            " |-- imdb_rating: string (nullable = true)\n",
            " |-- imdb_votes: string (nullable = true)\n",
            "\n",
            "root\n",
            " |-- _c0: string (nullable = true)\n",
            " |-- title: string (nullable = true)\n",
            " |-- Production company: string (nullable = true)\n",
            " |-- Release date: string (nullable = true)\n",
            " |-- Running time: string (nullable = true)\n",
            " |-- Country: string (nullable = true)\n",
            " |-- Language: string (nullable = true)\n",
            " |-- Running time (int): string (nullable = true)\n",
            " |-- Budget (float): string (nullable = true)\n",
            " |-- Box office (float): string (nullable = true)\n",
            " |-- Release date (datetime): string (nullable = true)\n",
            " |-- imdb: string (nullable = true)\n",
            " |-- metascore: string (nullable = true)\n",
            " |-- rotten_tomatoes: string (nullable = true)\n",
            " |-- Directed by: string (nullable = true)\n",
            " |-- Produced by: string (nullable = true)\n",
            " |-- Written by: string (nullable = true)\n",
            " |-- Based on: string (nullable = true)\n",
            " |-- Starring: string (nullable = true)\n",
            " |-- Music by: string (nullable = true)\n",
            " |-- Distributed by: string (nullable = true)\n",
            " |-- Budget: string (nullable = true)\n",
            " |-- Box office: string (nullable = true)\n",
            " |-- Story by: string (nullable = true)\n",
            " |-- Narrated by: string (nullable = true)\n",
            " |-- Cinematography: string (nullable = true)\n",
            " |-- Edited by: string (nullable = true)\n",
            " |-- Screenplay by: string (nullable = true)\n",
            " |-- Production companies: string (nullable = true)\n",
            " |-- Adaptation by: string (nullable = true)\n",
            " |-- Traditional: string (nullable = true)\n",
            " |-- Simplified: string (nullable = true)\n",
            "\n"
          ]
        },
        {
          "output_type": "execute_result",
          "data": {
            "text/plain": [
              "(None, None, None)"
            ]
          },
          "metadata": {},
          "execution_count": 11
        }
      ]
    },
    {
      "cell_type": "markdown",
      "id": "432b6b3d",
      "metadata": {
        "id": "432b6b3d"
      },
      "source": [
        "**Reading the CSV File from the local system**"
      ]
    },
    {
      "cell_type": "code",
      "execution_count": null,
      "id": "92a958e4",
      "metadata": {
        "id": "92a958e4"
      },
      "outputs": [],
      "source": [
        "df = spark.read.csv(\"netflix_titles.csv\", header = True, inferSchema = True)"
      ]
    },
    {
      "cell_type": "code",
      "execution_count": null,
      "id": "20e4a06f",
      "metadata": {
        "colab": {
          "base_uri": "https://localhost:8080/"
        },
        "id": "20e4a06f",
        "outputId": "b635251c-e8f7-4b2c-fab3-8fb4dbc1a0d1",
        "collapsed": true
      },
      "outputs": [
        {
          "output_type": "stream",
          "name": "stdout",
          "text": [
            "root\n",
            " |-- show_id: string (nullable = true)\n",
            " |-- type: string (nullable = true)\n",
            " |-- title: string (nullable = true)\n",
            " |-- director: string (nullable = true)\n",
            " |-- cast: string (nullable = true)\n",
            " |-- country: string (nullable = true)\n",
            " |-- date_added: string (nullable = true)\n",
            " |-- release_year: string (nullable = true)\n",
            " |-- rating: string (nullable = true)\n",
            " |-- duration: string (nullable = true)\n",
            " |-- listed_in: string (nullable = true)\n",
            " |-- description: string (nullable = true)\n",
            "\n"
          ]
        }
      ],
      "source": [
        "df.printSchema()"
      ]
    },
    {
      "cell_type": "markdown",
      "id": "29b080cf",
      "metadata": {
        "id": "29b080cf"
      },
      "source": [
        "**Data Exploration**"
      ]
    },
    {
      "cell_type": "markdown",
      "id": "27cdc0d4",
      "metadata": {
        "id": "27cdc0d4"
      },
      "source": [
        "**Total number of Columns**"
      ]
    },
    {
      "cell_type": "code",
      "execution_count": null,
      "id": "01ba4453",
      "metadata": {
        "colab": {
          "base_uri": "https://localhost:8080/"
        },
        "id": "01ba4453",
        "outputId": "cbb3bcc2-f5b4-41fd-c07e-42bf16155728",
        "collapsed": true
      },
      "outputs": [
        {
          "output_type": "execute_result",
          "data": {
            "text/plain": [
              "12"
            ]
          },
          "metadata": {},
          "execution_count": 14
        }
      ],
      "source": [
        "len(df.columns)"
      ]
    },
    {
      "cell_type": "markdown",
      "id": "9be00ca1",
      "metadata": {
        "id": "9be00ca1"
      },
      "source": [
        "**Total number of Rows**"
      ]
    },
    {
      "cell_type": "code",
      "execution_count": null,
      "id": "ef65733f",
      "metadata": {
        "colab": {
          "base_uri": "https://localhost:8080/"
        },
        "id": "ef65733f",
        "outputId": "407886dc-6069-443b-de70-e2c8bf37326b",
        "collapsed": true
      },
      "outputs": [
        {
          "output_type": "execute_result",
          "data": {
            "text/plain": [
              "8809"
            ]
          },
          "metadata": {},
          "execution_count": 15
        }
      ],
      "source": [
        "df.count()"
      ]
    },
    {
      "cell_type": "markdown",
      "id": "751458bd",
      "metadata": {
        "id": "751458bd"
      },
      "source": [
        "**Checking count of missing values**"
      ]
    },
    {
      "cell_type": "code",
      "execution_count": null,
      "id": "055660fd",
      "metadata": {
        "colab": {
          "base_uri": "https://localhost:8080/"
        },
        "id": "055660fd",
        "outputId": "69f69a70-ecbf-41fc-d320-397b2a41afd6",
        "collapsed": true
      },
      "outputs": [
        {
          "output_type": "stream",
          "name": "stdout",
          "text": [
            "+---------------------------------------------+------------------------------------------+-------------------------------------------+----------------------------------------------+------------------------------------------+---------------------------------------------+------------------------------------------------+--------------------------------------------------+--------------------------------------------+----------------------------------------------+-----------------------------------------------+-------------------------------------------------+\n",
            "|count(CASE WHEN (show_id IS NULL) THEN 1 END)|count(CASE WHEN (type IS NULL) THEN 1 END)|count(CASE WHEN (title IS NULL) THEN 1 END)|count(CASE WHEN (director IS NULL) THEN 1 END)|count(CASE WHEN (cast IS NULL) THEN 1 END)|count(CASE WHEN (country IS NULL) THEN 1 END)|count(CASE WHEN (date_added IS NULL) THEN 1 END)|count(CASE WHEN (release_year IS NULL) THEN 1 END)|count(CASE WHEN (rating IS NULL) THEN 1 END)|count(CASE WHEN (duration IS NULL) THEN 1 END)|count(CASE WHEN (listed_in IS NULL) THEN 1 END)|count(CASE WHEN (description IS NULL) THEN 1 END)|\n",
            "+---------------------------------------------+------------------------------------------+-------------------------------------------+----------------------------------------------+------------------------------------------+---------------------------------------------+------------------------------------------------+--------------------------------------------------+--------------------------------------------+----------------------------------------------+-----------------------------------------------+-------------------------------------------------+\n",
            "|                                            0|                                         1|                                          2|                                          2636|                                       826|                                          832|                                              13|                                                 2|                                           6|                                             5|                                              3|                                                3|\n",
            "+---------------------------------------------+------------------------------------------+-------------------------------------------+----------------------------------------------+------------------------------------------+---------------------------------------------+------------------------------------------------+--------------------------------------------------+--------------------------------------------+----------------------------------------------+-----------------------------------------------+-------------------------------------------------+\n",
            "\n"
          ]
        }
      ],
      "source": [
        "df.select([count(when(col(c).isNull(), 1)) for c in df.columns]).show()"
      ]
    },
    {
      "cell_type": "code",
      "execution_count": null,
      "id": "72b23986",
      "metadata": {
        "scrolled": true,
        "colab": {
          "base_uri": "https://localhost:8080/"
        },
        "id": "72b23986",
        "outputId": "f52c31c2-c4c8-4af1-d099-c35f46d7a3da",
        "collapsed": true
      },
      "outputs": [
        {
          "output_type": "stream",
          "name": "stdout",
          "text": [
            "+-------+--------------------+-------------+---------------------------------+--------------------+--------------------+----------------+---------------+-----------------+-----------------+-------------+--------------------+--------------------+\n",
            "|summary|             show_id|         type|                            title|            director|                cast|         country|     date_added|     release_year|           rating|     duration|           listed_in|         description|\n",
            "+-------+--------------------+-------------+---------------------------------+--------------------+--------------------+----------------+---------------+-----------------+-----------------+-------------+--------------------+--------------------+\n",
            "|  count|                8809|         8808|                             8807|                6173|                7983|            7977|           8796|             8807|             8803|         8804|                8806|                8806|\n",
            "|   mean|                NULL|         NULL|               1124.7692307692307|                NULL|                NULL|          1944.0|           NULL|2014.189598270172|           2016.8|       1994.0|                NULL|  2014.6666666666667|\n",
            "| stddev|                NULL|         NULL|               1042.1800991068478|                NULL|                NULL|            NULL|           NULL|8.786618147271653|6.260990336999442|         NULL|                NULL|   4.509249752822894|\n",
            "|    min| and probably will.\"|        Movie|             \"Behind \"\"The Cov...|\"Sam \"\"Blitz\"\" Ba...|\"Black Deniro, By...| Ama K. Abebrese| April 15, 2018|   Charles Rocket|    Adriane Lenox| Alan Cumming|          Akin Lewis|      Alicia Sánchez|\n",
            "|    max|                s999|William Wyler|최강전사 미니특공대 : 영웅의 탄생|        Şenol Sönmez|Ṣọpẹ́ Dìrísù, Wun...|        Zimbabwe|  United States|    United States|               UR|United States|United States, Un...|“Last Chance U” h...|\n",
            "+-------+--------------------+-------------+---------------------------------+--------------------+--------------------+----------------+---------------+-----------------+-----------------+-------------+--------------------+--------------------+\n",
            "\n"
          ]
        }
      ],
      "source": [
        "df.describe().show()"
      ]
    },
    {
      "cell_type": "markdown",
      "id": "bf089dbb",
      "metadata": {
        "id": "bf089dbb"
      },
      "source": [
        "**Column Names**"
      ]
    },
    {
      "cell_type": "code",
      "execution_count": null,
      "id": "897e7218",
      "metadata": {
        "scrolled": true,
        "colab": {
          "base_uri": "https://localhost:8080/"
        },
        "id": "897e7218",
        "outputId": "6a92ff1b-f8fe-4ac0-e231-3fc97eaaa5d8",
        "collapsed": true
      },
      "outputs": [
        {
          "output_type": "execute_result",
          "data": {
            "text/plain": [
              "['show_id',\n",
              " 'type',\n",
              " 'title',\n",
              " 'director',\n",
              " 'cast',\n",
              " 'country',\n",
              " 'date_added',\n",
              " 'release_year',\n",
              " 'rating',\n",
              " 'duration',\n",
              " 'listed_in',\n",
              " 'description']"
            ]
          },
          "metadata": {},
          "execution_count": 18
        }
      ],
      "source": [
        "df.columns"
      ]
    },
    {
      "cell_type": "markdown",
      "id": "723b46e6",
      "metadata": {
        "id": "723b46e6"
      },
      "source": [
        "**Movie Rating Analysis**\n",
        "\n",
        "**Selecting required columns and creating a new dataframe for analysis**"
      ]
    },
    {
      "cell_type": "code",
      "execution_count": null,
      "id": "2ddac5a9",
      "metadata": {
        "colab": {
          "base_uri": "https://localhost:8080/"
        },
        "id": "2ddac5a9",
        "outputId": "ec7fba4a-dbc8-4945-9e77-14549d67872a",
        "collapsed": true
      },
      "outputs": [
        {
          "output_type": "stream",
          "name": "stdout",
          "text": [
            "+------+--------------------+--------------------+--------------------+\n",
            "|rating|               title|                cast|           listed_in|\n",
            "+------+--------------------+--------------------+--------------------+\n",
            "| PG-13|Dick Johnson Is Dead|                NULL|       Documentaries|\n",
            "| TV-MA|       Blood & Water|Ama Qamata, Khosi...|International TV ...|\n",
            "| TV-MA|           Ganglands|Sami Bouajila, Tr...|Crime TV Shows, I...|\n",
            "| TV-MA|Jailbirds New Orl...|                NULL|Docuseries, Reali...|\n",
            "| TV-MA|        Kota Factory|Mayur More, Jiten...|International TV ...|\n",
            "| TV-MA|       Midnight Mass|Kate Siegel, Zach...|TV Dramas, TV Hor...|\n",
            "|    PG|My Little Pony: A...|Vanessa Hudgens, ...|Children & Family...|\n",
            "| TV-MA|             Sankofa|Kofi Ghanaba, Oya...|Dramas, Independe...|\n",
            "| TV-14|The Great British...|Mel Giedroyc, Sue...|British TV Shows,...|\n",
            "| PG-13|        The Starling|Melissa McCarthy,...|    Comedies, Dramas|\n",
            "+------+--------------------+--------------------+--------------------+\n",
            "only showing top 10 rows\n",
            "\n"
          ]
        }
      ],
      "source": [
        "df1 = df.select(col(\"rating\"), col(\"title\"), col(\"cast\"), col(\"listed_in\"))\n",
        "df1.show(10)"
      ]
    },
    {
      "cell_type": "code",
      "execution_count": null,
      "id": "f9aca071",
      "metadata": {
        "colab": {
          "base_uri": "https://localhost:8080/"
        },
        "id": "f9aca071",
        "outputId": "54219039-73af-4757-b1da-3c085b501f89",
        "collapsed": true
      },
      "outputs": [
        {
          "output_type": "stream",
          "name": "stdout",
          "text": [
            "+--------------------------------+-------------------------------------------------------------+\n",
            "|title                           |listed_in                                                    |\n",
            "+--------------------------------+-------------------------------------------------------------+\n",
            "|Dick Johnson Is Dead            |Documentaries                                                |\n",
            "|Blood & Water                   |International TV Shows, TV Dramas, TV Mysteries              |\n",
            "|Ganglands                       |Crime TV Shows, International TV Shows, TV Action & Adventure|\n",
            "|Jailbirds New Orleans           |Docuseries, Reality TV                                       |\n",
            "|Kota Factory                    |International TV Shows, Romantic TV Shows, TV Comedies       |\n",
            "|Midnight Mass                   |TV Dramas, TV Horror, TV Mysteries                           |\n",
            "|My Little Pony: A New Generation|Children & Family Movies                                     |\n",
            "|Sankofa                         |Dramas, Independent Movies, International Movies             |\n",
            "|The Great British Baking Show   |British TV Shows, Reality TV                                 |\n",
            "|The Starling                    |Comedies, Dramas                                             |\n",
            "+--------------------------------+-------------------------------------------------------------+\n",
            "only showing top 10 rows\n",
            "\n"
          ]
        }
      ],
      "source": [
        "df.select(df[\"title\"], df[\"listed_in\"]).show(10, truncate = False)"
      ]
    },
    {
      "cell_type": "markdown",
      "id": "d430d266",
      "metadata": {
        "id": "d430d266"
      },
      "source": [
        "**Displaying the first three columns**"
      ]
    },
    {
      "cell_type": "code",
      "execution_count": null,
      "id": "a3d35bf3",
      "metadata": {
        "colab": {
          "base_uri": "https://localhost:8080/"
        },
        "id": "a3d35bf3",
        "outputId": "c2db4790-6ec2-449e-a788-da386c83a906",
        "collapsed": true
      },
      "outputs": [
        {
          "output_type": "stream",
          "name": "stdout",
          "text": [
            "+-------+-------+--------------------+\n",
            "|show_id|   type|               title|\n",
            "+-------+-------+--------------------+\n",
            "|     s1|  Movie|Dick Johnson Is Dead|\n",
            "|     s2|TV Show|       Blood & Water|\n",
            "|     s3|TV Show|           Ganglands|\n",
            "|     s4|TV Show|Jailbirds New Orl...|\n",
            "|     s5|TV Show|        Kota Factory|\n",
            "|     s6|TV Show|       Midnight Mass|\n",
            "|     s7|  Movie|My Little Pony: A...|\n",
            "|     s8|  Movie|             Sankofa|\n",
            "|     s9|TV Show|The Great British...|\n",
            "|    s10|  Movie|        The Starling|\n",
            "+-------+-------+--------------------+\n",
            "only showing top 10 rows\n",
            "\n"
          ]
        }
      ],
      "source": [
        "df.select(df.columns[:3]).show(10)"
      ]
    },
    {
      "cell_type": "markdown",
      "id": "d39d7615",
      "metadata": {
        "id": "d39d7615"
      },
      "source": [
        "**Displaying data which has imdb rating 9 and 8.**"
      ]
    },
    {
      "cell_type": "code",
      "execution_count": null,
      "id": "34083386",
      "metadata": {
        "colab": {
          "base_uri": "https://localhost:8080/"
        },
        "id": "34083386",
        "outputId": "0ffe87d4-9343-4a69-fa52-266597a6ac84",
        "collapsed": true
      },
      "outputs": [
        {
          "output_type": "stream",
          "name": "stdout",
          "text": [
            "+------+-----+----+---------+\n",
            "|rating|title|cast|listed_in|\n",
            "+------+-----+----+---------+\n",
            "+------+-----+----+---------+\n",
            "\n"
          ]
        }
      ],
      "source": [
        "df1.filter(col(\"listed_in\") == 9).show(10)"
      ]
    },
    {
      "cell_type": "code",
      "execution_count": null,
      "id": "8519a233",
      "metadata": {
        "colab": {
          "base_uri": "https://localhost:8080/"
        },
        "id": "8519a233",
        "outputId": "44fed603-9ac8-4670-fbe3-578abda6981d",
        "collapsed": true
      },
      "outputs": [
        {
          "output_type": "stream",
          "name": "stdout",
          "text": [
            "+------+-----+----+---------+\n",
            "|rating|title|cast|listed_in|\n",
            "+------+-----+----+---------+\n",
            "+------+-----+----+---------+\n",
            "\n"
          ]
        }
      ],
      "source": [
        "df1.filter(\"listed_in == 8\").show(10)"
      ]
    },
    {
      "cell_type": "markdown",
      "id": "e9559f0e",
      "metadata": {
        "id": "e9559f0e"
      },
      "source": [
        "**Sorting**"
      ]
    },
    {
      "cell_type": "code",
      "execution_count": null,
      "id": "93fc686b",
      "metadata": {
        "colab": {
          "base_uri": "https://localhost:8080/"
        },
        "id": "93fc686b",
        "outputId": "1f7e867e-c97e-4c15-907d-1dc342caa725",
        "collapsed": true
      },
      "outputs": [
        {
          "output_type": "stream",
          "name": "stdout",
          "text": [
            "+------+---------------------------------+--------------------+--------------------+\n",
            "|rating|                            title|                cast|           listed_in|\n",
            "+------+---------------------------------+--------------------+--------------------+\n",
            "| TV-Y7|최강전사 미니특공대 : 영웅의 탄생|Um Sang-hyun, Yan...|Children & Family...|\n",
            "| TV-MA|                    반드시 잡는다|       Baek Yoon-sik|Dramas, Internati...|\n",
            "| TV-MA|                         마녀사냥|Si-kyung Sung, Se...|International TV ...|\n",
            "| TV-14|                         海的儿子|Li Nanxing, Chris...|International TV ...|\n",
            "| TV-Y7|                 忍者ハットリくん|                NULL|Anime Series, Kid...|\n",
            "| TV-14|             ​​Kuch Bheege Alfaaz|Geetanjali Thapa,...|Dramas, Independe...|\n",
            "| TV-14|             ​SAINT SEIYA: Kni...|Bryson Baugus, Em...|Anime Series, Int...|\n",
            "| TV-14|                      ​Mayurakshi|Soumitra Chatterj...|Dramas, Internati...|\n",
            "| TV-14|               ​Maj Rati ​​Keteki|Adil Hussain, Sha...|Dramas, Internati...|\n",
            "| TV-14|                     ​Goli Soda 2|Samuthirakani, Bh...|Action & Adventur...|\n",
            "+------+---------------------------------+--------------------+--------------------+\n",
            "only showing top 10 rows\n",
            "\n"
          ]
        }
      ],
      "source": [
        "df1.sort(col(\"title\").desc()).show(10)"
      ]
    },
    {
      "cell_type": "markdown",
      "id": "0fae0dcc",
      "metadata": {
        "id": "0fae0dcc"
      },
      "source": [
        "**Top 10 highest-rated Disney movies based on average ratings**"
      ]
    },
    {
      "cell_type": "code",
      "execution_count": null,
      "id": "ac2301cc",
      "metadata": {
        "colab": {
          "base_uri": "https://localhost:8080/"
        },
        "id": "ac2301cc",
        "outputId": "962ab9e9-ae02-46c9-900b-41f6e0631759",
        "collapsed": true
      },
      "outputs": [
        {
          "output_type": "stream",
          "name": "stdout",
          "text": [
            "+-----------------------------------------------------+--------+\n",
            "|title                                                |avg_year|\n",
            "+-----------------------------------------------------+--------+\n",
            "|The Parisian Agency: Exclusive Properties            |2021.0  |\n",
            "|Tribhanga - Tedhi Medhi Crazy                        |2021.0  |\n",
            "|The Least Expected Day: Inside the Movistar Team 2019|2021.0  |\n",
            "|Fear Street Part 3: 1666                             |2021.0  |\n",
            "|Ferry                                                |2021.0  |\n",
            "|Biohackers                                           |2021.0  |\n",
            "|The Wedding Coach                                    |2021.0  |\n",
            "|Headspace Guide to Sleep                             |2021.0  |\n",
            "|Rurouni Kenshin: The Beginning                       |2021.0  |\n",
            "|Feels Like Ishq                                      |2021.0  |\n",
            "+-----------------------------------------------------+--------+\n",
            "\n"
          ]
        }
      ],
      "source": [
        "avg_rating = df.groupBy(col(\"title\")).agg({\"release_year\" : \"avg\"}).withColumnRenamed(\"avg(release_year)\", \"avg_year\")\n",
        "avg_rating.orderBy(desc(\"avg_year\")).limit(10).show(truncate = False)\n",
        "# ['show_id',\n",
        "#  'type',\n",
        "#  'title',\n",
        "#  'director',\n",
        "#  'cast',\n",
        "#  'country',\n",
        "#  'date_added',\n",
        "#  'release_year',\n",
        "#  'rating',\n",
        "#  'duration',\n",
        "#  'listed_in',\n",
        "#  'description']"
      ]
    },
    {
      "cell_type": "markdown",
      "id": "4ede74b4",
      "metadata": {
        "id": "4ede74b4"
      },
      "source": [
        "**Disney movie which has the highest average rating**"
      ]
    },
    {
      "cell_type": "code",
      "execution_count": null,
      "id": "28ef5758",
      "metadata": {
        "colab": {
          "base_uri": "https://localhost:8080/"
        },
        "id": "28ef5758",
        "outputId": "5c172570-73c5-4102-93db-ee8235bba69f",
        "collapsed": true
      },
      "outputs": [
        {
          "output_type": "stream",
          "name": "stdout",
          "text": [
            "+----------+\n",
            "|     title|\n",
            "+----------+\n",
            "|Biohackers|\n",
            "+----------+\n",
            "\n"
          ]
        }
      ],
      "source": [
        "avg_rating.select(\"title\").orderBy(desc(\"avg_year\")).limit(1).show()"
      ]
    },
    {
      "cell_type": "markdown",
      "id": "6270ad2d",
      "metadata": {
        "id": "6270ad2d"
      },
      "source": [
        "**Top 10 lowest-rated Disney movies based on average ratings (not including null values)**"
      ]
    },
    {
      "cell_type": "code",
      "execution_count": null,
      "id": "67f886d5",
      "metadata": {
        "colab": {
          "base_uri": "https://localhost:8080/"
        },
        "id": "67f886d5",
        "outputId": "8b200ac8-3926-4b30-d75a-b33bdd96ed3b",
        "collapsed": true
      },
      "outputs": [
        {
          "output_type": "stream",
          "name": "stdout",
          "text": [
            "+---------------------------------------------+--------+\n",
            "|title                                        |avg_year|\n",
            "+---------------------------------------------+--------+\n",
            "|Pioneers: First Women Filmmakers*            |1925.0  |\n",
            "|Prelude to War                               |1942.0  |\n",
            "|The Battle of Midway                         |1942.0  |\n",
            "|Why We Fight: The Battle of Russia           |1943.0  |\n",
            "|WWII: Report from the Aleutians              |1943.0  |\n",
            "|Undercover: How to Operate Behind Enemy Lines|1943.0  |\n",
            "|Tunisian Victory                             |1944.0  |\n",
            "|The Negro Soldier                            |1944.0  |\n",
            "|Nazi Concentration Camps                     |1945.0  |\n",
            "|Five Came Back: The Reference Films          |1945.0  |\n",
            "+---------------------------------------------+--------+\n",
            "\n"
          ]
        }
      ],
      "source": [
        "avg_rating.dropna().orderBy(asc(\"avg_year\")).limit(10).show(truncate = False)"
      ]
    },
    {
      "cell_type": "markdown",
      "id": "d9259f8d",
      "metadata": {
        "id": "d9259f8d"
      },
      "source": [
        "**Disney movie which has the lowest average rating**"
      ]
    },
    {
      "cell_type": "code",
      "execution_count": null,
      "id": "28c09b2b",
      "metadata": {
        "colab": {
          "base_uri": "https://localhost:8080/"
        },
        "id": "28c09b2b",
        "outputId": "bc93f25a-9780-45f9-99b5-cf1e75f797a5",
        "collapsed": true
      },
      "outputs": [
        {
          "output_type": "stream",
          "name": "stdout",
          "text": [
            "+----------------------------------+\n",
            "|title                             |\n",
            "+----------------------------------+\n",
            "|Pioneers: First Women Filmmakers* |\n",
            "|Prelude to War                    |\n",
            "|The Battle of Midway              |\n",
            "|Why We Fight: The Battle of Russia|\n",
            "+----------------------------------+\n",
            "\n"
          ]
        }
      ],
      "source": [
        "avg_rating.dropna().select(\"title\").orderBy(asc(\"avg_year\")).limit(4).show(truncate = False)"
      ]
    },
    {
      "cell_type": "markdown",
      "id": "c7b99bae",
      "metadata": {
        "id": "c7b99bae"
      },
      "source": [
        "**Calculate average ratings for each genre of Disney movies**"
      ]
    },
    {
      "cell_type": "code",
      "execution_count": null,
      "id": "0b10bc04",
      "metadata": {
        "colab": {
          "base_uri": "https://localhost:8080/",
          "height": 563
        },
        "id": "0b10bc04",
        "outputId": "3dd99864-57f9-40ca-c6fe-a316990bc339",
        "collapsed": true
      },
      "outputs": [
        {
          "output_type": "error",
          "ename": "AnalysisException",
          "evalue": "[UNRESOLVED_COLUMN.WITH_SUGGESTION] A column or function parameter with name `rdate_added` cannot be resolved. Did you mean one of the following? [`date_added`, `director`, `rating`, `show_id`, `title`].;\n'Project [show_id#548, title#550, rating#556, 'rdate_added, listed_in#558]\n+- Relation [show_id#548,type#549,title#550,director#551,cast#552,country#553,date_added#554,release_year#555,rating#556,duration#557,listed_in#558,description#559] csv\n",
          "traceback": [
            "\u001b[0;31m---------------------------------------------------------------------------\u001b[0m",
            "\u001b[0;31mAnalysisException\u001b[0m                         Traceback (most recent call last)",
            "\u001b[0;32m<ipython-input-29-3a8df83ea10f>\u001b[0m in \u001b[0;36m<cell line: 1>\u001b[0;34m()\u001b[0m\n\u001b[0;32m----> 1\u001b[0;31m \u001b[0mgenre\u001b[0m \u001b[0;34m=\u001b[0m \u001b[0mdf\u001b[0m\u001b[0;34m.\u001b[0m\u001b[0mselect\u001b[0m\u001b[0;34m(\u001b[0m\u001b[0mcol\u001b[0m\u001b[0;34m(\u001b[0m\u001b[0;34m\"show_id\"\u001b[0m\u001b[0;34m)\u001b[0m\u001b[0;34m,\u001b[0m \u001b[0mcol\u001b[0m\u001b[0;34m(\u001b[0m\u001b[0;34m\"title\"\u001b[0m\u001b[0;34m)\u001b[0m\u001b[0;34m,\u001b[0m \u001b[0mcol\u001b[0m\u001b[0;34m(\u001b[0m\u001b[0;34m\"rating\"\u001b[0m\u001b[0;34m)\u001b[0m\u001b[0;34m,\u001b[0m \u001b[0mcol\u001b[0m\u001b[0;34m(\u001b[0m\u001b[0;34m\"rdate_added\"\u001b[0m\u001b[0;34m)\u001b[0m\u001b[0;34m,\u001b[0m \u001b[0mcol\u001b[0m\u001b[0;34m(\u001b[0m\u001b[0;34m\"listed_in\"\u001b[0m\u001b[0;34m)\u001b[0m\u001b[0;34m)\u001b[0m\u001b[0;34m\u001b[0m\u001b[0;34m\u001b[0m\u001b[0m\n\u001b[0m\u001b[1;32m      2\u001b[0m \u001b[0mgenre_avg\u001b[0m \u001b[0;34m=\u001b[0m \u001b[0mgenre\u001b[0m\u001b[0;34m.\u001b[0m\u001b[0mgroupBy\u001b[0m\u001b[0;34m(\u001b[0m\u001b[0;34m\"listed_in\"\u001b[0m\u001b[0;34m)\u001b[0m\u001b[0;34m.\u001b[0m\u001b[0magg\u001b[0m\u001b[0;34m(\u001b[0m\u001b[0mround\u001b[0m\u001b[0;34m(\u001b[0m\u001b[0mavg\u001b[0m\u001b[0;34m(\u001b[0m\u001b[0;34m\"date_added\"\u001b[0m\u001b[0;34m)\u001b[0m\u001b[0;34m,\u001b[0m \u001b[0;36m1\u001b[0m\u001b[0;34m)\u001b[0m\u001b[0;34m)\u001b[0m\u001b[0;34m.\u001b[0m\u001b[0mwithColumnRenamed\u001b[0m\u001b[0;34m(\u001b[0m\u001b[0;34m\"round(avg(date_added), 1)\"\u001b[0m\u001b[0;34m,\u001b[0m \u001b[0;34m\"avg_data_added\"\u001b[0m\u001b[0;34m)\u001b[0m\u001b[0;34m\u001b[0m\u001b[0;34m\u001b[0m\u001b[0m\n\u001b[1;32m      3\u001b[0m \u001b[0mgenre_avg\u001b[0m\u001b[0;34m.\u001b[0m\u001b[0mdropna\u001b[0m\u001b[0;34m(\u001b[0m\u001b[0;34m)\u001b[0m\u001b[0;34m.\u001b[0m\u001b[0mshow\u001b[0m\u001b[0;34m(\u001b[0m\u001b[0;34m)\u001b[0m\u001b[0;34m\u001b[0m\u001b[0;34m\u001b[0m\u001b[0m\n\u001b[1;32m      4\u001b[0m \u001b[0;31m# ['show_id',\u001b[0m\u001b[0;34m\u001b[0m\u001b[0;34m\u001b[0m\u001b[0m\n\u001b[1;32m      5\u001b[0m \u001b[0;31m#  'type',\u001b[0m\u001b[0;34m\u001b[0m\u001b[0;34m\u001b[0m\u001b[0m\n",
            "\u001b[0;32m/usr/local/lib/python3.10/dist-packages/pyspark/sql/dataframe.py\u001b[0m in \u001b[0;36mselect\u001b[0;34m(self, *cols)\u001b[0m\n\u001b[1;32m   3227\u001b[0m         \u001b[0;34m+\u001b[0m\u001b[0;34m-\u001b[0m\u001b[0;34m-\u001b[0m\u001b[0;34m-\u001b[0m\u001b[0;34m-\u001b[0m\u001b[0;34m-\u001b[0m\u001b[0;34m+\u001b[0m\u001b[0;34m-\u001b[0m\u001b[0;34m-\u001b[0m\u001b[0;34m-\u001b[0m\u001b[0;34m+\u001b[0m\u001b[0;34m\u001b[0m\u001b[0;34m\u001b[0m\u001b[0m\n\u001b[1;32m   3228\u001b[0m         \"\"\"\n\u001b[0;32m-> 3229\u001b[0;31m         \u001b[0mjdf\u001b[0m \u001b[0;34m=\u001b[0m \u001b[0mself\u001b[0m\u001b[0;34m.\u001b[0m\u001b[0m_jdf\u001b[0m\u001b[0;34m.\u001b[0m\u001b[0mselect\u001b[0m\u001b[0;34m(\u001b[0m\u001b[0mself\u001b[0m\u001b[0;34m.\u001b[0m\u001b[0m_jcols\u001b[0m\u001b[0;34m(\u001b[0m\u001b[0;34m*\u001b[0m\u001b[0mcols\u001b[0m\u001b[0;34m)\u001b[0m\u001b[0;34m)\u001b[0m\u001b[0;34m\u001b[0m\u001b[0;34m\u001b[0m\u001b[0m\n\u001b[0m\u001b[1;32m   3230\u001b[0m         \u001b[0;32mreturn\u001b[0m \u001b[0mDataFrame\u001b[0m\u001b[0;34m(\u001b[0m\u001b[0mjdf\u001b[0m\u001b[0;34m,\u001b[0m \u001b[0mself\u001b[0m\u001b[0;34m.\u001b[0m\u001b[0msparkSession\u001b[0m\u001b[0;34m)\u001b[0m\u001b[0;34m\u001b[0m\u001b[0;34m\u001b[0m\u001b[0m\n\u001b[1;32m   3231\u001b[0m \u001b[0;34m\u001b[0m\u001b[0m\n",
            "\u001b[0;32m/usr/local/lib/python3.10/dist-packages/py4j/java_gateway.py\u001b[0m in \u001b[0;36m__call__\u001b[0;34m(self, *args)\u001b[0m\n\u001b[1;32m   1320\u001b[0m \u001b[0;34m\u001b[0m\u001b[0m\n\u001b[1;32m   1321\u001b[0m         \u001b[0manswer\u001b[0m \u001b[0;34m=\u001b[0m \u001b[0mself\u001b[0m\u001b[0;34m.\u001b[0m\u001b[0mgateway_client\u001b[0m\u001b[0;34m.\u001b[0m\u001b[0msend_command\u001b[0m\u001b[0;34m(\u001b[0m\u001b[0mcommand\u001b[0m\u001b[0;34m)\u001b[0m\u001b[0;34m\u001b[0m\u001b[0;34m\u001b[0m\u001b[0m\n\u001b[0;32m-> 1322\u001b[0;31m         return_value = get_return_value(\n\u001b[0m\u001b[1;32m   1323\u001b[0m             answer, self.gateway_client, self.target_id, self.name)\n\u001b[1;32m   1324\u001b[0m \u001b[0;34m\u001b[0m\u001b[0m\n",
            "\u001b[0;32m/usr/local/lib/python3.10/dist-packages/pyspark/errors/exceptions/captured.py\u001b[0m in \u001b[0;36mdeco\u001b[0;34m(*a, **kw)\u001b[0m\n\u001b[1;32m    183\u001b[0m                 \u001b[0;31m# Hide where the exception came from that shows a non-Pythonic\u001b[0m\u001b[0;34m\u001b[0m\u001b[0;34m\u001b[0m\u001b[0m\n\u001b[1;32m    184\u001b[0m                 \u001b[0;31m# JVM exception message.\u001b[0m\u001b[0;34m\u001b[0m\u001b[0;34m\u001b[0m\u001b[0m\n\u001b[0;32m--> 185\u001b[0;31m                 \u001b[0;32mraise\u001b[0m \u001b[0mconverted\u001b[0m \u001b[0;32mfrom\u001b[0m \u001b[0;32mNone\u001b[0m\u001b[0;34m\u001b[0m\u001b[0;34m\u001b[0m\u001b[0m\n\u001b[0m\u001b[1;32m    186\u001b[0m             \u001b[0;32melse\u001b[0m\u001b[0;34m:\u001b[0m\u001b[0;34m\u001b[0m\u001b[0;34m\u001b[0m\u001b[0m\n\u001b[1;32m    187\u001b[0m                 \u001b[0;32mraise\u001b[0m\u001b[0;34m\u001b[0m\u001b[0;34m\u001b[0m\u001b[0m\n",
            "\u001b[0;31mAnalysisException\u001b[0m: [UNRESOLVED_COLUMN.WITH_SUGGESTION] A column or function parameter with name `rdate_added` cannot be resolved. Did you mean one of the following? [`date_added`, `director`, `rating`, `show_id`, `title`].;\n'Project [show_id#548, title#550, rating#556, 'rdate_added, listed_in#558]\n+- Relation [show_id#548,type#549,title#550,director#551,cast#552,country#553,date_added#554,release_year#555,rating#556,duration#557,listed_in#558,description#559] csv\n"
          ]
        }
      ],
      "source": [
        "genre = df.select(col(\"show_id\"), col(\"title\"), col(\"rating\"), col(\"rdate_added\"), col(\"listed_in\"))\n",
        "genre_avg = genre.groupBy(\"listed_in\").agg(round(avg(\"date_added\"), 1)).withColumnRenamed(\"round(avg(date_added), 1)\", \"avg_data_added\")\n",
        "genre_avg.dropna().show()\n",
        "# ['show_id',\n",
        "#  'type',\n",
        "#  'title',\n",
        "#  'director',\n",
        "#  'cast',\n",
        "#  'country',\n",
        "#  'date_added',\n",
        "#  'release_year',\n",
        "#  'rating',\n",
        "#  'duration',\n",
        "#  'listed_in',\n",
        "#  'description']"
      ]
    },
    {
      "cell_type": "markdown",
      "id": "4274fc63",
      "metadata": {
        "id": "4274fc63"
      },
      "source": [
        "**Story plot which includes ghost keyword**"
      ]
    },
    {
      "cell_type": "code",
      "execution_count": null,
      "id": "47e40276",
      "metadata": {
        "id": "47e40276",
        "collapsed": true
      },
      "outputs": [],
      "source": [
        "df.select(df.columns[:3]).filter(col(\"description\").like(\"%smart\")).show(10, truncate = False)\n",
        "# ['show_id',\n",
        "#  'type',\n",
        "#  'title',\n",
        "#  'director',\n",
        "#  'cast',\n",
        "#  'country',\n",
        "#  'date_added',\n",
        "#  'release_year',\n",
        "#  'rating',\n",
        "#  'duration',\n",
        "#  'listed_in',\n",
        "#  'description']"
      ]
    },
    {
      "cell_type": "markdown",
      "id": "d0ff6a8c",
      "metadata": {
        "id": "d0ff6a8c"
      },
      "source": [
        "**Count the no of movie plot includes evil keyword**"
      ]
    },
    {
      "cell_type": "code",
      "execution_count": null,
      "id": "a6918f60",
      "metadata": {
        "id": "a6918f60",
        "collapsed": true
      },
      "outputs": [],
      "source": [
        "evil_plot = df.filter(col(\"description\").like(\"%school%\"))\n",
        "evil_plot.count()"
      ]
    },
    {
      "cell_type": "markdown",
      "id": "7e82232c",
      "metadata": {
        "id": "7e82232c"
      },
      "source": [
        "**Grouping**"
      ]
    },
    {
      "cell_type": "code",
      "execution_count": null,
      "id": "e5474c6c",
      "metadata": {
        "scrolled": true,
        "id": "e5474c6c"
      },
      "outputs": [],
      "source": [
        "df.groupBy(\"type\").count().show(truncate = False)"
      ]
    },
    {
      "cell_type": "markdown",
      "id": "d043b03c",
      "metadata": {
        "id": "d043b03c"
      },
      "source": [
        "**Find the average IMDb rating for each director and sort the result in ascending order.**"
      ]
    },
    {
      "cell_type": "code",
      "execution_count": null,
      "id": "5be54079",
      "metadata": {
        "scrolled": true,
        "id": "5be54079",
        "collapsed": true
      },
      "outputs": [],
      "source": [
        "avg_rating_runtime = df.groupBy(\"director\").agg(round(avg(\"release_year\"), 1).alias(\"avgerage year\"))\\\n",
        "                     .orderBy(asc(\"director\"))\n",
        "avg_rating_runtime.dropna().show(truncate = False)\n",
        "# ['show_id',\n",
        "#  'type',\n",
        "#  'title',\n",
        "#  'director',\n",
        "#  'cast',\n",
        "#  'country',\n",
        "#  'date_added',\n",
        "#  'release_year',\n",
        "#  'rating',\n",
        "#  'duration',\n",
        "#  'listed_in',\n",
        "#  'description']"
      ]
    },
    {
      "cell_type": "markdown",
      "id": "6446a17f",
      "metadata": {
        "id": "6446a17f"
      },
      "source": [
        "**Determine the number of movies released each year and sort them in descending order.**"
      ]
    },
    {
      "cell_type": "code",
      "execution_count": null,
      "id": "0540c742",
      "metadata": {
        "id": "0540c742",
        "collapsed": true
      },
      "outputs": [],
      "source": [
        "mv_released_each_yr = df.filter(col(\"type\") == \"movie\")\\\n",
        "                      .groupBy(\"release_year\")\\\n",
        "                      .agg(count(\"rating\").alias(\"No of Movies\"))\\\n",
        "                      .orderBy(desc(\"release_year\"))\n",
        "mv_released_each_yr.show()\n",
        "# ['show_id',\n",
        "#  'type',\n",
        "#  'title',\n",
        "#  'director',\n",
        "#  'cast',\n",
        "#  'country',\n",
        "#  'date_added',\n",
        "#  'release_year',\n",
        "#  'rating',\n",
        "#  'duration',\n",
        "#  'listed_in',\n",
        "#  'description']"
      ]
    },
    {
      "cell_type": "markdown",
      "id": "e2fb8908",
      "metadata": {
        "id": "e2fb8908"
      },
      "source": [
        "**Identify the top 3 directors with the most IMDb votes for their movies.**"
      ]
    },
    {
      "cell_type": "code",
      "execution_count": null,
      "id": "50bdd45b",
      "metadata": {
        "scrolled": true,
        "id": "50bdd45b",
        "collapsed": true
      },
      "outputs": [],
      "source": [
        "changed_datatype = df.select(col(\"listed_in\").cast(\"int\"), col(\"director\"), col(\"type\"), col(\"title\"))\n",
        "top_five_directors = changed_datatype.filter(col(\"type\") == \"movie\")\\\n",
        "                     .orderBy(desc(\"rating\")).limit(3)\n",
        "top_five_directors.show(truncate = False)\n",
        "# ['show_id',\n",
        "#  'type',\n",
        "#  'title',\n",
        "#  'director',\n",
        "#  'cast',\n",
        "#  'country',\n",
        "#  'date_added',\n",
        "#  'release_year',\n",
        "#  'rating',\n",
        "#  'duration',\n",
        "#  'listed_in',\n",
        "#  'description']"
      ]
    },
    {
      "cell_type": "markdown",
      "id": "9d8f3fa8",
      "metadata": {
        "id": "9d8f3fa8"
      },
      "source": [
        "**Find the average IMDb rating for movies that won awards and those that didn't.**"
      ]
    },
    {
      "cell_type": "code",
      "execution_count": null,
      "id": "4890a805",
      "metadata": {
        "id": "4890a805",
        "collapsed": true
      },
      "outputs": [],
      "source": [
        "movie_with_awards = df.withColumn(\"has_award\",when(col(\"awards\") == \"N/A\", \"no award\").otherwise(\"award\"))\n",
        "avg_rating_by_award = movie_with_awards.groupBy(\"has_award\")\\\n",
        "                     .agg(round(avg(\"imdb_rating\"), 1).alias(\"average imdb rating\"))\n",
        "avg_rating_by_award.show()"
      ]
    },
    {
      "cell_type": "markdown",
      "id": "b03ea166",
      "metadata": {
        "id": "b03ea166"
      },
      "source": [
        "**Determine the most common language for Disney movies.**"
      ]
    },
    {
      "cell_type": "code",
      "execution_count": null,
      "id": "ca8d86a4",
      "metadata": {
        "id": "ca8d86a4",
        "collapsed": true
      },
      "outputs": [],
      "source": [
        "most_common_lang = df.groupBy(\"language\")\\\n",
        "                   .agg(count(\"imdb_id\").alias(\"no of movies\"))\\\n",
        "                   .orderBy(desc(\"no of movies\")).limit(1)\n",
        "most_common_lang.select(df.language.alias(\"most common language\")).show()"
      ]
    },
    {
      "cell_type": "markdown",
      "id": "6ecdfbd5",
      "metadata": {
        "id": "6ecdfbd5"
      },
      "source": [
        "**Calculate the average metascore and IMDb rating for movies in each genre.**"
      ]
    },
    {
      "cell_type": "code",
      "execution_count": null,
      "id": "87a3d99d",
      "metadata": {
        "id": "87a3d99d",
        "collapsed": true
      },
      "outputs": [],
      "source": [
        "avg_rating_by_genre = df.groupBy(\"genre\")\\\n",
        "                      .agg(round(avg(\"metascore\"), 1).alias(\"average metascore\"), round(avg(\"imdb_rating\"), 1).alias(\"average imdb rating\"))\n",
        "avg_rating_by_genre.dropna().show(truncate = False)"
      ]
    },
    {
      "cell_type": "code",
      "source": [],
      "metadata": {
        "id": "0CPHqmgejUOU"
      },
      "id": "0CPHqmgejUOU",
      "execution_count": null,
      "outputs": []
    }
  ],
  "metadata": {
    "kernelspec": {
      "display_name": "Python 3 (ipykernel)",
      "language": "python",
      "name": "python3"
    },
    "language_info": {
      "codemirror_mode": {
        "name": "ipython",
        "version": 3
      },
      "file_extension": ".py",
      "mimetype": "text/x-python",
      "name": "python",
      "nbconvert_exporter": "python",
      "pygments_lexer": "ipython3",
      "version": "3.11.5"
    },
    "colab": {
      "provenance": []
    }
  },
  "nbformat": 4,
  "nbformat_minor": 5
}