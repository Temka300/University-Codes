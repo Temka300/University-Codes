{
  "nbformat": 4,
  "nbformat_minor": 0,
  "metadata": {
    "colab": {
      "provenance": []
    },
    "kernelspec": {
      "name": "python3",
      "display_name": "Python 3"
    },
    "language_info": {
      "name": "python"
    }
  },
  "cells": [
    {
      "cell_type": "markdown",
      "source": [
        "# a"
      ],
      "metadata": {
        "id": "x7zQpI5Z8gbR"
      }
    },
    {
      "cell_type": "code",
      "source": [
        "import pandas as pd\n",
        "from pyspark.sql import SparkSession\n",
        "from pyspark.sql.functions import count, when, col, desc, asc, round, avg\n",
        "\n",
        "spark = SparkSession.builder.appName(\"ReadCSV\").getOrCreate()"
      ],
      "metadata": {
        "id": "8qFIzp73DiTw"
      },
      "execution_count": null,
      "outputs": []
    },
    {
      "cell_type": "code",
      "source": [
        "file_path = 'cars.xlsx'\n",
        "csv_file_path = 'cars.csv'\n",
        "cars_data = pd.read_excel(file_path)\n",
        "cars_data.to_csv(csv_file_path, index=False)"
      ],
      "metadata": {
        "id": "7UDK4zALCVNi"
      },
      "execution_count": null,
      "outputs": []
    },
    {
      "cell_type": "code",
      "source": [
        "file_path = 'cars.csv'  # Updated to point to the CSV file\n",
        "df = spark.read.option(\"header\", \"true\").option(\"inferSchema\", \"true\").csv(file_path)"
      ],
      "metadata": {
        "id": "gwE9AmzTCUvI"
      },
      "execution_count": null,
      "outputs": []
    },
    {
      "cell_type": "code",
      "source": [
        "# Show the schema of the DataFrame\n",
        "df.printSchema()"
      ],
      "metadata": {
        "colab": {
          "base_uri": "https://localhost:8080/"
        },
        "id": "zTbVInidBYRu",
        "outputId": "ac7fd50d-63bb-4859-98c4-618f1de98303"
      },
      "execution_count": null,
      "outputs": [
        {
          "output_type": "stream",
          "name": "stdout",
          "text": [
            "root\n",
            " |-- Огноо: string (nullable = true)\n",
            " |-- Горимын код: string (nullable = true)\n",
            " |-- Гадаад компани: string (nullable = true)\n",
            " |-- Гарал улс: string (nullable = true)\n",
            " |-- Илгээгч улс: string (nullable = true)\n",
            " |-- Барааны код: string (nullable = true)\n",
            " |-- Барааны оноосон нэр: string (nullable = true)\n",
            " |-- Марк: string (nullable = true)\n",
            " |-- Үзүүлэлт: string (nullable = true)\n",
            " |-- Үйлдвэрлэсэн он: string (nullable = true)\n",
            " |-- Тоо хэмжээ: string (nullable = true)\n",
            " |-- Мотор: string (nullable = true)\n",
            " |-- Өнгө: string (nullable = true)\n",
            " |-- Төрөл: string (nullable = true)\n",
            " |-- Хөтлөгч: string (nullable = true)\n",
            " |-- Түлш: string (nullable = true)\n",
            " |-- Даац: string (nullable = true)\n",
            " |-- Ангилал: string (nullable = true)\n",
            " |-- Зориулалт: string (nullable = true)\n",
            " |-- Бренд: string (nullable = true)\n",
            " |-- Модель: string (nullable = true)\n",
            "\n"
          ]
        }
      ]
    },
    {
      "cell_type": "code",
      "source": [
        "# Basic Data Analysis\n",
        "print(\"Number of columns:\", len(df.columns))\n",
        "print(\"Number of rows:\", df.count())\n",
        "df.select([count(when(col(c).isNull(), 1)).alias(c) for c in df.columns]).show()\n",
        "df.describe().show()"
      ],
      "metadata": {
        "colab": {
          "base_uri": "https://localhost:8080/"
        },
        "id": "nuTG9Zq9BW-9",
        "outputId": "389be8b1-7156-482f-88b7-55958b4c8a35"
      },
      "execution_count": null,
      "outputs": [
        {
          "output_type": "stream",
          "name": "stdout",
          "text": [
            "Number of columns: 21\n",
            "Number of rows: 65872\n",
            "+-----+-----------+--------------+---------+-----------+-----------+-------------------+----+--------+---------------+----------+-----+----+-----+-------+----+-----+-------+---------+-----+------+\n",
            "|Огноо|Горимын код|Гадаад компани|Гарал улс|Илгээгч улс|Барааны код|Барааны оноосон нэр|Марк|Үзүүлэлт|Үйлдвэрлэсэн он|Тоо хэмжээ|Мотор|Өнгө|Төрөл|Хөтлөгч|Түлш| Даац|Ангилал|Зориулалт|Бренд|Модель|\n",
            "+-----+-----------+--------------+---------+-----------+-----------+-------------------+----+--------+---------------+----------+-----+----+-----+-------+----+-----+-------+---------+-----+------+\n",
            "|    0|          0|             0|        0|          0|          0|                  0|   0|       1|              7|         8|  265| 207|  191|    337| 196|65797|     10|       13|  962|   496|\n",
            "+-----+-----------+--------------+---------+-----------+-----------+-------------------+----+--------+---------------+----------+-----+----+-----+-------+----+-----+-------+---------+-----+------+\n",
            "\n",
            "+-------+--------------------+--------------------+--------------------+--------------------+--------------------+-------------------+--------------------+--------------------+--------------------+--------------------+----------+-----------------+------------------+-------------+----------------+------+-----------------+-------+---------+--------------+--------------------+\n",
            "|summary|               Огноо|         Горимын код|      Гадаад компани|           Гарал улс|         Илгээгч улс|        Барааны код| Барааны оноосон нэр|                Марк|            Үзүүлэлт|     Үйлдвэрлэсэн он|Тоо хэмжээ|            Мотор|              Өнгө|        Төрөл|         Хөтлөгч|  Түлш|             Даац|Ангилал|Зориулалт|         Бренд|              Модель|\n",
            "+-------+--------------------+--------------------+--------------------+--------------------+--------------------+-------------------+--------------------+--------------------+--------------------+--------------------+----------+-----------------+------------------+-------------+----------------+------+-----------------+-------+---------+--------------+--------------------+\n",
            "|  count|               65872|               65872|               65872|               65872|               65872|              65872|               65872|               65872|               65871|               65865|     65864|            65607|             65665|        65681|           65535| 65676|               75|  65862|    65859|         64910|               65376|\n",
            "|   mean|                NULL|  407.74940029757386|                 0.0|                NULL|                NULL|8.704223548871952E7|              2010.0|3.571917767803187E11|              2010.0|   66229.40492856166|       1.0|           9375.0|            1005.5|          1.0|            NULL|  NULL|             NULL|   NULL|     NULL|          NULL|4.155844155915205...|\n",
            "| stddev|                NULL|  109.79377006072838|                 0.0|                NULL|                NULL|   458.927075746012|                NULL|3.476051951061209E12|                NULL|   93198.50598659946|       0.0|8504.369465163187|1159.8966908019581|          0.0|            NULL|  NULL|             NULL|   NULL|     NULL|          NULL|5.758487054788544...|\n",
            "|    min| 2021-01-02 00:00:00|  2ш акумлятор со...|\\tYiyang Meihong ...|  2ш акумлятор та...| 2-ш аккумлятор ш...|                  \"| Автомашин, ачаан...|                   \"| босоо баганын то...| тулгуурын бэхэлг...|         \"|                \"|                 1|            1|            10x4|Бензин|2 хүний суудалтай| ND4251|Northbenz|          777E|                   -|\n",
            "|    max|засварласан: тосн...|                 770|Өвөрмонголын Фэй ...|Өмнөд Африкийн Бү...|Өмнөд Африкийн Бү...|           87049000|Цахилгаан гурван ...|арал:LZZ5CLSBXDL5...|өнгө:цагаан, арал...|              202312|         1|           дизель|       өнгө:цагаан|даац: 16070кг|ардаа хөтлөгчтэй|чирэгч|     даац:30720кг| чирэгч|өргөгчтэй|өөрөө буулгагч|              чирэгч|\n",
            "+-------+--------------------+--------------------+--------------------+--------------------+--------------------+-------------------+--------------------+--------------------+--------------------+--------------------+----------+-----------------+------------------+-------------+----------------+------+-----------------+-------+---------+--------------+--------------------+\n",
            "\n"
          ]
        }
      ]
    },
    {
      "cell_type": "code",
      "source": [
        "# Select specific columns to analyze\n",
        "df1 = df.select(col(\"Бренд\"), col(\"Гарал улс\"), col(\"Үйлдвэрлэсэн он\"), col(\"Мотор\"))\n",
        "df1.show(10)"
      ],
      "metadata": {
        "colab": {
          "base_uri": "https://localhost:8080/"
        },
        "id": "7dbVlG3mBWO0",
        "outputId": "9e2b0702-c3a4-45d7-b46e-69788f4fddb7"
      },
      "execution_count": null,
      "outputs": [
        {
          "output_type": "stream",
          "name": "stdout",
          "text": [
            "+------------+---------+---------------+-------+\n",
            "|       Бренд|Гарал улс|Үйлдвэрлэсэн он|  Мотор|\n",
            "+------------+---------+---------------+-------+\n",
            "|         KIA|     БНСУ|           2002| 3298cc|\n",
            "|     Hyundai|     БНСУ|           2003| 1500cc|\n",
            "|Beiben Truck|    БНХАУ|           2011| 9726cc|\n",
            "|     Hyundai|     БНСУ|           2007| 3907cc|\n",
            "|     Hyundai|     БНСУ|           2006| 3907cc|\n",
            "|       Dodge|      АHУ|           2003| 4700cc|\n",
            "|       Volvo|     Швед|           2002|12130cc|\n",
            "|         MAN|    ХБHГУ|           2007|10518cc|\n",
            "|       Volvo|     Швед|           2005|12777cc|\n",
            "|      Nissan|     Япон|           2012| 1790сс|\n",
            "+------------+---------+---------------+-------+\n",
            "only showing top 10 rows\n",
            "\n"
          ]
        }
      ]
    },
    {
      "cell_type": "code",
      "source": [
        "# Show specific columns without truncation\n",
        "df.select(df[\"Бренд\"], df[\"Гарал улс\"]).show(10, truncate=False)"
      ],
      "metadata": {
        "colab": {
          "base_uri": "https://localhost:8080/"
        },
        "id": "6_URA-jgBVi3",
        "outputId": "3c171dcd-82e4-40c8-dff4-9410ba6434eb"
      },
      "execution_count": null,
      "outputs": [
        {
          "output_type": "stream",
          "name": "stdout",
          "text": [
            "+------------+---------+\n",
            "|Бренд       |Гарал улс|\n",
            "+------------+---------+\n",
            "|KIA         |БНСУ     |\n",
            "|Hyundai     |БНСУ     |\n",
            "|Beiben Truck|БНХАУ    |\n",
            "|Hyundai     |БНСУ     |\n",
            "|Hyundai     |БНСУ     |\n",
            "|Dodge       |АHУ      |\n",
            "|Volvo       |Швед     |\n",
            "|MAN         |ХБHГУ    |\n",
            "|Volvo       |Швед     |\n",
            "|Nissan      |Япон     |\n",
            "+------------+---------+\n",
            "only showing top 10 rows\n",
            "\n"
          ]
        }
      ]
    },
    {
      "cell_type": "code",
      "source": [
        "# Show the first 3 columns\n",
        "df.select(df.columns[:3]).show(10)"
      ],
      "metadata": {
        "colab": {
          "base_uri": "https://localhost:8080/"
        },
        "id": "1YqWSxBQBU4F",
        "outputId": "25de8908-52d3-4a55-f9f1-a411c09fceba"
      },
      "execution_count": null,
      "outputs": [
        {
          "output_type": "stream",
          "name": "stdout",
          "text": [
            "+-------------------+-----------+--------------------+\n",
            "|              Огноо|Горимын код|      Гадаад компани|\n",
            "+-------------------+-----------+--------------------+\n",
            "|2021-01-02 00:00:00|        400|             LKHAMAA|\n",
            "|2021-01-02 00:00:00|        400|             LKHAMAA|\n",
            "|2021-01-02 00:00:00|        400|Erenhot City Huan...|\n",
            "|2021-01-02 00:00:00|        400|          MK Shoring|\n",
            "|2021-01-02 00:00:00|        400|          MK trading|\n",
            "|2021-01-02 00:00:00|        400|          MK Shoring|\n",
            "|2021-01-02 00:00:00|        400|         Sky Trading|\n",
            "|2021-01-02 00:00:00|        400|         Sky Trading|\n",
            "|2021-01-02 00:00:00|        400| Truck import export|\n",
            "|2021-01-02 00:00:00|        400| Be forward Co.,Ltd.|\n",
            "+-------------------+-----------+--------------------+\n",
            "only showing top 10 rows\n",
            "\n"
          ]
        }
      ]
    },
    {
      "cell_type": "code",
      "source": [
        "# Filter examples\n",
        "df1.filter(col(\"Үйлдвэрлэсэн он\") == 2011).show(10)\n",
        "df1.filter(col(\"Үйлдвэрлэсэн он\") == 2006).show(10) # Changed this line to use col() function"
      ],
      "metadata": {
        "colab": {
          "base_uri": "https://localhost:8080/"
        },
        "id": "ViV-HtaIBTH3",
        "outputId": "72948636-5599-46d4-90c8-14e7cb9fd62d"
      },
      "execution_count": null,
      "outputs": [
        {
          "output_type": "stream",
          "name": "stdout",
          "text": [
            "+------------+---------+---------------+-------+\n",
            "|       Бренд|Гарал улс|Үйлдвэрлэсэн он|  Мотор|\n",
            "+------------+---------+---------------+-------+\n",
            "|Beiben Truck|    БНХАУ|           2011| 9726cc|\n",
            "|         KIA|     БНСУ|           2011| 2476cc|\n",
            "|      Nissan|     Япон|           2011| 1790сс|\n",
            "|      Nissan|     Япон|           2011| 1590cc|\n",
            "|      Nissan|     Япон|           2011| 2950cc|\n",
            "|     Hyundai|     БНСУ|           2011| 2476cc|\n",
            "|     Hyundai|     БНСУ|           2011| 2476сс|\n",
            "|         KIA|     БНСУ|           2011| 2700cc|\n",
            "|      Nissan|     Япон|           2011| 1790сс|\n",
            "|       Volvo|     Швед|           2011|12777cc|\n",
            "+------------+---------+---------------+-------+\n",
            "only showing top 10 rows\n",
            "\n",
            "+---------+---------+---------------+------+\n",
            "|    Бренд|Гарал улс|Үйлдвэрлэсэн он| Мотор|\n",
            "+---------+---------+---------------+------+\n",
            "|  Hyundai|     БНСУ|           2006|3907cc|\n",
            "|  Hyundai|     БНСУ|           2006|2450cc|\n",
            "|  Hyundai|     БНСУ|           2006|2476cc|\n",
            "|  Hyundai|     БНСУ|           2006|2476cc|\n",
            "|Ssangyong|     БНСУ|           2006|2700cc|\n",
            "|  Hyundai|     БНСУ|           2006|3200cc|\n",
            "|  Hyundai|     БНСУ|           2006|2476cc|\n",
            "|      KIA|     БНСУ|           2006|2480cc|\n",
            "|    Mazda|     Япон|           2006|1990сс|\n",
            "|  Hyundai|     БНСУ|           2006|2476cc|\n",
            "+---------+---------+---------------+------+\n",
            "only showing top 10 rows\n",
            "\n"
          ]
        }
      ]
    },
    {
      "cell_type": "code",
      "source": [
        "# Sorting examples\n",
        "df1.sort(col(\"Бренд\").desc()).show(10)"
      ],
      "metadata": {
        "colab": {
          "base_uri": "https://localhost:8080/"
        },
        "id": "9spODkYCBR--",
        "outputId": "81a0e8f0-c32c-45d5-bbe9-979968570ea0"
      },
      "execution_count": null,
      "outputs": [
        {
          "output_type": "stream",
          "name": "stdout",
          "text": [
            "+--------------+--------------------+--------------------+--------------+\n",
            "|         Бренд|           Гарал улс|     Үйлдвэрлэсэн он|         Мотор|\n",
            "+--------------+--------------------+--------------------+--------------+\n",
            "|өөрөө буулгагч|               БНХАУ|                2021|Хөд.баг:6000сс|\n",
            "|   даац: 26750|  2ш акумлятор та...| хурдны хайрцаг з...|             \"|\n",
            "| даац: 15670кг| их гэрэл хойд гэ...| хөдөлгүүр засвар...|             \"|\n",
            "|          Урал|                 ОХУ|                1982|        7000cc|\n",
            "|          Урал|                 ОХУ|                1987|        7000cc|\n",
            "|          Урал|                 ОХУ|                1987|        7000cc|\n",
            "|          Урал|                 ОХУ|                1982|        7000cc|\n",
            "|           УАЗ|                 ОХУ|                2022|        2693cc|\n",
            "|           УАЗ|                 ОХУ|                2022|        2693cc|\n",
            "|           УАЗ|                 ОХУ|                2022|        2693cc|\n",
            "+--------------+--------------------+--------------------+--------------+\n",
            "only showing top 10 rows\n",
            "\n"
          ]
        }
      ]
    },
    {
      "cell_type": "code",
      "source": [
        "# Average motor size by brand\n",
        "avg_motor_by_brand = df.groupBy(col(\"Бренд\")).agg({\"Мотор\": \"avg\"}).withColumnRenamed(\"avg(Мотор)\", \"avg_motor\")\n",
        "avg_motor_by_brand.orderBy(desc(\"avg_motor\")).limit(10).show(truncate=False)"
      ],
      "metadata": {
        "colab": {
          "base_uri": "https://localhost:8080/"
        },
        "id": "czstklqqBQn_",
        "outputId": "7b6f37b1-b61e-4117-a28b-8e482e9a8185"
      },
      "execution_count": null,
      "outputs": [
        {
          "output_type": "stream",
          "name": "stdout",
          "text": [
            "+-----------------------------------+---------+\n",
            "|Бренд                              |avg_motor|\n",
            "+-----------------------------------+---------+\n",
            "|Hino                               |16740.0  |\n",
            "|Автомашин                          |2010.0   |\n",
            "|Volkswagen                         |NULL     |\n",
            "|International                      |NULL     |\n",
            "|CAT 773E                           |NULL     |\n",
            "|Forland                            |NULL     |\n",
            "|Senta dump truck                   |NULL     |\n",
            "|Sinotruck Styer                    |NULL     |\n",
            "|Baotou Bei Ben Heavy-duty truck Co.|NULL     |\n",
            "|ISUZU D-Max                        |NULL     |\n",
            "+-----------------------------------+---------+\n",
            "\n"
          ]
        }
      ]
    },
    {
      "cell_type": "code",
      "source": [
        "# Show the brand with the highest average motor size\n",
        "avg_motor_by_brand.select(\"Бренд\").orderBy(desc(\"avg_motor\")).limit(1).show()"
      ],
      "metadata": {
        "colab": {
          "base_uri": "https://localhost:8080/"
        },
        "id": "jSkj_JV7BP4D",
        "outputId": "a431ea1a-2b71-4484-c76c-86e66f43c7c7"
      },
      "execution_count": null,
      "outputs": [
        {
          "output_type": "stream",
          "name": "stdout",
          "text": [
            "+-----+\n",
            "|Бренд|\n",
            "+-----+\n",
            "| Hino|\n",
            "+-----+\n",
            "\n"
          ]
        }
      ]
    },
    {
      "cell_type": "code",
      "source": [
        "# Show the brand with the lowest average motor size\n",
        "avg_motor_by_brand.dropna().orderBy(asc(\"avg_motor\")).limit(10).show(truncate=False)\n",
        "avg_motor_by_brand.dropna().select(\"Бренд\").orderBy(asc(\"avg_motor\")).limit(1).show(truncate=False)"
      ],
      "metadata": {
        "colab": {
          "base_uri": "https://localhost:8080/"
        },
        "id": "grPrKXcABPFI",
        "outputId": "628fda16-2452-445c-80be-f72800f3baa7"
      },
      "execution_count": null,
      "outputs": [
        {
          "output_type": "stream",
          "name": "stdout",
          "text": [
            "+---------+---------+\n",
            "|Бренд    |avg_motor|\n",
            "+---------+---------+\n",
            "|Автомашин|2010.0   |\n",
            "|Hino     |16740.0  |\n",
            "+---------+---------+\n",
            "\n",
            "+---------+\n",
            "|Бренд    |\n",
            "+---------+\n",
            "|Автомашин|\n",
            "+---------+\n",
            "\n"
          ]
        }
      ]
    },
    {
      "cell_type": "code",
      "source": [
        "# Average motor size by country of origin\n",
        "motor_avg_by_origin = df.groupBy(\"Гарал улс\").agg(round(avg(\"Мотор\"), 1).alias(\"avg_motor_size\"))\n",
        "motor_avg_by_origin.dropna().show()"
      ],
      "metadata": {
        "colab": {
          "base_uri": "https://localhost:8080/"
        },
        "id": "b2ioBXFnBN7m",
        "outputId": "9e9dad9c-00db-4471-c202-9d8712f36682"
      },
      "execution_count": null,
      "outputs": [
        {
          "output_type": "stream",
          "name": "stdout",
          "text": [
            "+--------------------+--------------+\n",
            "|           Гарал улс|avg_motor_size|\n",
            "+--------------------+--------------+\n",
            "|                Япон|       16740.0|\n",
            "|       түлшний насос|        2010.0|\n",
            "|  2ш акумлятор та...|        2010.0|\n",
            "+--------------------+--------------+\n",
            "\n"
          ]
        }
      ]
    },
    {
      "cell_type": "code",
      "source": [
        "# Filter cars by specific feature\n",
        "df.select(df.columns[:3]).filter(col(\"Үзүүлэлт\").like(\"%Дизель%\")) .show(10, truncate=False)"
      ],
      "metadata": {
        "colab": {
          "base_uri": "https://localhost:8080/"
        },
        "id": "CHJa9kWwBNJV",
        "outputId": "eab73973-8536-4641-8124-693a038cb9df"
      },
      "execution_count": null,
      "outputs": [
        {
          "output_type": "stream",
          "name": "stdout",
          "text": [
            "+-------------------+-----------+----------------------------------------+\n",
            "|Огноо              |Горимын код|Гадаад компани                          |\n",
            "+-------------------+-----------+----------------------------------------+\n",
            "|2021-01-02 00:00:00|400        |LKHAMAA                                 |\n",
            "|2021-01-02 00:00:00|400        |LKHAMAA                                 |\n",
            "|2021-01-02 00:00:00|400        |Erenhot City Huan Tong Logistics Co.,ltd|\n",
            "|2021-01-02 00:00:00|400        |MK Shoring                              |\n",
            "|2021-01-02 00:00:00|400        |MK trading                              |\n",
            "|2021-01-02 00:00:00|400        |MK Shoring                              |\n",
            "|2021-01-02 00:00:00|400        |Sky Trading                             |\n",
            "|2021-01-02 00:00:00|400        |Sky Trading                             |\n",
            "|2021-01-02 00:00:00|400        |Truck import export                     |\n",
            "|2021-01-02 00:00:00|400        |Jinseong Shoring                        |\n",
            "+-------------------+-----------+----------------------------------------+\n",
            "only showing top 10 rows\n",
            "\n"
          ]
        }
      ]
    },
    {
      "cell_type": "code",
      "source": [
        "# Count cars with a specific feature\n",
        "diesel_cars = df.filter(col(\"Түлш\").like(\"%Дизель%\"))\n",
        "print(\"Number of diesel cars:\", diesel_cars.count())"
      ],
      "metadata": {
        "colab": {
          "base_uri": "https://localhost:8080/"
        },
        "id": "t96GCeyUBMPy",
        "outputId": "123b9e66-db21-406c-ba5b-d672e58d9b5f"
      },
      "execution_count": null,
      "outputs": [
        {
          "output_type": "stream",
          "name": "stdout",
          "text": [
            "Number of diesel cars: 57866\n"
          ]
        }
      ]
    },
    {
      "cell_type": "code",
      "source": [
        "# Count by type of car\n",
        "df.groupBy(\"Ангилал\").count().show(truncate=False)"
      ],
      "metadata": {
        "colab": {
          "base_uri": "https://localhost:8080/"
        },
        "id": "Gv2EgWdFBLXJ",
        "outputId": "338939ac-d43c-41ca-f95f-828659726335"
      },
      "execution_count": null,
      "outputs": [
        {
          "output_type": "stream",
          "name": "stdout",
          "text": [
            "+-----------------------+-----+\n",
            "|Ангилал                |count|\n",
            "+-----------------------+-----+\n",
            "|Автомашин              |65850|\n",
            "|Автофургон             |8    |\n",
            "|NULL                   |10   |\n",
            "|ND4251                 |1    |\n",
            "|чирэгч                 |1    |\n",
            "|Цахилгаан гурван дугуйт|2    |\n",
            "+-----------------------+-----+\n",
            "\n"
          ]
        }
      ]
    },
    {
      "cell_type": "code",
      "source": [
        "# Average motor size by brand and country of origin\n",
        "avg_motor_by_origin_brand = df.groupBy(\"Гарал улс\", \"Бренд\").agg(round(avg(\"Мотор\"), 1).alias(\"average_motor_size\")).orderBy(asc(\"Гарал улс\"))\n",
        "avg_motor_by_origin_brand.dropna().show(truncate=False)"
      ],
      "metadata": {
        "colab": {
          "base_uri": "https://localhost:8080/"
        },
        "id": "sc_8FKteBKfF",
        "outputId": "54053a86-2145-4e4c-946d-8c9967764f85"
      },
      "execution_count": null,
      "outputs": [
        {
          "output_type": "stream",
          "name": "stdout",
          "text": [
            "+----------------------+---------+------------------+\n",
            "|Гарал улс             |Бренд    |average_motor_size|\n",
            "+----------------------+---------+------------------+\n",
            "|  2ш акумлятор тависан|Автомашин|2010.0            |\n",
            "| түлшний насос        |Автомашин|2010.0            |\n",
            "|Япон                  |Hino     |16740.0           |\n",
            "+----------------------+---------+------------------+\n",
            "\n"
          ]
        }
      ]
    },
    {
      "cell_type": "code",
      "source": [
        "# Count the number of cars produced each year\n",
        "cars_per_year = df.groupBy(\"Үйлдвэрлэсэн он\").agg(count(\"Бренд\").alias(\"No of Cars\")).orderBy(desc(\"Үйлдвэрлэсэн он\"))\n",
        "cars_per_year.show()"
      ],
      "metadata": {
        "colab": {
          "base_uri": "https://localhost:8080/"
        },
        "id": "T9hNTtxLBJaT",
        "outputId": "37b1b8f7-3e7e-43f7-fa8f-3e38c5149456"
      },
      "execution_count": null,
      "outputs": [
        {
          "output_type": "stream",
          "name": "stdout",
          "text": [
            "+---------------+----------+\n",
            "|Үйлдвэрлэсэн он|No of Cars|\n",
            "+---------------+----------+\n",
            "|         202312|       189|\n",
            "|         202311|       819|\n",
            "|         202310|       395|\n",
            "|         202309|       186|\n",
            "|         202308|       180|\n",
            "|         202307|       141|\n",
            "|         202306|       470|\n",
            "|         202305|       697|\n",
            "|         202304|       513|\n",
            "|         202303|       478|\n",
            "|         202302|       392|\n",
            "|         202301|       244|\n",
            "|           2023|        23|\n",
            "|         202212|       295|\n",
            "|         202211|       354|\n",
            "|         202210|        99|\n",
            "|         202209|       161|\n",
            "|         202208|       206|\n",
            "|         202207|       179|\n",
            "|         202206|        35|\n",
            "+---------------+----------+\n",
            "only showing top 20 rows\n",
            "\n"
          ]
        }
      ]
    },
    {
      "cell_type": "code",
      "source": [
        "# Change data type of motor size to integer\n",
        "changed_datatype = df.select(col(\"Мотор\").cast(\"int\"), col(\"Бренд\"), col(\"Ангилал\"), col(\"Гарал улс\"))\n",
        "top_motor_size = changed_datatype.filter(col(\"Ангилал\") == \"Автомашин\").orderBy(desc(\"Мотор\")).limit(3)\n",
        "top_motor_size.show(truncate=False)"
      ],
      "metadata": {
        "colab": {
          "base_uri": "https://localhost:8080/"
        },
        "id": "lsBnzlftBI0z",
        "outputId": "67fef4d6-454d-4687-be61-463f0a3546e4"
      },
      "execution_count": null,
      "outputs": [
        {
          "output_type": "stream",
          "name": "stdout",
          "text": [
            "+-----+-------+---------+---------+\n",
            "|Мотор|Бренд  |Ангилал  |Гарал улс|\n",
            "+-----+-------+---------+---------+\n",
            "|16740|Hino   |Автомашин|Япон     |\n",
            "|16740|Hino   |Автомашин|Япон     |\n",
            "|NULL |Shaanxi|Автомашин|БНХАУ    |\n",
            "+-----+-------+---------+---------+\n",
            "\n"
          ]
        }
      ]
    },
    {
      "cell_type": "code",
      "source": [
        "# Add a column indicating the presence of a specific feature\n",
        "car_with_feature = df.withColumn(\"has_specific_feature\", when(col(\"Түлш\") == \"Дизель\", \"yes\").otherwise(\"no\"))\n",
        "avg_motor_by_feature = car_with_feature.groupBy(\"has_specific_feature\").agg(round(avg(\"Мотор\"), 1).alias(\"average_motor\"))\n",
        "avg_motor_by_feature.show()\n"
      ],
      "metadata": {
        "colab": {
          "base_uri": "https://localhost:8080/"
        },
        "id": "l3u_mOdXBHfH",
        "outputId": "6f384c0f-caee-4400-fdf8-ca9493f038bc"
      },
      "execution_count": null,
      "outputs": [
        {
          "output_type": "stream",
          "name": "stdout",
          "text": [
            "+--------------------+-------------+\n",
            "|has_specific_feature|average_motor|\n",
            "+--------------------+-------------+\n",
            "|                  no|       2010.0|\n",
            "|                 yes|      16740.0|\n",
            "+--------------------+-------------+\n",
            "\n"
          ]
        }
      ]
    },
    {
      "cell_type": "code",
      "source": [
        "# Most common country of origin\n",
        "most_common_origin = df.groupBy(\"Гарал улс\").agg(count(\"Бренд\").alias(\"no of cars\")).orderBy(desc(\"no of cars\")).limit(1)\n",
        "most_common_origin.select(df[\"Гарал улс\"].alias(\"most common origin\")).show()\n",
        "\n"
      ],
      "metadata": {
        "colab": {
          "base_uri": "https://localhost:8080/"
        },
        "id": "2hYT_LyPBF8C",
        "outputId": "829c9381-d0d4-42b8-e843-6530d4eb5c72"
      },
      "execution_count": null,
      "outputs": [
        {
          "output_type": "stream",
          "name": "stdout",
          "text": [
            "+------------------+\n",
            "|most common origin|\n",
            "+------------------+\n",
            "|              БНСУ|\n",
            "+------------------+\n",
            "\n"
          ]
        }
      ]
    },
    {
      "cell_type": "code",
      "source": [
        "# Average motor size and production year by category\n",
        "avg_motor_by_category = df.groupBy(\"Ангилал\").agg(round(avg(\"Мотор\"), 1).alias(\"average_motor_size\"), round(avg(\"Үйлдвэрлэсэн он\"), 1).alias(\"average_year\"))\n",
        "avg_motor_by_category.dropna().show(truncate=False)\n"
      ],
      "metadata": {
        "colab": {
          "base_uri": "https://localhost:8080/"
        },
        "id": "-GDIHQIwBFCT",
        "outputId": "36687e0b-567d-4dfb-cdb3-d107f362ff70"
      },
      "execution_count": null,
      "outputs": [
        {
          "output_type": "stream",
          "name": "stdout",
          "text": [
            "+---------+------------------+------------+\n",
            "|Ангилал  |average_motor_size|average_year|\n",
            "+---------+------------------+------------+\n",
            "|Автомашин|16740.0           |66231.1     |\n",
            "+---------+------------------+------------+\n",
            "\n"
          ]
        }
      ]
    }
  ]
}